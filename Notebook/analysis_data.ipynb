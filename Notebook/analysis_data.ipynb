{
 "cells": [
  {
   "cell_type": "code",
   "execution_count": 51,
   "id": "eb71ac6d",
   "metadata": {},
   "outputs": [],
   "source": [
    "import pandas as pd\n",
    "import numpy as np\n",
    "import matplotlib.pyplot as plt\n",
    "import seaborn as sns\n",
    "import plotly.express as px\n",
    "\n",
    "from sklearn.cluster import KMeans"
   ]
  },
  {
   "cell_type": "markdown",
   "id": "a5d9233c",
   "metadata": {},
   "source": [
    "## Ceking Dataset"
   ]
  },
  {
   "cell_type": "code",
   "execution_count": 52,
   "id": "1fd7ffb8",
   "metadata": {},
   "outputs": [],
   "source": [
    "df = pd.read_csv('../Dataset/StudentMentalHealth.csv')"
   ]
  },
  {
   "cell_type": "code",
   "execution_count": 53,
   "id": "8c8b32f0",
   "metadata": {},
   "outputs": [
    {
     "name": "stdout",
     "output_type": "stream",
     "text": [
      "<class 'pandas.core.frame.DataFrame'>\n",
      "RangeIndex: 1000 entries, 0 to 999\n",
      "Data columns (total 10 columns):\n",
      " #   Column                        Non-Null Count  Dtype  \n",
      "---  ------                        --------------  -----  \n",
      " 0   Name                          1000 non-null   object \n",
      " 1   Gender                        1000 non-null   object \n",
      " 2   Age                           1000 non-null   int64  \n",
      " 3   Education Level               1000 non-null   object \n",
      " 4   Screen Time (hrs/day)         1000 non-null   float64\n",
      " 5   Sleep Duration (hrs)          1000 non-null   float64\n",
      " 6   Physical Activity (hrs/week)  1000 non-null   float64\n",
      " 7   Stress Level                  1000 non-null   object \n",
      " 8   Anxious Before Exams          1000 non-null   object \n",
      " 9   Academic Performance Change   1000 non-null   object \n",
      "dtypes: float64(3), int64(1), object(6)\n",
      "memory usage: 78.3+ KB\n",
      "     Name  Gender  Age Education Level  Screen Time (hrs/day)  \\\n",
      "0   Aarav    Male   15         Class 8                    7.1   \n",
      "1   Meera  Female   25             MSc                    3.3   \n",
      "2  Ishaan    Male   20           BTech                    9.5   \n",
      "3  Aditya    Male   20              BA                   10.8   \n",
      "4   Anika  Female   17        Class 11                    2.8   \n",
      "\n",
      "   Sleep Duration (hrs)  Physical Activity (hrs/week) Stress Level  \\\n",
      "0                   8.9                           9.3       Medium   \n",
      "1                   5.0                           0.2       Medium   \n",
      "2                   5.4                           6.2       Medium   \n",
      "3                   5.6                           5.5         High   \n",
      "4                   5.4                           3.1       Medium   \n",
      "\n",
      "  Anxious Before Exams Academic Performance Change  \n",
      "0                   No                        Same  \n",
      "1                   No                        Same  \n",
      "2                   No                        Same  \n",
      "3                  Yes                        Same  \n",
      "4                  Yes                        Same  \n"
     ]
    }
   ],
   "source": [
    "df.info()\n",
    "print(df.head(5))"
   ]
  },
  {
   "cell_type": "code",
   "execution_count": 54,
   "id": "7dc8bd1f",
   "metadata": {},
   "outputs": [
    {
     "name": "stdout",
     "output_type": "stream",
     "text": [
      "Missing value\n",
      "Name                            0\n",
      "Gender                          0\n",
      "Age                             0\n",
      "Education Level                 0\n",
      "Screen Time (hrs/day)           0\n",
      "Sleep Duration (hrs)            0\n",
      "Physical Activity (hrs/week)    0\n",
      "Stress Level                    0\n",
      "Anxious Before Exams            0\n",
      "Academic Performance Change     0\n",
      "dtype: int64\n",
      "duplikasi data\n",
      "0\n"
     ]
    }
   ],
   "source": [
    "print('Missing value')\n",
    "print(df.isnull().sum())\n",
    "\n",
    "print('duplikasi data')\n",
    "print(df.duplicated().sum())"
   ]
  },
  {
   "cell_type": "code",
   "execution_count": 55,
   "id": "7d7e4c1c",
   "metadata": {},
   "outputs": [],
   "source": [
    "# >>> Mapping stress level <<<\n",
    "stress_order = ['Low', 'Medium', 'High']\n",
    "df['Stress Level'] = pd.Categorical(df['Stress Level'], categories=stress_order, ordered=True)\n",
    "\n",
    "df['Anxious Before Exams Binary'] = df['Anxious Before Exams'].map({'Yes': 1, 'No': 0})"
   ]
  },
  {
   "cell_type": "code",
   "execution_count": 56,
   "id": "e36e3b3d",
   "metadata": {},
   "outputs": [
    {
     "name": "stdout",
     "output_type": "stream",
     "text": [
      "\n",
      "Distribusi Aktivitas Fisik yang Sudah Dikategorikan:\n",
      "Physical Activity Category\n",
      "High      593\n",
      "Medium    219\n",
      "Low       188\n",
      "Name: count, dtype: int64\n"
     ]
    }
   ],
   "source": [
    "# Membuat kategori untuk 'Physical Activity (hrs/week)'\n",
    "# Kita bisa menentukan batas sendiri berdasarkan distribusi data atau pengetahuan domain\n",
    "# Contoh: 0-2 jam/minggu (Rendah), 2-4 jam/minggu (Sedang), >5 jam/minggu (Tinggi)\n",
    "bins = [0, 2, 4, df['Physical Activity (hrs/week)'].max() + 1] # +1 untuk memastikan nilai max masuk\n",
    "labels = ['Low', 'Medium', 'High']\n",
    "df['Physical Activity Category'] = pd.cut(df['Physical Activity (hrs/week)'], bins=bins, labels=labels, right=False)\n",
    "\n",
    "# Memastikan urutan kategori aktivitas fisik\n",
    "physical_activity_order = ['Low', 'Medium', 'High']\n",
    "df['Physical Activity Category'] = pd.Categorical(df['Physical Activity Category'], categories=physical_activity_order, ordered=True)\n",
    "\n",
    "print(\"\\nDistribusi Aktivitas Fisik yang Sudah Dikategorikan:\")\n",
    "print(df['Physical Activity Category'].value_counts())"
   ]
  },
  {
   "cell_type": "code",
   "execution_count": 57,
   "id": "21bc41e5",
   "metadata": {},
   "outputs": [
    {
     "name": "stdout",
     "output_type": "stream",
     "text": [
      "\n",
      "Distribusi Aktivitas Fisik yang Sudah Dikategorikan:\n",
      "Screen Time Category\n",
      "Medium    415\n",
      "High      334\n",
      "Low       251\n",
      "Name: count, dtype: int64\n"
     ]
    }
   ],
   "source": [
    "# Membuat kategori untuk 'Screen Time (hrs/day)'\n",
    "# Kita bisa menentukan batas sendiri berdasarkan distribusi data atau pengetahuan domain\n",
    "# Contoh: 0-4.5 jam/hari (Rendah), 4.6-8.5 jam/hari (Sedang), >8.5 jam/hari (Tinggi)\n",
    "bins = [0, 4.5, 8.5, df['Screen Time (hrs/day)'].max() + 1] # +1 untuk memastikan nilai max masuk\n",
    "labels = ['Low', 'Medium', 'High']\n",
    "df['Screen Time Category'] = pd.cut(df['Screen Time (hrs/day)'], bins=bins, labels=labels, right=False)\n",
    "\n",
    "# Memastikan urutan kategori \n",
    "screen_time_order = ['Low', 'Medium', 'High']\n",
    "df['Screen Time Category'] = pd.Categorical(df['Screen Time Category'], categories=physical_activity_order, ordered=True)\n",
    "\n",
    "print(\"\\nDistribusi Aktivitas Fisik yang Sudah Dikategorikan:\")\n",
    "print(df['Screen Time Category'].value_counts())"
   ]
  },
  {
   "cell_type": "code",
   "execution_count": 58,
   "id": "1742c2ee",
   "metadata": {},
   "outputs": [
    {
     "name": "stdout",
     "output_type": "stream",
     "text": [
      "\n",
      "Dataset setelah pra-pemrosesan:\n"
     ]
    },
    {
     "data": {
      "text/html": [
       "<div>\n",
       "<style scoped>\n",
       "    .dataframe tbody tr th:only-of-type {\n",
       "        vertical-align: middle;\n",
       "    }\n",
       "\n",
       "    .dataframe tbody tr th {\n",
       "        vertical-align: top;\n",
       "    }\n",
       "\n",
       "    .dataframe thead th {\n",
       "        text-align: right;\n",
       "    }\n",
       "</style>\n",
       "<table border=\"1\" class=\"dataframe\">\n",
       "  <thead>\n",
       "    <tr style=\"text-align: right;\">\n",
       "      <th></th>\n",
       "      <th>Name</th>\n",
       "      <th>Gender</th>\n",
       "      <th>Age</th>\n",
       "      <th>Education Level</th>\n",
       "      <th>Screen Time (hrs/day)</th>\n",
       "      <th>Sleep Duration (hrs)</th>\n",
       "      <th>Physical Activity (hrs/week)</th>\n",
       "      <th>Stress Level</th>\n",
       "      <th>Anxious Before Exams</th>\n",
       "      <th>Academic Performance Change</th>\n",
       "      <th>Anxious Before Exams Binary</th>\n",
       "      <th>Physical Activity Category</th>\n",
       "      <th>Screen Time Category</th>\n",
       "    </tr>\n",
       "  </thead>\n",
       "  <tbody>\n",
       "    <tr>\n",
       "      <th>0</th>\n",
       "      <td>Aarav</td>\n",
       "      <td>Male</td>\n",
       "      <td>15</td>\n",
       "      <td>Class 8</td>\n",
       "      <td>7.1</td>\n",
       "      <td>8.9</td>\n",
       "      <td>9.3</td>\n",
       "      <td>Medium</td>\n",
       "      <td>No</td>\n",
       "      <td>Same</td>\n",
       "      <td>0</td>\n",
       "      <td>High</td>\n",
       "      <td>Medium</td>\n",
       "    </tr>\n",
       "    <tr>\n",
       "      <th>1</th>\n",
       "      <td>Meera</td>\n",
       "      <td>Female</td>\n",
       "      <td>25</td>\n",
       "      <td>MSc</td>\n",
       "      <td>3.3</td>\n",
       "      <td>5.0</td>\n",
       "      <td>0.2</td>\n",
       "      <td>Medium</td>\n",
       "      <td>No</td>\n",
       "      <td>Same</td>\n",
       "      <td>0</td>\n",
       "      <td>Low</td>\n",
       "      <td>Low</td>\n",
       "    </tr>\n",
       "    <tr>\n",
       "      <th>2</th>\n",
       "      <td>Ishaan</td>\n",
       "      <td>Male</td>\n",
       "      <td>20</td>\n",
       "      <td>BTech</td>\n",
       "      <td>9.5</td>\n",
       "      <td>5.4</td>\n",
       "      <td>6.2</td>\n",
       "      <td>Medium</td>\n",
       "      <td>No</td>\n",
       "      <td>Same</td>\n",
       "      <td>0</td>\n",
       "      <td>High</td>\n",
       "      <td>High</td>\n",
       "    </tr>\n",
       "    <tr>\n",
       "      <th>3</th>\n",
       "      <td>Aditya</td>\n",
       "      <td>Male</td>\n",
       "      <td>20</td>\n",
       "      <td>BA</td>\n",
       "      <td>10.8</td>\n",
       "      <td>5.6</td>\n",
       "      <td>5.5</td>\n",
       "      <td>High</td>\n",
       "      <td>Yes</td>\n",
       "      <td>Same</td>\n",
       "      <td>1</td>\n",
       "      <td>High</td>\n",
       "      <td>High</td>\n",
       "    </tr>\n",
       "    <tr>\n",
       "      <th>4</th>\n",
       "      <td>Anika</td>\n",
       "      <td>Female</td>\n",
       "      <td>17</td>\n",
       "      <td>Class 11</td>\n",
       "      <td>2.8</td>\n",
       "      <td>5.4</td>\n",
       "      <td>3.1</td>\n",
       "      <td>Medium</td>\n",
       "      <td>Yes</td>\n",
       "      <td>Same</td>\n",
       "      <td>1</td>\n",
       "      <td>Medium</td>\n",
       "      <td>Low</td>\n",
       "    </tr>\n",
       "    <tr>\n",
       "      <th>5</th>\n",
       "      <td>Aditya</td>\n",
       "      <td>Male</td>\n",
       "      <td>23</td>\n",
       "      <td>MSc</td>\n",
       "      <td>8.6</td>\n",
       "      <td>8.4</td>\n",
       "      <td>0.1</td>\n",
       "      <td>Low</td>\n",
       "      <td>No</td>\n",
       "      <td>Improved</td>\n",
       "      <td>0</td>\n",
       "      <td>Low</td>\n",
       "      <td>High</td>\n",
       "    </tr>\n",
       "    <tr>\n",
       "      <th>6</th>\n",
       "      <td>Vivaan</td>\n",
       "      <td>Male</td>\n",
       "      <td>22</td>\n",
       "      <td>MTech</td>\n",
       "      <td>3.6</td>\n",
       "      <td>6.6</td>\n",
       "      <td>0.5</td>\n",
       "      <td>Medium</td>\n",
       "      <td>Yes</td>\n",
       "      <td>Improved</td>\n",
       "      <td>1</td>\n",
       "      <td>Low</td>\n",
       "      <td>Low</td>\n",
       "    </tr>\n",
       "    <tr>\n",
       "      <th>7</th>\n",
       "      <td>Arjun</td>\n",
       "      <td>Male</td>\n",
       "      <td>25</td>\n",
       "      <td>MTech</td>\n",
       "      <td>7.0</td>\n",
       "      <td>4.7</td>\n",
       "      <td>4.5</td>\n",
       "      <td>Medium</td>\n",
       "      <td>No</td>\n",
       "      <td>Same</td>\n",
       "      <td>0</td>\n",
       "      <td>High</td>\n",
       "      <td>Medium</td>\n",
       "    </tr>\n",
       "    <tr>\n",
       "      <th>8</th>\n",
       "      <td>Sai</td>\n",
       "      <td>Male</td>\n",
       "      <td>20</td>\n",
       "      <td>BA</td>\n",
       "      <td>4.8</td>\n",
       "      <td>5.0</td>\n",
       "      <td>7.9</td>\n",
       "      <td>Medium</td>\n",
       "      <td>No</td>\n",
       "      <td>Improved</td>\n",
       "      <td>0</td>\n",
       "      <td>High</td>\n",
       "      <td>Medium</td>\n",
       "    </tr>\n",
       "    <tr>\n",
       "      <th>9</th>\n",
       "      <td>Aadhya</td>\n",
       "      <td>Female</td>\n",
       "      <td>16</td>\n",
       "      <td>Class 9</td>\n",
       "      <td>8.9</td>\n",
       "      <td>8.4</td>\n",
       "      <td>7.8</td>\n",
       "      <td>Low</td>\n",
       "      <td>Yes</td>\n",
       "      <td>Improved</td>\n",
       "      <td>1</td>\n",
       "      <td>High</td>\n",
       "      <td>High</td>\n",
       "    </tr>\n",
       "  </tbody>\n",
       "</table>\n",
       "</div>"
      ],
      "text/plain": [
       "     Name  Gender  Age Education Level  Screen Time (hrs/day)  \\\n",
       "0   Aarav    Male   15         Class 8                    7.1   \n",
       "1   Meera  Female   25             MSc                    3.3   \n",
       "2  Ishaan    Male   20           BTech                    9.5   \n",
       "3  Aditya    Male   20              BA                   10.8   \n",
       "4   Anika  Female   17        Class 11                    2.8   \n",
       "5  Aditya    Male   23             MSc                    8.6   \n",
       "6  Vivaan    Male   22           MTech                    3.6   \n",
       "7   Arjun    Male   25           MTech                    7.0   \n",
       "8     Sai    Male   20              BA                    4.8   \n",
       "9  Aadhya  Female   16         Class 9                    8.9   \n",
       "\n",
       "   Sleep Duration (hrs)  Physical Activity (hrs/week) Stress Level  \\\n",
       "0                   8.9                           9.3       Medium   \n",
       "1                   5.0                           0.2       Medium   \n",
       "2                   5.4                           6.2       Medium   \n",
       "3                   5.6                           5.5         High   \n",
       "4                   5.4                           3.1       Medium   \n",
       "5                   8.4                           0.1          Low   \n",
       "6                   6.6                           0.5       Medium   \n",
       "7                   4.7                           4.5       Medium   \n",
       "8                   5.0                           7.9       Medium   \n",
       "9                   8.4                           7.8          Low   \n",
       "\n",
       "  Anxious Before Exams Academic Performance Change  \\\n",
       "0                   No                        Same   \n",
       "1                   No                        Same   \n",
       "2                   No                        Same   \n",
       "3                  Yes                        Same   \n",
       "4                  Yes                        Same   \n",
       "5                   No                    Improved   \n",
       "6                  Yes                    Improved   \n",
       "7                   No                        Same   \n",
       "8                   No                    Improved   \n",
       "9                  Yes                    Improved   \n",
       "\n",
       "   Anxious Before Exams Binary Physical Activity Category Screen Time Category  \n",
       "0                            0                       High               Medium  \n",
       "1                            0                        Low                  Low  \n",
       "2                            0                       High                 High  \n",
       "3                            1                       High                 High  \n",
       "4                            1                     Medium                  Low  \n",
       "5                            0                        Low                 High  \n",
       "6                            1                        Low                  Low  \n",
       "7                            0                       High               Medium  \n",
       "8                            0                       High               Medium  \n",
       "9                            1                       High                 High  "
      ]
     },
     "execution_count": 58,
     "metadata": {},
     "output_type": "execute_result"
    }
   ],
   "source": [
    "\n",
    "print(\"\\nDataset setelah pra-pemrosesan:\")\n",
    "df.head(10)"
   ]
  },
  {
   "cell_type": "markdown",
   "id": "b58566a4",
   "metadata": {},
   "source": [
    "## EDA (Eksploratory Data Analicys)"
   ]
  },
  {
   "cell_type": "code",
   "execution_count": 59,
   "id": "3419e0f1",
   "metadata": {},
   "outputs": [
    {
     "data": {
      "text/html": [
       "<div>\n",
       "<style scoped>\n",
       "    .dataframe tbody tr th:only-of-type {\n",
       "        vertical-align: middle;\n",
       "    }\n",
       "\n",
       "    .dataframe tbody tr th {\n",
       "        vertical-align: top;\n",
       "    }\n",
       "\n",
       "    .dataframe thead th {\n",
       "        text-align: right;\n",
       "    }\n",
       "</style>\n",
       "<table border=\"1\" class=\"dataframe\">\n",
       "  <thead>\n",
       "    <tr style=\"text-align: right;\">\n",
       "      <th></th>\n",
       "      <th>Name</th>\n",
       "      <th>Gender</th>\n",
       "      <th>Age</th>\n",
       "      <th>Education Level</th>\n",
       "      <th>Screen Time (hrs/day)</th>\n",
       "      <th>Sleep Duration (hrs)</th>\n",
       "      <th>Physical Activity (hrs/week)</th>\n",
       "      <th>Stress Level</th>\n",
       "      <th>Anxious Before Exams</th>\n",
       "      <th>Academic Performance Change</th>\n",
       "      <th>Anxious Before Exams Binary</th>\n",
       "      <th>Physical Activity Category</th>\n",
       "      <th>Screen Time Category</th>\n",
       "    </tr>\n",
       "  </thead>\n",
       "  <tbody>\n",
       "    <tr>\n",
       "      <th>count</th>\n",
       "      <td>1000</td>\n",
       "      <td>1000</td>\n",
       "      <td>1000.000000</td>\n",
       "      <td>1000</td>\n",
       "      <td>1000.000000</td>\n",
       "      <td>1000.000000</td>\n",
       "      <td>1000.000000</td>\n",
       "      <td>1000</td>\n",
       "      <td>1000</td>\n",
       "      <td>1000</td>\n",
       "      <td>1000.000000</td>\n",
       "      <td>1000</td>\n",
       "      <td>1000</td>\n",
       "    </tr>\n",
       "    <tr>\n",
       "      <th>unique</th>\n",
       "      <td>30</td>\n",
       "      <td>3</td>\n",
       "      <td>NaN</td>\n",
       "      <td>11</td>\n",
       "      <td>NaN</td>\n",
       "      <td>NaN</td>\n",
       "      <td>NaN</td>\n",
       "      <td>3</td>\n",
       "      <td>2</td>\n",
       "      <td>3</td>\n",
       "      <td>NaN</td>\n",
       "      <td>3</td>\n",
       "      <td>3</td>\n",
       "    </tr>\n",
       "    <tr>\n",
       "      <th>top</th>\n",
       "      <td>Shaurya</td>\n",
       "      <td>Male</td>\n",
       "      <td>NaN</td>\n",
       "      <td>MTech</td>\n",
       "      <td>NaN</td>\n",
       "      <td>NaN</td>\n",
       "      <td>NaN</td>\n",
       "      <td>Medium</td>\n",
       "      <td>Yes</td>\n",
       "      <td>Same</td>\n",
       "      <td>NaN</td>\n",
       "      <td>High</td>\n",
       "      <td>Medium</td>\n",
       "    </tr>\n",
       "    <tr>\n",
       "      <th>freq</th>\n",
       "      <td>59</td>\n",
       "      <td>475</td>\n",
       "      <td>NaN</td>\n",
       "      <td>143</td>\n",
       "      <td>NaN</td>\n",
       "      <td>NaN</td>\n",
       "      <td>NaN</td>\n",
       "      <td>492</td>\n",
       "      <td>513</td>\n",
       "      <td>399</td>\n",
       "      <td>NaN</td>\n",
       "      <td>593</td>\n",
       "      <td>415</td>\n",
       "    </tr>\n",
       "    <tr>\n",
       "      <th>mean</th>\n",
       "      <td>NaN</td>\n",
       "      <td>NaN</td>\n",
       "      <td>20.342000</td>\n",
       "      <td>NaN</td>\n",
       "      <td>6.909200</td>\n",
       "      <td>6.450800</td>\n",
       "      <td>5.017600</td>\n",
       "      <td>NaN</td>\n",
       "      <td>NaN</td>\n",
       "      <td>NaN</td>\n",
       "      <td>0.513000</td>\n",
       "      <td>NaN</td>\n",
       "      <td>NaN</td>\n",
       "    </tr>\n",
       "    <tr>\n",
       "      <th>std</th>\n",
       "      <td>NaN</td>\n",
       "      <td>NaN</td>\n",
       "      <td>3.459914</td>\n",
       "      <td>NaN</td>\n",
       "      <td>2.907106</td>\n",
       "      <td>1.466407</td>\n",
       "      <td>2.930344</td>\n",
       "      <td>NaN</td>\n",
       "      <td>NaN</td>\n",
       "      <td>NaN</td>\n",
       "      <td>0.500081</td>\n",
       "      <td>NaN</td>\n",
       "      <td>NaN</td>\n",
       "    </tr>\n",
       "    <tr>\n",
       "      <th>min</th>\n",
       "      <td>NaN</td>\n",
       "      <td>NaN</td>\n",
       "      <td>15.000000</td>\n",
       "      <td>NaN</td>\n",
       "      <td>2.000000</td>\n",
       "      <td>4.000000</td>\n",
       "      <td>0.000000</td>\n",
       "      <td>NaN</td>\n",
       "      <td>NaN</td>\n",
       "      <td>NaN</td>\n",
       "      <td>0.000000</td>\n",
       "      <td>NaN</td>\n",
       "      <td>NaN</td>\n",
       "    </tr>\n",
       "    <tr>\n",
       "      <th>25%</th>\n",
       "      <td>NaN</td>\n",
       "      <td>NaN</td>\n",
       "      <td>17.000000</td>\n",
       "      <td>NaN</td>\n",
       "      <td>4.400000</td>\n",
       "      <td>5.100000</td>\n",
       "      <td>2.600000</td>\n",
       "      <td>NaN</td>\n",
       "      <td>NaN</td>\n",
       "      <td>NaN</td>\n",
       "      <td>0.000000</td>\n",
       "      <td>NaN</td>\n",
       "      <td>NaN</td>\n",
       "    </tr>\n",
       "    <tr>\n",
       "      <th>50%</th>\n",
       "      <td>NaN</td>\n",
       "      <td>NaN</td>\n",
       "      <td>20.000000</td>\n",
       "      <td>NaN</td>\n",
       "      <td>6.900000</td>\n",
       "      <td>6.500000</td>\n",
       "      <td>5.000000</td>\n",
       "      <td>NaN</td>\n",
       "      <td>NaN</td>\n",
       "      <td>NaN</td>\n",
       "      <td>1.000000</td>\n",
       "      <td>NaN</td>\n",
       "      <td>NaN</td>\n",
       "    </tr>\n",
       "    <tr>\n",
       "      <th>75%</th>\n",
       "      <td>NaN</td>\n",
       "      <td>NaN</td>\n",
       "      <td>23.000000</td>\n",
       "      <td>NaN</td>\n",
       "      <td>9.500000</td>\n",
       "      <td>7.700000</td>\n",
       "      <td>7.600000</td>\n",
       "      <td>NaN</td>\n",
       "      <td>NaN</td>\n",
       "      <td>NaN</td>\n",
       "      <td>1.000000</td>\n",
       "      <td>NaN</td>\n",
       "      <td>NaN</td>\n",
       "    </tr>\n",
       "    <tr>\n",
       "      <th>max</th>\n",
       "      <td>NaN</td>\n",
       "      <td>NaN</td>\n",
       "      <td>26.000000</td>\n",
       "      <td>NaN</td>\n",
       "      <td>12.000000</td>\n",
       "      <td>9.000000</td>\n",
       "      <td>10.000000</td>\n",
       "      <td>NaN</td>\n",
       "      <td>NaN</td>\n",
       "      <td>NaN</td>\n",
       "      <td>1.000000</td>\n",
       "      <td>NaN</td>\n",
       "      <td>NaN</td>\n",
       "    </tr>\n",
       "  </tbody>\n",
       "</table>\n",
       "</div>"
      ],
      "text/plain": [
       "           Name Gender          Age Education Level  Screen Time (hrs/day)  \\\n",
       "count      1000   1000  1000.000000            1000            1000.000000   \n",
       "unique       30      3          NaN              11                    NaN   \n",
       "top     Shaurya   Male          NaN           MTech                    NaN   \n",
       "freq         59    475          NaN             143                    NaN   \n",
       "mean        NaN    NaN    20.342000             NaN               6.909200   \n",
       "std         NaN    NaN     3.459914             NaN               2.907106   \n",
       "min         NaN    NaN    15.000000             NaN               2.000000   \n",
       "25%         NaN    NaN    17.000000             NaN               4.400000   \n",
       "50%         NaN    NaN    20.000000             NaN               6.900000   \n",
       "75%         NaN    NaN    23.000000             NaN               9.500000   \n",
       "max         NaN    NaN    26.000000             NaN              12.000000   \n",
       "\n",
       "        Sleep Duration (hrs)  Physical Activity (hrs/week) Stress Level  \\\n",
       "count            1000.000000                   1000.000000         1000   \n",
       "unique                   NaN                           NaN            3   \n",
       "top                      NaN                           NaN       Medium   \n",
       "freq                     NaN                           NaN          492   \n",
       "mean                6.450800                      5.017600          NaN   \n",
       "std                 1.466407                      2.930344          NaN   \n",
       "min                 4.000000                      0.000000          NaN   \n",
       "25%                 5.100000                      2.600000          NaN   \n",
       "50%                 6.500000                      5.000000          NaN   \n",
       "75%                 7.700000                      7.600000          NaN   \n",
       "max                 9.000000                     10.000000          NaN   \n",
       "\n",
       "       Anxious Before Exams Academic Performance Change  \\\n",
       "count                  1000                        1000   \n",
       "unique                    2                           3   \n",
       "top                     Yes                        Same   \n",
       "freq                    513                         399   \n",
       "mean                    NaN                         NaN   \n",
       "std                     NaN                         NaN   \n",
       "min                     NaN                         NaN   \n",
       "25%                     NaN                         NaN   \n",
       "50%                     NaN                         NaN   \n",
       "75%                     NaN                         NaN   \n",
       "max                     NaN                         NaN   \n",
       "\n",
       "        Anxious Before Exams Binary Physical Activity Category  \\\n",
       "count                   1000.000000                       1000   \n",
       "unique                          NaN                          3   \n",
       "top                             NaN                       High   \n",
       "freq                            NaN                        593   \n",
       "mean                       0.513000                        NaN   \n",
       "std                        0.500081                        NaN   \n",
       "min                        0.000000                        NaN   \n",
       "25%                        0.000000                        NaN   \n",
       "50%                        1.000000                        NaN   \n",
       "75%                        1.000000                        NaN   \n",
       "max                        1.000000                        NaN   \n",
       "\n",
       "       Screen Time Category  \n",
       "count                  1000  \n",
       "unique                    3  \n",
       "top                  Medium  \n",
       "freq                    415  \n",
       "mean                    NaN  \n",
       "std                     NaN  \n",
       "min                     NaN  \n",
       "25%                     NaN  \n",
       "50%                     NaN  \n",
       "75%                     NaN  \n",
       "max                     NaN  "
      ]
     },
     "execution_count": 59,
     "metadata": {},
     "output_type": "execute_result"
    }
   ],
   "source": [
    "df.describe(include='all')"
   ]
  },
  {
   "cell_type": "markdown",
   "id": "b3845a74",
   "metadata": {},
   "source": [
    "## Visualisasi EDA"
   ]
  },
  {
   "cell_type": "markdown",
   "id": "54254f9b",
   "metadata": {},
   "source": [
    "## 1. Profil Umum Kesehatan Mental Siswa Berdasarkan Demografi\n",
    "### Tujuan: Memahami bagaimana distribusi tingkat stres, durasi tidur, dan kecemasan sebelum ujian di kalangan siswa secara - keseluruhan, dan apakah ada pola yang berbeda berdasarkan jenis kelamin atau jenjang pendidikan.\n",
    "\n",
    "Pertanyaan Kunci:\n",
    "\n",
    "- Bagaimana proporsi siswa di setiap kategori tingkat stres (Low, Medium, High)?\n",
    "- Apakah ada perbedaan signifikan dalam tingkat stres, durasi tidur atau kecemasan sebelum ujian di berbagai jenjang pendidikan?\n",
    "- Apakah ada variasi dalam indikator kesehatan mental ini di berbagai jenjang pendidikan?"
   ]
  },
  {
   "cell_type": "markdown",
   "id": "461c5e73",
   "metadata": {},
   "source": [
    "#### Distribusi Keseluruhan Tingkat Stres\n",
    "\n",
    "#### 📊 Histogram Bar\n",
    "\n",
    "---\n",
    "\n",
    "##### **Temuan Utama:**\n",
    "\n",
    "Berdasarkan grafik histogram, dapat disimpulkan bahwa:\n",
    "\n",
    "- Mayoritas siswa berada pada tingkat **stres sedang**, dengan persentase sekitar **49%**.\n",
    "- Tingkat **stres rendah** menempati urutan kedua dengan persentase **32,7%**.\n",
    "- Sementara itu, sekitar **18%** siswa mengalami **stres tinggi**.\n",
    "\n",
    "---\n",
    "\n",
    "##### **Implikasi:**\n",
    "\n",
    "- Data ini menunjukkan bahwa hampir **setengah dari siswa yang terdata mengalami stres sedang**, yang menandakan adanya tekanan psikologis yang cukup signifikan, meskipun belum mencapai kategori berat.\n",
    "- Sekitar **32,7% siswa berada pada tingkat stres rendah**, yang dapat diinterpretasikan sebagai kelompok dengan **kesehatan mental yang relatif stabil dan dalam kondisi aman**.\n",
    "- Meskipun jumlahnya lebih kecil, **sekitar 181 siswa atau 18% dari total** mengalami **tingkat stres tinggi**, yang mengindikasikan perlunya **perhatian dan intervensi lebih lanjut** untuk kelompok ini agar tidak berkembang menjadi gangguan mental yang lebih serius.\n",
    "\n",
    "---\n",
    "\n",
    "> 📌 **Kesimpulan**: Meskipun sebagian besar siswa berada pada tingkat stres yang moderat hingga rendah, keberadaan siswa dengan stres tinggi tetap menjadi perhatian utama dalam upaya menjaga kesejahteraan mental secara menyeluruh.\n"
   ]
  },
  {
   "cell_type": "code",
   "execution_count": 68,
   "id": "d587377b",
   "metadata": {},
   "outputs": [
    {
     "data": {
      "application/vnd.plotly.v1+json": {
       "config": {
        "plotlyServerURL": "https://plot.ly"
       },
       "data": [
        {
         "hovertemplate": "Tingkat Stres=%{x}<br>Proporsi Siswa=%{y}<extra></extra>",
         "legendgroup": "Low",
         "marker": {
          "color": "#636efa",
          "pattern": {
           "shape": ""
          }
         },
         "name": "Low",
         "orientation": "v",
         "showlegend": true,
         "textposition": "auto",
         "texttemplate": "%{y:.1%}",
         "type": "bar",
         "x": [
          "Low"
         ],
         "xaxis": "x",
         "y": {
          "bdata": "IbByaJHt1D8=",
          "dtype": "f8"
         },
         "yaxis": "y"
        },
        {
         "hovertemplate": "Tingkat Stres=%{x}<br>Proporsi Siswa=%{y}<extra></extra>",
         "legendgroup": "Medium",
         "marker": {
          "color": "#EF553B",
          "pattern": {
           "shape": ""
          }
         },
         "name": "Medium",
         "orientation": "v",
         "showlegend": true,
         "textposition": "auto",
         "texttemplate": "%{y:.1%}",
         "type": "bar",
         "x": [
          "Medium"
         ],
         "xaxis": "x",
         "y": {
          "bdata": "sHJoke183z8=",
          "dtype": "f8"
         },
         "yaxis": "y"
        },
        {
         "hovertemplate": "Tingkat Stres=%{x}<br>Proporsi Siswa=%{y}<extra></extra>",
         "legendgroup": "High",
         "marker": {
          "color": "#00cc96",
          "pattern": {
           "shape": ""
          }
         },
         "name": "High",
         "orientation": "v",
         "showlegend": true,
         "textposition": "auto",
         "texttemplate": "%{y:.1%}",
         "type": "bar",
         "x": [
          "High"
         ],
         "xaxis": "x",
         "y": {
          "bdata": "XrpJDAIrxz8=",
          "dtype": "f8"
         },
         "yaxis": "y"
        }
       ],
       "layout": {
        "barmode": "relative",
        "legend": {
         "title": {
          "text": "Tingkat Stres"
         },
         "tracegroupgap": 0
        },
        "template": {
         "data": {
          "bar": [
           {
            "error_x": {
             "color": "#2a3f5f"
            },
            "error_y": {
             "color": "#2a3f5f"
            },
            "marker": {
             "line": {
              "color": "#E5ECF6",
              "width": 0.5
             },
             "pattern": {
              "fillmode": "overlay",
              "size": 10,
              "solidity": 0.2
             }
            },
            "type": "bar"
           }
          ],
          "barpolar": [
           {
            "marker": {
             "line": {
              "color": "#E5ECF6",
              "width": 0.5
             },
             "pattern": {
              "fillmode": "overlay",
              "size": 10,
              "solidity": 0.2
             }
            },
            "type": "barpolar"
           }
          ],
          "carpet": [
           {
            "aaxis": {
             "endlinecolor": "#2a3f5f",
             "gridcolor": "white",
             "linecolor": "white",
             "minorgridcolor": "white",
             "startlinecolor": "#2a3f5f"
            },
            "baxis": {
             "endlinecolor": "#2a3f5f",
             "gridcolor": "white",
             "linecolor": "white",
             "minorgridcolor": "white",
             "startlinecolor": "#2a3f5f"
            },
            "type": "carpet"
           }
          ],
          "choropleth": [
           {
            "colorbar": {
             "outlinewidth": 0,
             "ticks": ""
            },
            "type": "choropleth"
           }
          ],
          "contour": [
           {
            "colorbar": {
             "outlinewidth": 0,
             "ticks": ""
            },
            "colorscale": [
             [
              0,
              "#0d0887"
             ],
             [
              0.1111111111111111,
              "#46039f"
             ],
             [
              0.2222222222222222,
              "#7201a8"
             ],
             [
              0.3333333333333333,
              "#9c179e"
             ],
             [
              0.4444444444444444,
              "#bd3786"
             ],
             [
              0.5555555555555556,
              "#d8576b"
             ],
             [
              0.6666666666666666,
              "#ed7953"
             ],
             [
              0.7777777777777778,
              "#fb9f3a"
             ],
             [
              0.8888888888888888,
              "#fdca26"
             ],
             [
              1,
              "#f0f921"
             ]
            ],
            "type": "contour"
           }
          ],
          "contourcarpet": [
           {
            "colorbar": {
             "outlinewidth": 0,
             "ticks": ""
            },
            "type": "contourcarpet"
           }
          ],
          "heatmap": [
           {
            "colorbar": {
             "outlinewidth": 0,
             "ticks": ""
            },
            "colorscale": [
             [
              0,
              "#0d0887"
             ],
             [
              0.1111111111111111,
              "#46039f"
             ],
             [
              0.2222222222222222,
              "#7201a8"
             ],
             [
              0.3333333333333333,
              "#9c179e"
             ],
             [
              0.4444444444444444,
              "#bd3786"
             ],
             [
              0.5555555555555556,
              "#d8576b"
             ],
             [
              0.6666666666666666,
              "#ed7953"
             ],
             [
              0.7777777777777778,
              "#fb9f3a"
             ],
             [
              0.8888888888888888,
              "#fdca26"
             ],
             [
              1,
              "#f0f921"
             ]
            ],
            "type": "heatmap"
           }
          ],
          "histogram": [
           {
            "marker": {
             "pattern": {
              "fillmode": "overlay",
              "size": 10,
              "solidity": 0.2
             }
            },
            "type": "histogram"
           }
          ],
          "histogram2d": [
           {
            "colorbar": {
             "outlinewidth": 0,
             "ticks": ""
            },
            "colorscale": [
             [
              0,
              "#0d0887"
             ],
             [
              0.1111111111111111,
              "#46039f"
             ],
             [
              0.2222222222222222,
              "#7201a8"
             ],
             [
              0.3333333333333333,
              "#9c179e"
             ],
             [
              0.4444444444444444,
              "#bd3786"
             ],
             [
              0.5555555555555556,
              "#d8576b"
             ],
             [
              0.6666666666666666,
              "#ed7953"
             ],
             [
              0.7777777777777778,
              "#fb9f3a"
             ],
             [
              0.8888888888888888,
              "#fdca26"
             ],
             [
              1,
              "#f0f921"
             ]
            ],
            "type": "histogram2d"
           }
          ],
          "histogram2dcontour": [
           {
            "colorbar": {
             "outlinewidth": 0,
             "ticks": ""
            },
            "colorscale": [
             [
              0,
              "#0d0887"
             ],
             [
              0.1111111111111111,
              "#46039f"
             ],
             [
              0.2222222222222222,
              "#7201a8"
             ],
             [
              0.3333333333333333,
              "#9c179e"
             ],
             [
              0.4444444444444444,
              "#bd3786"
             ],
             [
              0.5555555555555556,
              "#d8576b"
             ],
             [
              0.6666666666666666,
              "#ed7953"
             ],
             [
              0.7777777777777778,
              "#fb9f3a"
             ],
             [
              0.8888888888888888,
              "#fdca26"
             ],
             [
              1,
              "#f0f921"
             ]
            ],
            "type": "histogram2dcontour"
           }
          ],
          "mesh3d": [
           {
            "colorbar": {
             "outlinewidth": 0,
             "ticks": ""
            },
            "type": "mesh3d"
           }
          ],
          "parcoords": [
           {
            "line": {
             "colorbar": {
              "outlinewidth": 0,
              "ticks": ""
             }
            },
            "type": "parcoords"
           }
          ],
          "pie": [
           {
            "automargin": true,
            "type": "pie"
           }
          ],
          "scatter": [
           {
            "fillpattern": {
             "fillmode": "overlay",
             "size": 10,
             "solidity": 0.2
            },
            "type": "scatter"
           }
          ],
          "scatter3d": [
           {
            "line": {
             "colorbar": {
              "outlinewidth": 0,
              "ticks": ""
             }
            },
            "marker": {
             "colorbar": {
              "outlinewidth": 0,
              "ticks": ""
             }
            },
            "type": "scatter3d"
           }
          ],
          "scattercarpet": [
           {
            "marker": {
             "colorbar": {
              "outlinewidth": 0,
              "ticks": ""
             }
            },
            "type": "scattercarpet"
           }
          ],
          "scattergeo": [
           {
            "marker": {
             "colorbar": {
              "outlinewidth": 0,
              "ticks": ""
             }
            },
            "type": "scattergeo"
           }
          ],
          "scattergl": [
           {
            "marker": {
             "colorbar": {
              "outlinewidth": 0,
              "ticks": ""
             }
            },
            "type": "scattergl"
           }
          ],
          "scattermap": [
           {
            "marker": {
             "colorbar": {
              "outlinewidth": 0,
              "ticks": ""
             }
            },
            "type": "scattermap"
           }
          ],
          "scattermapbox": [
           {
            "marker": {
             "colorbar": {
              "outlinewidth": 0,
              "ticks": ""
             }
            },
            "type": "scattermapbox"
           }
          ],
          "scatterpolar": [
           {
            "marker": {
             "colorbar": {
              "outlinewidth": 0,
              "ticks": ""
             }
            },
            "type": "scatterpolar"
           }
          ],
          "scatterpolargl": [
           {
            "marker": {
             "colorbar": {
              "outlinewidth": 0,
              "ticks": ""
             }
            },
            "type": "scatterpolargl"
           }
          ],
          "scatterternary": [
           {
            "marker": {
             "colorbar": {
              "outlinewidth": 0,
              "ticks": ""
             }
            },
            "type": "scatterternary"
           }
          ],
          "surface": [
           {
            "colorbar": {
             "outlinewidth": 0,
             "ticks": ""
            },
            "colorscale": [
             [
              0,
              "#0d0887"
             ],
             [
              0.1111111111111111,
              "#46039f"
             ],
             [
              0.2222222222222222,
              "#7201a8"
             ],
             [
              0.3333333333333333,
              "#9c179e"
             ],
             [
              0.4444444444444444,
              "#bd3786"
             ],
             [
              0.5555555555555556,
              "#d8576b"
             ],
             [
              0.6666666666666666,
              "#ed7953"
             ],
             [
              0.7777777777777778,
              "#fb9f3a"
             ],
             [
              0.8888888888888888,
              "#fdca26"
             ],
             [
              1,
              "#f0f921"
             ]
            ],
            "type": "surface"
           }
          ],
          "table": [
           {
            "cells": {
             "fill": {
              "color": "#EBF0F8"
             },
             "line": {
              "color": "white"
             }
            },
            "header": {
             "fill": {
              "color": "#C8D4E3"
             },
             "line": {
              "color": "white"
             }
            },
            "type": "table"
           }
          ]
         },
         "layout": {
          "annotationdefaults": {
           "arrowcolor": "#2a3f5f",
           "arrowhead": 0,
           "arrowwidth": 1
          },
          "autotypenumbers": "strict",
          "coloraxis": {
           "colorbar": {
            "outlinewidth": 0,
            "ticks": ""
           }
          },
          "colorscale": {
           "diverging": [
            [
             0,
             "#8e0152"
            ],
            [
             0.1,
             "#c51b7d"
            ],
            [
             0.2,
             "#de77ae"
            ],
            [
             0.3,
             "#f1b6da"
            ],
            [
             0.4,
             "#fde0ef"
            ],
            [
             0.5,
             "#f7f7f7"
            ],
            [
             0.6,
             "#e6f5d0"
            ],
            [
             0.7,
             "#b8e186"
            ],
            [
             0.8,
             "#7fbc41"
            ],
            [
             0.9,
             "#4d9221"
            ],
            [
             1,
             "#276419"
            ]
           ],
           "sequential": [
            [
             0,
             "#0d0887"
            ],
            [
             0.1111111111111111,
             "#46039f"
            ],
            [
             0.2222222222222222,
             "#7201a8"
            ],
            [
             0.3333333333333333,
             "#9c179e"
            ],
            [
             0.4444444444444444,
             "#bd3786"
            ],
            [
             0.5555555555555556,
             "#d8576b"
            ],
            [
             0.6666666666666666,
             "#ed7953"
            ],
            [
             0.7777777777777778,
             "#fb9f3a"
            ],
            [
             0.8888888888888888,
             "#fdca26"
            ],
            [
             1,
             "#f0f921"
            ]
           ],
           "sequentialminus": [
            [
             0,
             "#0d0887"
            ],
            [
             0.1111111111111111,
             "#46039f"
            ],
            [
             0.2222222222222222,
             "#7201a8"
            ],
            [
             0.3333333333333333,
             "#9c179e"
            ],
            [
             0.4444444444444444,
             "#bd3786"
            ],
            [
             0.5555555555555556,
             "#d8576b"
            ],
            [
             0.6666666666666666,
             "#ed7953"
            ],
            [
             0.7777777777777778,
             "#fb9f3a"
            ],
            [
             0.8888888888888888,
             "#fdca26"
            ],
            [
             1,
             "#f0f921"
            ]
           ]
          },
          "colorway": [
           "#636efa",
           "#EF553B",
           "#00cc96",
           "#ab63fa",
           "#FFA15A",
           "#19d3f3",
           "#FF6692",
           "#B6E880",
           "#FF97FF",
           "#FECB52"
          ],
          "font": {
           "color": "#2a3f5f"
          },
          "geo": {
           "bgcolor": "white",
           "lakecolor": "white",
           "landcolor": "#E5ECF6",
           "showlakes": true,
           "showland": true,
           "subunitcolor": "white"
          },
          "hoverlabel": {
           "align": "left"
          },
          "hovermode": "closest",
          "mapbox": {
           "style": "light"
          },
          "paper_bgcolor": "white",
          "plot_bgcolor": "#E5ECF6",
          "polar": {
           "angularaxis": {
            "gridcolor": "white",
            "linecolor": "white",
            "ticks": ""
           },
           "bgcolor": "#E5ECF6",
           "radialaxis": {
            "gridcolor": "white",
            "linecolor": "white",
            "ticks": ""
           }
          },
          "scene": {
           "xaxis": {
            "backgroundcolor": "#E5ECF6",
            "gridcolor": "white",
            "gridwidth": 2,
            "linecolor": "white",
            "showbackground": true,
            "ticks": "",
            "zerolinecolor": "white"
           },
           "yaxis": {
            "backgroundcolor": "#E5ECF6",
            "gridcolor": "white",
            "gridwidth": 2,
            "linecolor": "white",
            "showbackground": true,
            "ticks": "",
            "zerolinecolor": "white"
           },
           "zaxis": {
            "backgroundcolor": "#E5ECF6",
            "gridcolor": "white",
            "gridwidth": 2,
            "linecolor": "white",
            "showbackground": true,
            "ticks": "",
            "zerolinecolor": "white"
           }
          },
          "shapedefaults": {
           "line": {
            "color": "#2a3f5f"
           }
          },
          "ternary": {
           "aaxis": {
            "gridcolor": "white",
            "linecolor": "white",
            "ticks": ""
           },
           "baxis": {
            "gridcolor": "white",
            "linecolor": "white",
            "ticks": ""
           },
           "bgcolor": "#E5ECF6",
           "caxis": {
            "gridcolor": "white",
            "linecolor": "white",
            "ticks": ""
           }
          },
          "title": {
           "x": 0.05
          },
          "xaxis": {
           "automargin": true,
           "gridcolor": "white",
           "linecolor": "white",
           "ticks": "",
           "title": {
            "standoff": 15
           },
           "zerolinecolor": "white",
           "zerolinewidth": 2
          },
          "yaxis": {
           "automargin": true,
           "gridcolor": "white",
           "linecolor": "white",
           "ticks": "",
           "title": {
            "standoff": 15
           },
           "zerolinecolor": "white",
           "zerolinewidth": 2
          }
         }
        },
        "title": {
         "text": "Distribusi Tingkat Stres Siswa"
        },
        "xaxis": {
         "anchor": "y",
         "categoryarray": [
          "Low",
          "Medium",
          "High"
         ],
         "categoryorder": "array",
         "domain": [
          0,
          1
         ],
         "title": {
          "text": "Tingkat Stres"
         }
        },
        "yaxis": {
         "anchor": "x",
         "domain": [
          0,
          1
         ],
         "title": {
          "text": "Proporsi Siswa"
         }
        }
       }
      }
     },
     "metadata": {},
     "output_type": "display_data"
    }
   ],
   "source": [
    "# Menggunakan Plotly Express\n",
    "fig_stress_dist = px.bar(\n",
    "    df['Stress Level'].value_counts(normalize=True).reset_index(),\n",
    "    x='Stress Level',\n",
    "    y='proportion',\n",
    "    title='Distribusi Tingkat Stres Siswa',\n",
    "    labels={'proportion': 'Proporsi Siswa', 'Stress Level': 'Tingkat Stres'},\n",
    "    text_auto='.1%', # Menampilkan persentase pada bar\n",
    "    color='Stress Level', # Memberi warna berdasarkan tingkat stres\n",
    "    category_orders={'Stress Level': stress_order} # Memastikan urutan kategori\n",
    ")\n",
    "fig_stress_dist.update_layout(xaxis={'categoryorder':'array', 'categoryarray':stress_order})\n",
    "fig_stress_dist.show()"
   ]
  },
  {
   "cell_type": "markdown",
   "id": "b1054a0e",
   "metadata": {},
   "source": [
    "#### Distribusi Tingkat Stres di Setiap Jenjang Pendidikan\n",
    "\n",
    "#### 📊 Box Plot (Pengelompokan Berdasarkan Jenjang Pendidikan)\n",
    "\n",
    "---\n",
    "\n",
    "##### **Temuan Utama:**\n",
    "\n",
    "Berdasarkan grafik box plot, terlihat bahwa:\n",
    "\n",
    "- **Jenjang Magister (S2)** menunjukkan tingkat stres **sedang** yang cukup tinggi, yaitu antara **45–60%**. Namun, variasi tingkat stres ini juga bergantung pada **program studi** yang diambil:\n",
    "  - Beberapa program studi menunjukkan tingkat stres **rendah** sekitar **40–45%**.\n",
    "  - Tingkat stres **tinggi** pada jenjang ini relatif rendah, berada di kisaran **15–25%**.\n",
    "\n",
    "- **Siswa Kelas 9–11** memiliki rata-rata tingkat stres **sedang** yang lebih tinggi dibandingkan dengan siswa jenjang **Bachelor (S1)**.\n",
    "\n",
    "- Meskipun demikian, rata-rata tingkat **stres tinggi** lebih banyak dialami oleh siswa jenjang **S1** dibandingkan siswa Kelas 9–11.\n",
    "\n",
    "- **Siswa Kelas 8 dan 12** menunjukkan rata-rata tingkat stres (rendah, sedang, dan tinggi) yang **cenderung paling rendah** di antara semua jenjang pendidikan.\n",
    "\n",
    "---\n",
    "\n",
    "##### **Implikasi:**\n",
    "\n",
    "- Data ini menunjukkan bahwa **jenjang pendidikan memiliki pengaruh terhadap tingkat stres siswa**, namun faktor **jurusan atau program studi** juga berperan penting.\n",
    "\n",
    "- Contohnya:\n",
    "  - Di jenjang **Magister (S2)**:\n",
    "    - Siswa **MTech** memiliki tingkat stres **sedang** yang lebih tinggi dibandingkan **MA** dan **MSc**.\n",
    "    - Namun, siswa **MA** dan **MSc** justru memiliki tingkat stres **tinggi** yang lebih besar dibandingkan **MTech**.\n",
    "\n",
    "  - Di jenjang **Bachelor (S1)**:\n",
    "    - Siswa **BSc** memiliki tingkat stres **sedang** yang lebih tinggi dibandingkan **BTech** dan **BA**.\n",
    "    - Sebaliknya, tingkat stres **tinggi** lebih banyak dialami oleh siswa **BTech** dan **BA** dibandingkan **BSc**.\n",
    "\n",
    "---\n",
    "\n",
    "> 🎓 **Kesimpulan**: Tingkat stres siswa tidak hanya dipengaruhi oleh jenjang pendidikan, tetapi juga sangat bergantung pada **jurusan atau program studi yang diambil**. Pemahaman ini penting untuk mengembangkan pendekatan manajemen stres yang lebih spesifik dan relevan dengan kebutuhan siswa.\n"
   ]
  },
  {
   "cell_type": "code",
   "execution_count": 69,
   "id": "005f0349",
   "metadata": {},
   "outputs": [
    {
     "data": {
      "application/vnd.plotly.v1+json": {
       "config": {
        "plotlyServerURL": "https://plot.ly"
       },
       "data": [
        {
         "alignmentgroup": "True",
         "bingroup": "x",
         "hovertemplate": "Tingkat Stres=Low<br>Jenjang Pendidikan=%{x}<br>count=%{y}<extra></extra>",
         "legendgroup": "Low",
         "marker": {
          "color": "#636efa",
          "pattern": {
           "shape": ""
          }
         },
         "name": "Low",
         "offsetgroup": "Low",
         "orientation": "v",
         "showlegend": true,
         "type": "histogram",
         "x": [
          "MSc",
          "Class 9",
          "Class 8",
          "MA",
          "Class 11",
          "BA",
          "BSc",
          "MTech",
          "Class 11",
          "Class 9",
          "BSc",
          "MSc",
          "BTech",
          "Class 9",
          "MA",
          "BSc",
          "BTech",
          "Class 9",
          "Class 9",
          "BSc",
          "Class 8",
          "BSc",
          "MA",
          "BSc",
          "MSc",
          "BSc",
          "MTech",
          "Class 10",
          "MTech",
          "Class 10",
          "MTech",
          "BTech",
          "Class 10",
          "MA",
          "MA",
          "MSc",
          "Class 9",
          "BTech",
          "Class 11",
          "MA",
          "MSc",
          "Class 12",
          "Class 11",
          "MSc",
          "Class 11",
          "BSc",
          "Class 10",
          "MSc",
          "MA",
          "MTech",
          "Class 9",
          "Class 10",
          "BA",
          "MSc",
          "Class 12",
          "Class 12",
          "MA",
          "Class 10",
          "Class 9",
          "BTech",
          "Class 12",
          "Class 8",
          "MSc",
          "MTech",
          "Class 9",
          "Class 9",
          "Class 12",
          "Class 10",
          "BSc",
          "Class 10",
          "Class 9",
          "MTech",
          "MSc",
          "MA",
          "MA",
          "Class 10",
          "BSc",
          "Class 10",
          "Class 10",
          "MA",
          "Class 12",
          "MSc",
          "Class 10",
          "BSc",
          "MA",
          "Class 8",
          "Class 11",
          "MTech",
          "Class 9",
          "Class 9",
          "MA",
          "Class 10",
          "MSc",
          "Class 9",
          "Class 11",
          "MSc",
          "BA",
          "Class 9",
          "MSc",
          "Class 11",
          "MTech",
          "BA",
          "MTech",
          "MSc",
          "Class 12",
          "Class 11",
          "Class 9",
          "MA",
          "BSc",
          "MTech",
          "Class 12",
          "BTech",
          "MA",
          "BSc",
          "Class 8",
          "MTech",
          "MTech",
          "Class 9",
          "Class 8",
          "BSc",
          "Class 11",
          "Class 10",
          "MTech",
          "MA",
          "BSc",
          "MSc",
          "BTech",
          "MSc",
          "MA",
          "MTech",
          "Class 8",
          "Class 12",
          "MSc",
          "Class 10",
          "Class 12",
          "MSc",
          "MTech",
          "BSc",
          "MSc",
          "Class 12",
          "Class 9",
          "Class 8",
          "MTech",
          "BSc",
          "Class 9",
          "MTech",
          "MSc",
          "Class 8",
          "MTech",
          "BTech",
          "BSc",
          "Class 9",
          "BSc",
          "Class 12",
          "MTech",
          "MA",
          "Class 9",
          "BA",
          "MA",
          "Class 12",
          "MA",
          "MTech",
          "Class 10",
          "Class 10",
          "BTech",
          "MSc",
          "MA",
          "Class 9",
          "BA",
          "BTech",
          "Class 11",
          "MSc",
          "BSc",
          "MTech",
          "Class 11",
          "Class 11",
          "Class 12",
          "BTech",
          "MA",
          "BTech",
          "MA",
          "Class 10",
          "MTech",
          "MSc",
          "MA",
          "BTech",
          "MA",
          "Class 12",
          "MA",
          "BTech",
          "MA",
          "Class 10",
          "MA",
          "BSc",
          "BA",
          "MA",
          "MSc",
          "BSc",
          "MA",
          "MTech",
          "MSc",
          "Class 11",
          "BTech",
          "MA",
          "BTech",
          "MTech",
          "Class 10",
          "MA",
          "Class 9",
          "MA",
          "MA",
          "BA",
          "MSc",
          "Class 11",
          "MTech",
          "Class 9",
          "Class 8",
          "MTech",
          "Class 11",
          "MSc",
          "MSc",
          "MTech",
          "Class 11",
          "BSc",
          "MTech",
          "Class 10",
          "BTech",
          "MA",
          "BA",
          "Class 9",
          "MSc",
          "MA",
          "Class 11",
          "MSc",
          "MA",
          "Class 12",
          "Class 11",
          "Class 10",
          "Class 10",
          "Class 11",
          "Class 10",
          "Class 11",
          "MSc",
          "Class 9",
          "Class 9",
          "MA",
          "MTech",
          "Class 12",
          "BA",
          "Class 9",
          "Class 9",
          "MA",
          "MA",
          "MTech",
          "BTech",
          "Class 10",
          "MSc",
          "Class 8",
          "MSc",
          "MA",
          "MA",
          "BSc",
          "Class 8",
          "MSc",
          "BTech",
          "MSc",
          "Class 9",
          "Class 10",
          "Class 10",
          "MTech",
          "MSc",
          "MSc",
          "BTech",
          "MA",
          "BSc",
          "MTech",
          "BA",
          "Class 11",
          "BTech",
          "MSc",
          "MTech",
          "MA",
          "MSc",
          "Class 9",
          "Class 8",
          "MTech",
          "MA",
          "MA",
          "MTech",
          "BSc",
          "MTech",
          "BA",
          "BSc",
          "MA",
          "Class 11",
          "Class 9",
          "Class 10",
          "BA",
          "Class 12",
          "MSc",
          "Class 9",
          "Class 11",
          "Class 9",
          "MA",
          "Class 11",
          "Class 10",
          "MTech",
          "Class 8",
          "MSc",
          "MA",
          "BTech",
          "MSc",
          "Class 10",
          "Class 9",
          "Class 11",
          "BTech",
          "MSc",
          "Class 12",
          "MTech",
          "MSc",
          "BTech",
          "MA",
          "BTech",
          "BSc",
          "BTech",
          "Class 9",
          "MA"
         ],
         "xaxis": "x",
         "yaxis": "y"
        },
        {
         "alignmentgroup": "True",
         "bingroup": "x",
         "hovertemplate": "Tingkat Stres=Medium<br>Jenjang Pendidikan=%{x}<br>count=%{y}<extra></extra>",
         "legendgroup": "Medium",
         "marker": {
          "color": "#EF553B",
          "pattern": {
           "shape": ""
          }
         },
         "name": "Medium",
         "offsetgroup": "Medium",
         "orientation": "v",
         "showlegend": true,
         "type": "histogram",
         "x": [
          "Class 8",
          "MSc",
          "BTech",
          "Class 11",
          "MTech",
          "MTech",
          "BA",
          "MA",
          "MTech",
          "BTech",
          "Class 8",
          "MTech",
          "MTech",
          "Class 11",
          "Class 11",
          "BSc",
          "Class 12",
          "Class 12",
          "MTech",
          "MA",
          "Class 9",
          "Class 10",
          "BSc",
          "BA",
          "Class 12",
          "MTech",
          "BTech",
          "BA",
          "Class 9",
          "MTech",
          "MA",
          "BTech",
          "BSc",
          "Class 10",
          "MSc",
          "Class 9",
          "MSc",
          "Class 12",
          "MSc",
          "MSc",
          "Class 9",
          "MSc",
          "MTech",
          "MSc",
          "MTech",
          "BSc",
          "Class 11",
          "BTech",
          "Class 9",
          "Class 10",
          "MSc",
          "MSc",
          "Class 10",
          "MTech",
          "Class 10",
          "Class 9",
          "BSc",
          "Class 11",
          "MTech",
          "MTech",
          "Class 11",
          "MTech",
          "MTech",
          "MSc",
          "BTech",
          "MA",
          "MTech",
          "Class 12",
          "Class 9",
          "Class 9",
          "Class 11",
          "MSc",
          "Class 12",
          "MSc",
          "MSc",
          "Class 8",
          "MSc",
          "MTech",
          "Class 8",
          "BTech",
          "MA",
          "MA",
          "MSc",
          "MA",
          "Class 10",
          "MSc",
          "Class 8",
          "MTech",
          "MTech",
          "Class 8",
          "MA",
          "BTech",
          "MTech",
          "BTech",
          "BA",
          "BA",
          "BA",
          "MTech",
          "BA",
          "BTech",
          "MSc",
          "Class 8",
          "MTech",
          "MTech",
          "MA",
          "BTech",
          "MSc",
          "MA",
          "MTech",
          "MSc",
          "Class 8",
          "MTech",
          "MTech",
          "BA",
          "BSc",
          "Class 10",
          "Class 8",
          "Class 10",
          "BSc",
          "Class 10",
          "Class 9",
          "Class 9",
          "BSc",
          "Class 9",
          "Class 8",
          "MSc",
          "MTech",
          "Class 8",
          "MA",
          "Class 12",
          "Class 11",
          "Class 11",
          "MTech",
          "MA",
          "MSc",
          "Class 8",
          "BA",
          "Class 11",
          "MA",
          "MSc",
          "BTech",
          "Class 10",
          "Class 11",
          "Class 12",
          "Class 10",
          "MTech",
          "BSc",
          "MA",
          "Class 10",
          "BTech",
          "MTech",
          "BTech",
          "MTech",
          "BA",
          "BSc",
          "BSc",
          "Class 11",
          "Class 12",
          "MTech",
          "MSc",
          "BSc",
          "Class 8",
          "MTech",
          "Class 11",
          "MTech",
          "BSc",
          "BTech",
          "Class 10",
          "MTech",
          "BSc",
          "Class 10",
          "BSc",
          "Class 10",
          "Class 12",
          "Class 9",
          "MTech",
          "MTech",
          "Class 11",
          "MA",
          "MTech",
          "Class 10",
          "Class 11",
          "MA",
          "BSc",
          "Class 8",
          "MTech",
          "Class 10",
          "Class 12",
          "MTech",
          "MSc",
          "Class 11",
          "MSc",
          "MTech",
          "MA",
          "MA",
          "MA",
          "Class 8",
          "Class 12",
          "BTech",
          "BTech",
          "Class 8",
          "BSc",
          "MA",
          "Class 10",
          "Class 12",
          "MSc",
          "MA",
          "Class 11",
          "Class 10",
          "MSc",
          "BA",
          "MTech",
          "BSc",
          "Class 11",
          "Class 10",
          "MTech",
          "MSc",
          "BSc",
          "BSc",
          "Class 8",
          "Class 8",
          "MTech",
          "MTech",
          "BSc",
          "MA",
          "Class 9",
          "MSc",
          "MSc",
          "MA",
          "Class 9",
          "Class 11",
          "MTech",
          "MA",
          "MSc",
          "Class 10",
          "MTech",
          "BSc",
          "Class 11",
          "MA",
          "MTech",
          "Class 8",
          "MSc",
          "Class 9",
          "BTech",
          "MSc",
          "Class 9",
          "BA",
          "MTech",
          "BTech",
          "MSc",
          "Class 10",
          "MTech",
          "BTech",
          "Class 8",
          "MTech",
          "BSc",
          "MA",
          "MTech",
          "MA",
          "MSc",
          "MA",
          "MA",
          "MSc",
          "Class 10",
          "Class 10",
          "Class 10",
          "MA",
          "BSc",
          "BTech",
          "Class 11",
          "MSc",
          "Class 9",
          "Class 9",
          "Class 9",
          "Class 12",
          "Class 12",
          "Class 10",
          "MSc",
          "Class 10",
          "BA",
          "BSc",
          "BA",
          "MTech",
          "MA",
          "Class 9",
          "Class 10",
          "BSc",
          "BSc",
          "Class 11",
          "MTech",
          "BSc",
          "Class 10",
          "Class 12",
          "Class 11",
          "Class 11",
          "Class 9",
          "MTech",
          "BSc",
          "MTech",
          "Class 9",
          "MA",
          "Class 11",
          "Class 10",
          "BSc",
          "Class 12",
          "Class 10",
          "BA",
          "BSc",
          "BTech",
          "Class 12",
          "MTech",
          "MA",
          "Class 10",
          "MA",
          "MA",
          "Class 12",
          "MTech",
          "Class 10",
          "BA",
          "MSc",
          "BSc",
          "MSc",
          "MA",
          "MA",
          "MA",
          "Class 11",
          "BA",
          "BA",
          "Class 9",
          "MTech",
          "MA",
          "Class 10",
          "MA",
          "Class 10",
          "BSc",
          "Class 10",
          "Class 9",
          "BSc",
          "Class 10",
          "BSc",
          "MA",
          "Class 8",
          "Class 11",
          "Class 9",
          "MSc",
          "MA",
          "MSc",
          "Class 11",
          "Class 8",
          "BA",
          "MTech",
          "MA",
          "Class 9",
          "BSc",
          "Class 11",
          "Class 11",
          "MSc",
          "MTech",
          "Class 8",
          "MTech",
          "MSc",
          "MA",
          "BA",
          "Class 10",
          "Class 10",
          "Class 11",
          "MTech",
          "Class 11",
          "MTech",
          "BSc",
          "BSc",
          "Class 11",
          "Class 10",
          "BA",
          "Class 9",
          "BA",
          "MTech",
          "Class 8",
          "MTech",
          "BSc",
          "MTech",
          "Class 9",
          "BTech",
          "MA",
          "MSc",
          "MTech",
          "Class 9",
          "Class 12",
          "BSc",
          "Class 9",
          "MTech",
          "MSc",
          "Class 9",
          "MTech",
          "MTech",
          "MTech",
          "MSc",
          "BA",
          "Class 11",
          "BTech",
          "BSc",
          "Class 11",
          "MTech",
          "MA",
          "MSc",
          "MA",
          "BTech",
          "MSc",
          "Class 10",
          "BSc",
          "BA",
          "MTech",
          "MTech",
          "BTech",
          "BTech",
          "MSc",
          "MTech",
          "MA",
          "MA",
          "MSc",
          "Class 10",
          "Class 9",
          "BA",
          "BTech",
          "Class 9",
          "MSc",
          "MSc",
          "MTech",
          "MA",
          "Class 11",
          "MSc",
          "MTech",
          "Class 11",
          "BA",
          "Class 11",
          "MTech",
          "Class 9",
          "BA",
          "MSc",
          "MA",
          "MA",
          "BA",
          "MTech",
          "MSc",
          "BTech",
          "MA",
          "MSc",
          "Class 9",
          "MSc",
          "BA",
          "Class 9",
          "Class 8",
          "BSc",
          "MSc",
          "Class 11",
          "Class 9",
          "MSc",
          "MA",
          "MTech",
          "BTech",
          "Class 11",
          "Class 8",
          "Class 11",
          "BTech",
          "MTech",
          "MSc",
          "Class 11",
          "MSc",
          "Class 11",
          "MSc",
          "MSc",
          "BTech",
          "Class 11",
          "BTech",
          "MSc",
          "Class 11",
          "Class 9",
          "Class 11",
          "Class 8",
          "BTech",
          "BTech",
          "BA",
          "MTech",
          "Class 10",
          "BA",
          "Class 9",
          "BTech",
          "BTech",
          "MSc",
          "MSc",
          "MA",
          "BA"
         ],
         "xaxis": "x",
         "yaxis": "y"
        },
        {
         "alignmentgroup": "True",
         "bingroup": "x",
         "hovertemplate": "Tingkat Stres=High<br>Jenjang Pendidikan=%{x}<br>count=%{y}<extra></extra>",
         "legendgroup": "High",
         "marker": {
          "color": "#00cc96",
          "pattern": {
           "shape": ""
          }
         },
         "name": "High",
         "offsetgroup": "High",
         "orientation": "v",
         "showlegend": true,
         "type": "histogram",
         "x": [
          "BA",
          "MSc",
          "Class 10",
          "MSc",
          "Class 9",
          "Class 11",
          "Class 11",
          "BA",
          "BSc",
          "MSc",
          "BTech",
          "Class 10",
          "Class 9",
          "Class 11",
          "BTech",
          "Class 12",
          "MSc",
          "MSc",
          "MTech",
          "Class 9",
          "Class 8",
          "Class 10",
          "BTech",
          "Class 12",
          "BTech",
          "MA",
          "Class 11",
          "Class 10",
          "MTech",
          "MSc",
          "MSc",
          "Class 8",
          "MTech",
          "MSc",
          "MA",
          "BSc",
          "BTech",
          "BTech",
          "BSc",
          "Class 11",
          "MA",
          "Class 11",
          "MA",
          "Class 10",
          "BTech",
          "Class 9",
          "MSc",
          "MTech",
          "Class 12",
          "Class 8",
          "Class 8",
          "Class 9",
          "BSc",
          "BA",
          "MA",
          "MTech",
          "BSc",
          "MSc",
          "BTech",
          "MSc",
          "Class 12",
          "MSc",
          "BSc",
          "BSc",
          "MTech",
          "MTech",
          "BA",
          "BTech",
          "Class 9",
          "BA",
          "MSc",
          "MA",
          "MTech",
          "MTech",
          "BSc",
          "MA",
          "MTech",
          "BTech",
          "Class 10",
          "MA",
          "MA",
          "MTech",
          "MA",
          "MA",
          "BTech",
          "BA",
          "MA",
          "MSc",
          "MTech",
          "MSc",
          "MA",
          "BSc",
          "Class 9",
          "BA",
          "MTech",
          "MSc",
          "Class 9",
          "BA",
          "MA",
          "BA",
          "BTech",
          "BTech",
          "Class 8",
          "BA",
          "MSc",
          "Class 11",
          "Class 9",
          "Class 9",
          "MA",
          "BTech",
          "MSc",
          "Class 11",
          "Class 10",
          "BA",
          "BTech",
          "MTech",
          "Class 10",
          "BTech",
          "Class 11",
          "MTech",
          "BA",
          "BTech",
          "Class 10",
          "BTech",
          "MSc",
          "BA",
          "Class 11",
          "Class 8",
          "BA",
          "MA",
          "MTech",
          "MSc",
          "Class 8",
          "Class 10",
          "Class 8",
          "Class 8",
          "MSc",
          "BSc",
          "MSc",
          "BTech",
          "MA",
          "Class 9",
          "MSc",
          "BA",
          "Class 12",
          "BA",
          "BSc",
          "Class 10",
          "MA",
          "BTech",
          "MA",
          "MSc",
          "Class 11",
          "MA",
          "Class 11",
          "MTech",
          "Class 10",
          "BA",
          "MA",
          "MSc",
          "MTech",
          "MTech",
          "MTech",
          "Class 11",
          "Class 11",
          "Class 9",
          "Class 12",
          "BTech",
          "Class 11",
          "Class 12",
          "Class 10",
          "BSc",
          "MA",
          "MSc",
          "BSc",
          "Class 11",
          "BSc",
          "MTech",
          "MA",
          "Class 12",
          "Class 10"
         ],
         "xaxis": "x",
         "yaxis": "y"
        }
       ],
       "layout": {
        "barmode": "group",
        "height": 500,
        "legend": {
         "title": {
          "text": "Tingkat Stres"
         },
         "tracegroupgap": 0
        },
        "template": {
         "data": {
          "bar": [
           {
            "error_x": {
             "color": "#2a3f5f"
            },
            "error_y": {
             "color": "#2a3f5f"
            },
            "marker": {
             "line": {
              "color": "#E5ECF6",
              "width": 0.5
             },
             "pattern": {
              "fillmode": "overlay",
              "size": 10,
              "solidity": 0.2
             }
            },
            "type": "bar"
           }
          ],
          "barpolar": [
           {
            "marker": {
             "line": {
              "color": "#E5ECF6",
              "width": 0.5
             },
             "pattern": {
              "fillmode": "overlay",
              "size": 10,
              "solidity": 0.2
             }
            },
            "type": "barpolar"
           }
          ],
          "carpet": [
           {
            "aaxis": {
             "endlinecolor": "#2a3f5f",
             "gridcolor": "white",
             "linecolor": "white",
             "minorgridcolor": "white",
             "startlinecolor": "#2a3f5f"
            },
            "baxis": {
             "endlinecolor": "#2a3f5f",
             "gridcolor": "white",
             "linecolor": "white",
             "minorgridcolor": "white",
             "startlinecolor": "#2a3f5f"
            },
            "type": "carpet"
           }
          ],
          "choropleth": [
           {
            "colorbar": {
             "outlinewidth": 0,
             "ticks": ""
            },
            "type": "choropleth"
           }
          ],
          "contour": [
           {
            "colorbar": {
             "outlinewidth": 0,
             "ticks": ""
            },
            "colorscale": [
             [
              0,
              "#0d0887"
             ],
             [
              0.1111111111111111,
              "#46039f"
             ],
             [
              0.2222222222222222,
              "#7201a8"
             ],
             [
              0.3333333333333333,
              "#9c179e"
             ],
             [
              0.4444444444444444,
              "#bd3786"
             ],
             [
              0.5555555555555556,
              "#d8576b"
             ],
             [
              0.6666666666666666,
              "#ed7953"
             ],
             [
              0.7777777777777778,
              "#fb9f3a"
             ],
             [
              0.8888888888888888,
              "#fdca26"
             ],
             [
              1,
              "#f0f921"
             ]
            ],
            "type": "contour"
           }
          ],
          "contourcarpet": [
           {
            "colorbar": {
             "outlinewidth": 0,
             "ticks": ""
            },
            "type": "contourcarpet"
           }
          ],
          "heatmap": [
           {
            "colorbar": {
             "outlinewidth": 0,
             "ticks": ""
            },
            "colorscale": [
             [
              0,
              "#0d0887"
             ],
             [
              0.1111111111111111,
              "#46039f"
             ],
             [
              0.2222222222222222,
              "#7201a8"
             ],
             [
              0.3333333333333333,
              "#9c179e"
             ],
             [
              0.4444444444444444,
              "#bd3786"
             ],
             [
              0.5555555555555556,
              "#d8576b"
             ],
             [
              0.6666666666666666,
              "#ed7953"
             ],
             [
              0.7777777777777778,
              "#fb9f3a"
             ],
             [
              0.8888888888888888,
              "#fdca26"
             ],
             [
              1,
              "#f0f921"
             ]
            ],
            "type": "heatmap"
           }
          ],
          "histogram": [
           {
            "marker": {
             "pattern": {
              "fillmode": "overlay",
              "size": 10,
              "solidity": 0.2
             }
            },
            "type": "histogram"
           }
          ],
          "histogram2d": [
           {
            "colorbar": {
             "outlinewidth": 0,
             "ticks": ""
            },
            "colorscale": [
             [
              0,
              "#0d0887"
             ],
             [
              0.1111111111111111,
              "#46039f"
             ],
             [
              0.2222222222222222,
              "#7201a8"
             ],
             [
              0.3333333333333333,
              "#9c179e"
             ],
             [
              0.4444444444444444,
              "#bd3786"
             ],
             [
              0.5555555555555556,
              "#d8576b"
             ],
             [
              0.6666666666666666,
              "#ed7953"
             ],
             [
              0.7777777777777778,
              "#fb9f3a"
             ],
             [
              0.8888888888888888,
              "#fdca26"
             ],
             [
              1,
              "#f0f921"
             ]
            ],
            "type": "histogram2d"
           }
          ],
          "histogram2dcontour": [
           {
            "colorbar": {
             "outlinewidth": 0,
             "ticks": ""
            },
            "colorscale": [
             [
              0,
              "#0d0887"
             ],
             [
              0.1111111111111111,
              "#46039f"
             ],
             [
              0.2222222222222222,
              "#7201a8"
             ],
             [
              0.3333333333333333,
              "#9c179e"
             ],
             [
              0.4444444444444444,
              "#bd3786"
             ],
             [
              0.5555555555555556,
              "#d8576b"
             ],
             [
              0.6666666666666666,
              "#ed7953"
             ],
             [
              0.7777777777777778,
              "#fb9f3a"
             ],
             [
              0.8888888888888888,
              "#fdca26"
             ],
             [
              1,
              "#f0f921"
             ]
            ],
            "type": "histogram2dcontour"
           }
          ],
          "mesh3d": [
           {
            "colorbar": {
             "outlinewidth": 0,
             "ticks": ""
            },
            "type": "mesh3d"
           }
          ],
          "parcoords": [
           {
            "line": {
             "colorbar": {
              "outlinewidth": 0,
              "ticks": ""
             }
            },
            "type": "parcoords"
           }
          ],
          "pie": [
           {
            "automargin": true,
            "type": "pie"
           }
          ],
          "scatter": [
           {
            "fillpattern": {
             "fillmode": "overlay",
             "size": 10,
             "solidity": 0.2
            },
            "type": "scatter"
           }
          ],
          "scatter3d": [
           {
            "line": {
             "colorbar": {
              "outlinewidth": 0,
              "ticks": ""
             }
            },
            "marker": {
             "colorbar": {
              "outlinewidth": 0,
              "ticks": ""
             }
            },
            "type": "scatter3d"
           }
          ],
          "scattercarpet": [
           {
            "marker": {
             "colorbar": {
              "outlinewidth": 0,
              "ticks": ""
             }
            },
            "type": "scattercarpet"
           }
          ],
          "scattergeo": [
           {
            "marker": {
             "colorbar": {
              "outlinewidth": 0,
              "ticks": ""
             }
            },
            "type": "scattergeo"
           }
          ],
          "scattergl": [
           {
            "marker": {
             "colorbar": {
              "outlinewidth": 0,
              "ticks": ""
             }
            },
            "type": "scattergl"
           }
          ],
          "scattermap": [
           {
            "marker": {
             "colorbar": {
              "outlinewidth": 0,
              "ticks": ""
             }
            },
            "type": "scattermap"
           }
          ],
          "scattermapbox": [
           {
            "marker": {
             "colorbar": {
              "outlinewidth": 0,
              "ticks": ""
             }
            },
            "type": "scattermapbox"
           }
          ],
          "scatterpolar": [
           {
            "marker": {
             "colorbar": {
              "outlinewidth": 0,
              "ticks": ""
             }
            },
            "type": "scatterpolar"
           }
          ],
          "scatterpolargl": [
           {
            "marker": {
             "colorbar": {
              "outlinewidth": 0,
              "ticks": ""
             }
            },
            "type": "scatterpolargl"
           }
          ],
          "scatterternary": [
           {
            "marker": {
             "colorbar": {
              "outlinewidth": 0,
              "ticks": ""
             }
            },
            "type": "scatterternary"
           }
          ],
          "surface": [
           {
            "colorbar": {
             "outlinewidth": 0,
             "ticks": ""
            },
            "colorscale": [
             [
              0,
              "#0d0887"
             ],
             [
              0.1111111111111111,
              "#46039f"
             ],
             [
              0.2222222222222222,
              "#7201a8"
             ],
             [
              0.3333333333333333,
              "#9c179e"
             ],
             [
              0.4444444444444444,
              "#bd3786"
             ],
             [
              0.5555555555555556,
              "#d8576b"
             ],
             [
              0.6666666666666666,
              "#ed7953"
             ],
             [
              0.7777777777777778,
              "#fb9f3a"
             ],
             [
              0.8888888888888888,
              "#fdca26"
             ],
             [
              1,
              "#f0f921"
             ]
            ],
            "type": "surface"
           }
          ],
          "table": [
           {
            "cells": {
             "fill": {
              "color": "#EBF0F8"
             },
             "line": {
              "color": "white"
             }
            },
            "header": {
             "fill": {
              "color": "#C8D4E3"
             },
             "line": {
              "color": "white"
             }
            },
            "type": "table"
           }
          ]
         },
         "layout": {
          "annotationdefaults": {
           "arrowcolor": "#2a3f5f",
           "arrowhead": 0,
           "arrowwidth": 1
          },
          "autotypenumbers": "strict",
          "coloraxis": {
           "colorbar": {
            "outlinewidth": 0,
            "ticks": ""
           }
          },
          "colorscale": {
           "diverging": [
            [
             0,
             "#8e0152"
            ],
            [
             0.1,
             "#c51b7d"
            ],
            [
             0.2,
             "#de77ae"
            ],
            [
             0.3,
             "#f1b6da"
            ],
            [
             0.4,
             "#fde0ef"
            ],
            [
             0.5,
             "#f7f7f7"
            ],
            [
             0.6,
             "#e6f5d0"
            ],
            [
             0.7,
             "#b8e186"
            ],
            [
             0.8,
             "#7fbc41"
            ],
            [
             0.9,
             "#4d9221"
            ],
            [
             1,
             "#276419"
            ]
           ],
           "sequential": [
            [
             0,
             "#0d0887"
            ],
            [
             0.1111111111111111,
             "#46039f"
            ],
            [
             0.2222222222222222,
             "#7201a8"
            ],
            [
             0.3333333333333333,
             "#9c179e"
            ],
            [
             0.4444444444444444,
             "#bd3786"
            ],
            [
             0.5555555555555556,
             "#d8576b"
            ],
            [
             0.6666666666666666,
             "#ed7953"
            ],
            [
             0.7777777777777778,
             "#fb9f3a"
            ],
            [
             0.8888888888888888,
             "#fdca26"
            ],
            [
             1,
             "#f0f921"
            ]
           ],
           "sequentialminus": [
            [
             0,
             "#0d0887"
            ],
            [
             0.1111111111111111,
             "#46039f"
            ],
            [
             0.2222222222222222,
             "#7201a8"
            ],
            [
             0.3333333333333333,
             "#9c179e"
            ],
            [
             0.4444444444444444,
             "#bd3786"
            ],
            [
             0.5555555555555556,
             "#d8576b"
            ],
            [
             0.6666666666666666,
             "#ed7953"
            ],
            [
             0.7777777777777778,
             "#fb9f3a"
            ],
            [
             0.8888888888888888,
             "#fdca26"
            ],
            [
             1,
             "#f0f921"
            ]
           ]
          },
          "colorway": [
           "#636efa",
           "#EF553B",
           "#00cc96",
           "#ab63fa",
           "#FFA15A",
           "#19d3f3",
           "#FF6692",
           "#B6E880",
           "#FF97FF",
           "#FECB52"
          ],
          "font": {
           "color": "#2a3f5f"
          },
          "geo": {
           "bgcolor": "white",
           "lakecolor": "white",
           "landcolor": "#E5ECF6",
           "showlakes": true,
           "showland": true,
           "subunitcolor": "white"
          },
          "hoverlabel": {
           "align": "left"
          },
          "hovermode": "closest",
          "mapbox": {
           "style": "light"
          },
          "paper_bgcolor": "white",
          "plot_bgcolor": "#E5ECF6",
          "polar": {
           "angularaxis": {
            "gridcolor": "white",
            "linecolor": "white",
            "ticks": ""
           },
           "bgcolor": "#E5ECF6",
           "radialaxis": {
            "gridcolor": "white",
            "linecolor": "white",
            "ticks": ""
           }
          },
          "scene": {
           "xaxis": {
            "backgroundcolor": "#E5ECF6",
            "gridcolor": "white",
            "gridwidth": 2,
            "linecolor": "white",
            "showbackground": true,
            "ticks": "",
            "zerolinecolor": "white"
           },
           "yaxis": {
            "backgroundcolor": "#E5ECF6",
            "gridcolor": "white",
            "gridwidth": 2,
            "linecolor": "white",
            "showbackground": true,
            "ticks": "",
            "zerolinecolor": "white"
           },
           "zaxis": {
            "backgroundcolor": "#E5ECF6",
            "gridcolor": "white",
            "gridwidth": 2,
            "linecolor": "white",
            "showbackground": true,
            "ticks": "",
            "zerolinecolor": "white"
           }
          },
          "shapedefaults": {
           "line": {
            "color": "#2a3f5f"
           }
          },
          "ternary": {
           "aaxis": {
            "gridcolor": "white",
            "linecolor": "white",
            "ticks": ""
           },
           "baxis": {
            "gridcolor": "white",
            "linecolor": "white",
            "ticks": ""
           },
           "bgcolor": "#E5ECF6",
           "caxis": {
            "gridcolor": "white",
            "linecolor": "white",
            "ticks": ""
           }
          },
          "title": {
           "x": 0.05
          },
          "xaxis": {
           "automargin": true,
           "gridcolor": "white",
           "linecolor": "white",
           "ticks": "",
           "title": {
            "standoff": 15
           },
           "zerolinecolor": "white",
           "zerolinewidth": 2
          },
          "yaxis": {
           "automargin": true,
           "gridcolor": "white",
           "linecolor": "white",
           "ticks": "",
           "title": {
            "standoff": 15
           },
           "zerolinecolor": "white",
           "zerolinewidth": 2
          }
         }
        },
        "title": {
         "text": "Distribusi Tingkat Stres Berdasarkan Jenjang Pendidikan"
        },
        "xaxis": {
         "anchor": "y",
         "domain": [
          0,
          1
         ],
         "title": {
          "text": "Jenjang Pendidikan"
         }
        },
        "yaxis": {
         "anchor": "x",
         "domain": [
          0,
          1
         ],
         "title": {
          "text": "count"
         }
        }
       }
      }
     },
     "metadata": {},
     "output_type": "display_data"
    }
   ],
   "source": [
    "# Menggunakan Plotly Express\n",
    "fig_edu_stress = px.histogram(\n",
    "    df,\n",
    "    x='Education Level',\n",
    "    color='Stress Level',\n",
    "    title='Distribusi Tingkat Stres Berdasarkan Jenjang Pendidikan',\n",
    "    labels={'Education Level': 'Jenjang Pendidikan', 'Stress Level': 'Tingkat Stres'},\n",
    "    barmode='group',\n",
    "    category_orders={'Stress Level': stress_order},\n",
    "    height=500\n",
    ")\n",
    "fig_edu_stress.show()"
   ]
  },
  {
   "cell_type": "markdown",
   "id": "19cc0b22",
   "metadata": {},
   "source": [
    "#### Durasi Tidur Berdasarkan Tingkat Stres\n",
    "\n",
    "#### 📊 Box Plot\n",
    "\n",
    "---\n",
    "\n",
    "##### **Temuan Utama:**\n",
    "\n",
    "Berdasarkan visualisasi **box plot**, terlihat bahwa **tingkat stres berpengaruh terhadap durasi jam tidur siswa**. Rata-rata Durasi tidur pada setiap kategori tingkat stres dapat dijelaskan sebagai berikut:\n",
    "\n",
    "- **Stres Rendah:**\n",
    "  - Q1 : 5,1 jam\n",
    "  - Q2 : 6,6 jam\n",
    "  - Q3 : 7,8 jam\n",
    "\n",
    "- **Stres Sedang:**\n",
    "  - Q1: 5,2 jam\n",
    "  - Q2: 6,4 jam\n",
    "  - Q3: 7,6 jam\n",
    "\n",
    "- **Stres Tinggi:**\n",
    "  - Q1: 5,15 jam\n",
    "  - Q2: 6,5 jam\n",
    "  - Q3: 7,7 jam\n",
    "\n",
    "---\n",
    "\n",
    "##### **Implikasi:**\n",
    "\n",
    "- Data menunjukkan bahwa **tingkat stres memengaruhi pola tidur siswa**.\n",
    "- **Siswa dengan tingkat stres rendah** cenderung tidur lebih lama — sekitar **10% lebih banyak** dibandingkan dengan siswa yang mengalami stres tinggi.\n",
    "- Menariknya, **siswa dengan tingkat stres sedang justru memiliki durasi tidur yang lebih pendek** dibandingkan baik kelompok stres rendah maupun stres tinggi.\n",
    "- Hal ini bisa mengindikasikan bahwa pada tingkat stres sedang, siswa mungkin mengalami **gangguan tidur yang tidak stabil**, seperti sulit tidur meskipun tidak dalam tekanan ekstrem.\n",
    "\n",
    "---\n",
    "\n",
    "> 💡 **Kesimpulan**: Terdapat hubungan yang signifikan antara tingkat stres dan durasi tidur. Upaya peningkatan manajemen stres dapat berdampak positif terhadap kualitas tidur siswa.\n"
   ]
  },
  {
   "cell_type": "code",
   "execution_count": 70,
   "id": "3fb80cc6",
   "metadata": {},
   "outputs": [
    {
     "data": {
      "application/vnd.plotly.v1+json": {
       "config": {
        "plotlyServerURL": "https://plot.ly"
       },
       "data": [
        {
         "alignmentgroup": "True",
         "hovertemplate": "Tingkat stress=%{x}<br>Durasi Tidur (Jam)=%{y}<extra></extra>",
         "legendgroup": "Medium",
         "marker": {
          "color": "#636efa"
         },
         "name": "Medium",
         "notched": false,
         "offsetgroup": "Medium",
         "orientation": "v",
         "showlegend": true,
         "type": "box",
         "x": [
          "Medium",
          "Medium",
          "Medium",
          "Medium",
          "Medium",
          "Medium",
          "Medium",
          "Medium",
          "Medium",
          "Medium",
          "Medium",
          "Medium",
          "Medium",
          "Medium",
          "Medium",
          "Medium",
          "Medium",
          "Medium",
          "Medium",
          "Medium",
          "Medium",
          "Medium",
          "Medium",
          "Medium",
          "Medium",
          "Medium",
          "Medium",
          "Medium",
          "Medium",
          "Medium",
          "Medium",
          "Medium",
          "Medium",
          "Medium",
          "Medium",
          "Medium",
          "Medium",
          "Medium",
          "Medium",
          "Medium",
          "Medium",
          "Medium",
          "Medium",
          "Medium",
          "Medium",
          "Medium",
          "Medium",
          "Medium",
          "Medium",
          "Medium",
          "Medium",
          "Medium",
          "Medium",
          "Medium",
          "Medium",
          "Medium",
          "Medium",
          "Medium",
          "Medium",
          "Medium",
          "Medium",
          "Medium",
          "Medium",
          "Medium",
          "Medium",
          "Medium",
          "Medium",
          "Medium",
          "Medium",
          "Medium",
          "Medium",
          "Medium",
          "Medium",
          "Medium",
          "Medium",
          "Medium",
          "Medium",
          "Medium",
          "Medium",
          "Medium",
          "Medium",
          "Medium",
          "Medium",
          "Medium",
          "Medium",
          "Medium",
          "Medium",
          "Medium",
          "Medium",
          "Medium",
          "Medium",
          "Medium",
          "Medium",
          "Medium",
          "Medium",
          "Medium",
          "Medium",
          "Medium",
          "Medium",
          "Medium",
          "Medium",
          "Medium",
          "Medium",
          "Medium",
          "Medium",
          "Medium",
          "Medium",
          "Medium",
          "Medium",
          "Medium",
          "Medium",
          "Medium",
          "Medium",
          "Medium",
          "Medium",
          "Medium",
          "Medium",
          "Medium",
          "Medium",
          "Medium",
          "Medium",
          "Medium",
          "Medium",
          "Medium",
          "Medium",
          "Medium",
          "Medium",
          "Medium",
          "Medium",
          "Medium",
          "Medium",
          "Medium",
          "Medium",
          "Medium",
          "Medium",
          "Medium",
          "Medium",
          "Medium",
          "Medium",
          "Medium",
          "Medium",
          "Medium",
          "Medium",
          "Medium",
          "Medium",
          "Medium",
          "Medium",
          "Medium",
          "Medium",
          "Medium",
          "Medium",
          "Medium",
          "Medium",
          "Medium",
          "Medium",
          "Medium",
          "Medium",
          "Medium",
          "Medium",
          "Medium",
          "Medium",
          "Medium",
          "Medium",
          "Medium",
          "Medium",
          "Medium",
          "Medium",
          "Medium",
          "Medium",
          "Medium",
          "Medium",
          "Medium",
          "Medium",
          "Medium",
          "Medium",
          "Medium",
          "Medium",
          "Medium",
          "Medium",
          "Medium",
          "Medium",
          "Medium",
          "Medium",
          "Medium",
          "Medium",
          "Medium",
          "Medium",
          "Medium",
          "Medium",
          "Medium",
          "Medium",
          "Medium",
          "Medium",
          "Medium",
          "Medium",
          "Medium",
          "Medium",
          "Medium",
          "Medium",
          "Medium",
          "Medium",
          "Medium",
          "Medium",
          "Medium",
          "Medium",
          "Medium",
          "Medium",
          "Medium",
          "Medium",
          "Medium",
          "Medium",
          "Medium",
          "Medium",
          "Medium",
          "Medium",
          "Medium",
          "Medium",
          "Medium",
          "Medium",
          "Medium",
          "Medium",
          "Medium",
          "Medium",
          "Medium",
          "Medium",
          "Medium",
          "Medium",
          "Medium",
          "Medium",
          "Medium",
          "Medium",
          "Medium",
          "Medium",
          "Medium",
          "Medium",
          "Medium",
          "Medium",
          "Medium",
          "Medium",
          "Medium",
          "Medium",
          "Medium",
          "Medium",
          "Medium",
          "Medium",
          "Medium",
          "Medium",
          "Medium",
          "Medium",
          "Medium",
          "Medium",
          "Medium",
          "Medium",
          "Medium",
          "Medium",
          "Medium",
          "Medium",
          "Medium",
          "Medium",
          "Medium",
          "Medium",
          "Medium",
          "Medium",
          "Medium",
          "Medium",
          "Medium",
          "Medium",
          "Medium",
          "Medium",
          "Medium",
          "Medium",
          "Medium",
          "Medium",
          "Medium",
          "Medium",
          "Medium",
          "Medium",
          "Medium",
          "Medium",
          "Medium",
          "Medium",
          "Medium",
          "Medium",
          "Medium",
          "Medium",
          "Medium",
          "Medium",
          "Medium",
          "Medium",
          "Medium",
          "Medium",
          "Medium",
          "Medium",
          "Medium",
          "Medium",
          "Medium",
          "Medium",
          "Medium",
          "Medium",
          "Medium",
          "Medium",
          "Medium",
          "Medium",
          "Medium",
          "Medium",
          "Medium",
          "Medium",
          "Medium",
          "Medium",
          "Medium",
          "Medium",
          "Medium",
          "Medium",
          "Medium",
          "Medium",
          "Medium",
          "Medium",
          "Medium",
          "Medium",
          "Medium",
          "Medium",
          "Medium",
          "Medium",
          "Medium",
          "Medium",
          "Medium",
          "Medium",
          "Medium",
          "Medium",
          "Medium",
          "Medium",
          "Medium",
          "Medium",
          "Medium",
          "Medium",
          "Medium",
          "Medium",
          "Medium",
          "Medium",
          "Medium",
          "Medium",
          "Medium",
          "Medium",
          "Medium",
          "Medium",
          "Medium",
          "Medium",
          "Medium",
          "Medium",
          "Medium",
          "Medium",
          "Medium",
          "Medium",
          "Medium",
          "Medium",
          "Medium",
          "Medium",
          "Medium",
          "Medium",
          "Medium",
          "Medium",
          "Medium",
          "Medium",
          "Medium",
          "Medium",
          "Medium",
          "Medium",
          "Medium",
          "Medium",
          "Medium",
          "Medium",
          "Medium",
          "Medium",
          "Medium",
          "Medium",
          "Medium",
          "Medium",
          "Medium",
          "Medium",
          "Medium",
          "Medium",
          "Medium",
          "Medium",
          "Medium",
          "Medium",
          "Medium",
          "Medium",
          "Medium",
          "Medium",
          "Medium",
          "Medium",
          "Medium",
          "Medium",
          "Medium",
          "Medium",
          "Medium",
          "Medium",
          "Medium",
          "Medium",
          "Medium",
          "Medium",
          "Medium",
          "Medium",
          "Medium",
          "Medium",
          "Medium",
          "Medium",
          "Medium",
          "Medium",
          "Medium",
          "Medium",
          "Medium",
          "Medium",
          "Medium",
          "Medium",
          "Medium",
          "Medium",
          "Medium",
          "Medium",
          "Medium",
          "Medium",
          "Medium",
          "Medium",
          "Medium",
          "Medium",
          "Medium",
          "Medium",
          "Medium",
          "Medium",
          "Medium",
          "Medium",
          "Medium",
          "Medium",
          "Medium",
          "Medium",
          "Medium",
          "Medium",
          "Medium",
          "Medium",
          "Medium",
          "Medium",
          "Medium",
          "Medium",
          "Medium",
          "Medium",
          "Medium",
          "Medium",
          "Medium",
          "Medium",
          "Medium",
          "Medium",
          "Medium",
          "Medium",
          "Medium",
          "Medium",
          "Medium",
          "Medium",
          "Medium",
          "Medium",
          "Medium",
          "Medium",
          "Medium",
          "Medium",
          "Medium",
          "Medium",
          "Medium",
          "Medium",
          "Medium",
          "Medium",
          "Medium",
          "Medium",
          "Medium",
          "Medium",
          "Medium",
          "Medium",
          "Medium",
          "Medium",
          "Medium",
          "Medium",
          "Medium",
          "Medium",
          "Medium",
          "Medium",
          "Medium",
          "Medium",
          "Medium",
          "Medium",
          "Medium",
          "Medium",
          "Medium",
          "Medium",
          "Medium"
         ],
         "x0": " ",
         "xaxis": "x",
         "y": {
          "bdata": "zczMzMzMIUAAAAAAAAAUQJqZmZmZmRVAmpmZmZmZFUBmZmZmZmYaQM3MzMzMzBJAAAAAAAAAFEAAAAAAAAAhQGZmZmZmZhZAmpmZmZmZFUAAAAAAAAAhQDMzMzMzMxtAmpmZmZmZH0CamZmZmZkTQGZmZmZmZhJAmpmZmZmZIUAzMzMzMzMhQDMzMzMzMyFAmpmZmZmZIEAzMzMzMzMgQGZmZmZmZhpAzczMzMzMGEAzMzMzMzMbQDMzMzMzMx1AzczMzMzMHECamZmZmZkZQAAAAAAAACFAAAAAAAAAIkBmZmZmZmYYQGZmZmZmZhZAmpmZmZmZIUAzMzMzMzMgQDMzMzMzMx1AZmZmZmZmEEDNzMzMzMwUQAAAAAAAABZAZmZmZmZmIUDNzMzMzMwSQJqZmZmZmRNAAAAAAAAAFEAAAAAAAAAeQGZmZmZmZhBAAAAAAAAAFEAzMzMzMzMVQGZmZmZmZhBAAAAAAAAAFkDNzMzMzMwYQGZmZmZmZhJAAAAAAAAAFEAAAAAAAAAeQJqZmZmZmRlAMzMzMzMzH0DNzMzMzMwQQAAAAAAAABRAmpmZmZmZFUDNzMzMzMweQGZmZmZmZhhAzczMzMzMFkDNzMzMzMwcQGZmZmZmZhJAMzMzMzMzFUAAAAAAAAAeQJqZmZmZmRFAAAAAAAAAIUBmZmZmZmYSQAAAAAAAABpAAAAAAAAAIkBmZmZmZmYcQGZmZmZmZhxAMzMzMzMzFUAAAAAAAAAgQGZmZmZmZhxAZmZmZmZmEEBmZmZmZmYYQM3MzMzMzBRAMzMzMzMzG0BmZmZmZmYWQGZmZmZmZhpAAAAAAAAAIkBmZmZmZmYYQM3MzMzMzBpAzczMzMzMEEDNzMzMzMwhQDMzMzMzMxVAmpmZmZmZEUDNzMzMzMwhQJqZmZmZmSBAzczMzMzMIUAAAAAAAAAgQM3MzMzMzBZAMzMzMzMzE0BmZmZmZmYhQDMzMzMzMxdAAAAAAAAAFkDNzMzMzMwWQM3MzMzMzCFAAAAAAAAAIUBmZmZmZmYSQM3MzMzMzBBAmpmZmZmZIUAAAAAAAAAeQAAAAAAAABBAMzMzMzMzG0DNzMzMzMwUQGZmZmZmZhhAmpmZmZmZHUAAAAAAAAAhQM3MzMzMzCFAMzMzMzMzH0AzMzMzMzMfQM3MzMzMzBhAMzMzMzMzE0AzMzMzMzMTQM3MzMzMzCBAzczMzMzMFkAzMzMzMzMRQAAAAAAAAB5AzczMzMzMHkBmZmZmZmYaQM3MzMzMzCBAAAAAAAAAIECamZmZmZkTQGZmZmZmZiBAmpmZmZmZE0CamZmZmZkRQJqZmZmZmRFAmpmZmZmZG0DNzMzMzMwYQJqZmZmZmRdAZmZmZmZmGECamZmZmZkfQM3MzMzMzCBAzczMzMzMHEAAAAAAAAAhQDMzMzMzMyBAZmZmZmZmFkAzMzMzMzMbQAAAAAAAABpAzczMzMzMIEDNzMzMzMwUQGZmZmZmZhJAAAAAAAAAIUAzMzMzMzMbQJqZmZmZmSBAAAAAAAAAGEAAAAAAAAAcQAAAAAAAABJAMzMzMzMzH0BmZmZmZmYhQJqZmZmZmRVAZmZmZmZmIECamZmZmZkgQDMzMzMzMxNAmpmZmZmZH0DNzMzMzMwWQM3MzMzMzBpAMzMzMzMzH0AAAAAAAAAWQM3MzMzMzBRAmpmZmZmZIEAzMzMzMzMbQJqZmZmZmRVAMzMzMzMzG0BmZmZmZmYSQDMzMzMzMxdAzczMzMzMFEAzMzMzMzMTQAAAAAAAACBAMzMzMzMzIUDNzMzMzMwaQGZmZmZmZhBAMzMzMzMzGUAAAAAAAAAcQAAAAAAAACBAZmZmZmZmFECamZmZmZkTQGZmZmZmZhpAZmZmZmZmGkDNzMzMzMwQQAAAAAAAABRAMzMzMzMzHUAzMzMzMzMXQGZmZmZmZhJAzczMzMzMFEAzMzMzMzMRQAAAAAAAAB5AAAAAAAAAGEAzMzMzMzMdQAAAAAAAABBAZmZmZmZmGECamZmZmZkgQDMzMzMzMyFAAAAAAAAAGkAAAAAAAAAUQGZmZmZmZhpAmpmZmZmZIUDNzMzMzMwUQJqZmZmZmRVAMzMzMzMzGUBmZmZmZmYWQAAAAAAAABpAZmZmZmZmEEBmZmZmZmYWQGZmZmZmZhRAZmZmZmZmIUBmZmZmZmYQQAAAAAAAABZAAAAAAAAAHkDNzMzMzMweQGZmZmZmZhZAmpmZmZmZEUBmZmZmZmYWQJqZmZmZmSBAZmZmZmZmHkDNzMzMzMwaQJqZmZmZmRdAZmZmZmZmEECamZmZmZkRQM3MzMzMzCFAmpmZmZmZF0AzMzMzMzMZQAAAAAAAAB5AzczMzMzMFkBmZmZmZmYhQJqZmZmZmSFAZmZmZmZmEEAAAAAAAAAWQGZmZmZmZhxAzczMzMzMGkBmZmZmZmYUQM3MzMzMzBZAmpmZmZmZEUDNzMzMzMwWQJqZmZmZmRdAZmZmZmZmEECamZmZmZkbQDMzMzMzMxFAZmZmZmZmFEAAAAAAAAAaQGZmZmZmZhZAAAAAAAAAHkBmZmZmZmYaQGZmZmZmZiBAmpmZmZmZGUBmZmZmZmYeQM3MzMzMzCBAzczMzMzMFEBmZmZmZmYgQM3MzMzMzBpAMzMzMzMzGUAzMzMzMzMRQAAAAAAAABxAzczMzMzMGECamZmZmZkbQAAAAAAAAB5AmpmZmZmZGUAzMzMzMzMVQGZmZmZmZhpAmpmZmZmZG0BmZmZmZmYSQGZmZmZmZhRAzczMzMzMEECamZmZmZkTQDMzMzMzMxVAzczMzMzMGkAAAAAAAAASQGZmZmZmZhxAMzMzMzMzF0AAAAAAAAASQAAAAAAAACJAmpmZmZmZE0CamZmZmZkhQM3MzMzMzBRAZmZmZmZmIUBmZmZmZmYgQJqZmZmZmR9AZmZmZmZmGkAAAAAAAAAUQDMzMzMzMx9AmpmZmZmZH0DNzMzMzMwcQDMzMzMzMyFAAAAAAAAAIEAAAAAAAAAQQDMzMzMzMxdAZmZmZmZmFkDNzMzMzMwhQDMzMzMzMxdAZmZmZmZmHEDNzMzMzMwaQJqZmZmZmR9AMzMzMzMzGUCamZmZmZkfQGZmZmZmZhhAAAAAAAAAFkCamZmZmZkZQJqZmZmZmRVAmpmZmZmZG0DNzMzMzMwaQJqZmZmZmR9AmpmZmZmZE0DNzMzMzMwQQAAAAAAAABRAMzMzMzMzH0AzMzMzMzMTQDMzMzMzMxdAMzMzMzMzIUCamZmZmZkdQJqZmZmZmRlAmpmZmZmZF0AzMzMzMzMbQGZmZmZmZh5AmpmZmZmZG0CamZmZmZkbQJqZmZmZmRFAZmZmZmZmFkBmZmZmZmYSQDMzMzMzMx1AZmZmZmZmIUDNzMzMzMwhQJqZmZmZmRVAmpmZmZmZF0DNzMzMzMwUQM3MzMzMzBRAMzMzMzMzEUBmZmZmZmYSQDMzMzMzMxlAAAAAAAAAEEBmZmZmZmYWQAAAAAAAAB5AZmZmZmZmFkAzMzMzMzMXQM3MzMzMzBJAmpmZmZmZIUBmZmZmZmYcQGZmZmZmZh5AAAAAAAAAHkAAAAAAAAAaQAAAAAAAABpAMzMzMzMzGUDNzMzMzMwUQDMzMzMzMxlAMzMzMzMzEUDNzMzMzMwQQDMzMzMzMxtAZmZmZmZmHEDNzMzMzMweQGZmZmZmZhRAzczMzMzMFkBmZmZmZmYgQGZmZmZmZiBAmpmZmZmZH0DNzMzMzMwcQGZmZmZmZiBAAAAAAAAAIkDNzMzMzMwQQGZmZmZmZhhAZmZmZmZmEkAAAAAAAAAaQM3MzMzMzBJAZmZmZmZmGkCamZmZmZkfQDMzMzMzMxNAZmZmZmZmHEBmZmZmZmYgQJqZmZmZmSBAZmZmZmZmFkAAAAAAAAAUQGZmZmZmZhJAZmZmZmZmEkAAAAAAAAAgQGZmZmZmZhhAMzMzMzMzHUBmZmZmZmYcQJqZmZmZmRlAAAAAAAAAIUAzMzMzMzMRQM3MzMzMzBBAZmZmZmZmHkAAAAAAAAAhQGZmZmZmZhhAmpmZmZmZE0BmZmZmZmYhQJqZmZmZmRFAzczMzMzMIUCamZmZmZkXQDMzMzMzMyFAMzMzMzMzE0CamZmZmZkhQGZmZmZmZhhAMzMzMzMzFUDNzMzMzMwcQAAAAAAAACJAZmZmZmZmEkAAAAAAAAAeQJqZmZmZmRVAMzMzMzMzIECamZmZmZkhQM3MzMzMzBJAzczMzMzMGkAzMzMzMzMTQGZmZmZmZiFAMzMzMzMzIUBmZmZmZmYSQAAAAAAAACBAzczMzMzMEEAzMzMzMzMdQM3MzMzMzBxAmpmZmZmZHUCamZmZmZkdQAAAAAAAABRAzczMzMzMHkAAAAAAAAASQGZmZmZmZhpAMzMzMzMzE0AAAAAAAAAWQGZmZmZmZh5AMzMzMzMzFUDNzMzMzMwcQGZmZmZmZhpAAAAAAAAAGkAAAAAAAAAYQJqZmZmZmR1AMzMzMzMzE0AAAAAAAAAgQGZmZmZmZh5AAAAAAAAAHEBmZmZmZmYcQDMzMzMzMxtAZmZmZmZmEEDNzMzMzMwcQAAAAAAAACBAZmZmZmZmIEAAAAAAAAAcQJqZmZmZmRNAMzMzMzMzF0CamZmZmZkVQAAAAAAAABpAMzMzMzMzG0AzMzMzMzMZQM3MzMzMzBpAMzMzMzMzFUAAAAAAAAASQJqZmZmZmSFAAAAAAAAAFkCamZmZmZkTQM3MzMzMzBpAAAAAAAAAGkDNzMzMzMwQQGZmZmZmZhxAmpmZmZmZIEDNzMzMzMwWQGZmZmZmZhhAzczMzMzMEkAzMzMzMzMdQJqZmZmZmSBAzczMzMzMEEDNzMzMzMwaQJqZmZmZmRlAMzMzMzMzEUAAAAAAAAAYQDMzMzMzMxFAAAAAAAAAFEBmZmZmZmYQQDMzMzMzMxdAMzMzMzMzF0BmZmZmZmYhQJqZmZmZmRVAAAAAAAAAEkCamZmZmZkfQAAAAAAAABhAAAAAAAAAGEDNzMzMzMwYQDMzMzMzMx9AMzMzMzMzEUDNzMzMzMwUQAAAAAAAABBAAAAAAAAAIUDNzMzMzMwSQDMzMzMzMx1AMzMzMzMzHUAAAAAAAAAhQJqZmZmZmRdAMzMzMzMzFUDNzMzMzMwQQDMzMzMzMxFAZmZmZmZmIUAzMzMzMzMgQGZmZmZmZhBAAAAAAAAAFEAzMzMzMzMbQAAAAAAAAB5A",
          "dtype": "f8"
         },
         "y0": " ",
         "yaxis": "y"
        },
        {
         "alignmentgroup": "True",
         "hovertemplate": "Tingkat stress=%{x}<br>Durasi Tidur (Jam)=%{y}<extra></extra>",
         "legendgroup": "High",
         "marker": {
          "color": "#EF553B"
         },
         "name": "High",
         "notched": false,
         "offsetgroup": "High",
         "orientation": "v",
         "showlegend": true,
         "type": "box",
         "x": [
          "High",
          "High",
          "High",
          "High",
          "High",
          "High",
          "High",
          "High",
          "High",
          "High",
          "High",
          "High",
          "High",
          "High",
          "High",
          "High",
          "High",
          "High",
          "High",
          "High",
          "High",
          "High",
          "High",
          "High",
          "High",
          "High",
          "High",
          "High",
          "High",
          "High",
          "High",
          "High",
          "High",
          "High",
          "High",
          "High",
          "High",
          "High",
          "High",
          "High",
          "High",
          "High",
          "High",
          "High",
          "High",
          "High",
          "High",
          "High",
          "High",
          "High",
          "High",
          "High",
          "High",
          "High",
          "High",
          "High",
          "High",
          "High",
          "High",
          "High",
          "High",
          "High",
          "High",
          "High",
          "High",
          "High",
          "High",
          "High",
          "High",
          "High",
          "High",
          "High",
          "High",
          "High",
          "High",
          "High",
          "High",
          "High",
          "High",
          "High",
          "High",
          "High",
          "High",
          "High",
          "High",
          "High",
          "High",
          "High",
          "High",
          "High",
          "High",
          "High",
          "High",
          "High",
          "High",
          "High",
          "High",
          "High",
          "High",
          "High",
          "High",
          "High",
          "High",
          "High",
          "High",
          "High",
          "High",
          "High",
          "High",
          "High",
          "High",
          "High",
          "High",
          "High",
          "High",
          "High",
          "High",
          "High",
          "High",
          "High",
          "High",
          "High",
          "High",
          "High",
          "High",
          "High",
          "High",
          "High",
          "High",
          "High",
          "High",
          "High",
          "High",
          "High",
          "High",
          "High",
          "High",
          "High",
          "High",
          "High",
          "High",
          "High",
          "High",
          "High",
          "High",
          "High",
          "High",
          "High",
          "High",
          "High",
          "High",
          "High",
          "High",
          "High",
          "High",
          "High",
          "High",
          "High",
          "High",
          "High",
          "High",
          "High",
          "High",
          "High",
          "High",
          "High",
          "High",
          "High",
          "High",
          "High",
          "High",
          "High",
          "High",
          "High",
          "High",
          "High",
          "High",
          "High",
          "High",
          "High",
          "High"
         ],
         "x0": " ",
         "xaxis": "x",
         "y": {
          "bdata": "ZmZmZmZmFkCamZmZmZkhQJqZmZmZmRFAMzMzMzMzH0DNzMzMzMwcQJqZmZmZmR9AMzMzMzMzEUAAAAAAAAASQJqZmZmZmRlAZmZmZmZmFEAAAAAAAAAhQAAAAAAAABJAAAAAAAAAIUAAAAAAAAAgQAAAAAAAABhAzczMzMzMHEDNzMzMzMwaQDMzMzMzMx9AZmZmZmZmGkCamZmZmZkgQJqZmZmZmRlAZmZmZmZmEkDNzMzMzMwcQJqZmZmZmRlAAAAAAAAAFkBmZmZmZmYaQDMzMzMzMxtAAAAAAAAAEkBmZmZmZmYUQDMzMzMzMxdAMzMzMzMzF0DNzMzMzMweQM3MzMzMzBBAZmZmZmZmHEDNzMzMzMwcQDMzMzMzMx9AAAAAAAAAHEAzMzMzMzMdQJqZmZmZmRVAAAAAAAAAHEBmZmZmZmYcQJqZmZmZmRFAMzMzMzMzIUDNzMzMzMwSQAAAAAAAACBAzczMzMzMEkAAAAAAAAAhQDMzMzMzMyBAmpmZmZmZEUCamZmZmZkZQDMzMzMzMxNAmpmZmZmZGUAzMzMzMzMZQGZmZmZmZhBAMzMzMzMzEUBmZmZmZmYYQDMzMzMzMxlAmpmZmZmZF0CamZmZmZkZQJqZmZmZmSFAZmZmZmZmEkAzMzMzMzMRQGZmZmZmZhxAmpmZmZmZEUCamZmZmZkbQGZmZmZmZhpAAAAAAAAAGEDNzMzMzMwaQM3MzMzMzBhAMzMzMzMzE0CamZmZmZkXQAAAAAAAABhAAAAAAAAAFkAAAAAAAAAgQJqZmZmZmRFAzczMzMzMGEDNzMzMzMwgQGZmZmZmZhJAzczMzMzMIUAAAAAAAAAcQAAAAAAAACBAmpmZmZmZEUDNzMzMzMwgQM3MzMzMzBBAzczMzMzMEkAAAAAAAAAgQAAAAAAAAB5AmpmZmZmZF0CamZmZmZkfQM3MzMzMzCFAZmZmZmZmGEAzMzMzMzMdQJqZmZmZmRNAZmZmZmZmHEDNzMzMzMwSQM3MzMzMzBhAzczMzMzMEECamZmZmZkdQDMzMzMzMyBAmpmZmZmZFUBmZmZmZmYWQM3MzMzMzBxAzczMzMzMIUBmZmZmZmYeQDMzMzMzMxFAzczMzMzMHkCamZmZmZkfQGZmZmZmZh5AAAAAAAAAGEAzMzMzMzMVQJqZmZmZmR1AzczMzMzMIECamZmZmZkfQJqZmZmZmRlAAAAAAAAAIkBmZmZmZmYSQGZmZmZmZhBAMzMzMzMzE0BmZmZmZmYSQGZmZmZmZhJAzczMzMzMIUBmZmZmZmYQQAAAAAAAACBAzczMzMzMHkBmZmZmZmYSQAAAAAAAABZAzczMzMzMGEDNzMzMzMwhQAAAAAAAABpAZmZmZmZmEkCamZmZmZkgQGZmZmZmZiBAmpmZmZmZE0CamZmZmZkfQM3MzMzMzBhAMzMzMzMzF0AzMzMzMzMVQGZmZmZmZhpAMzMzMzMzHUAAAAAAAAAeQAAAAAAAACBAmpmZmZmZHUBmZmZmZmYgQGZmZmZmZhxAmpmZmZmZG0CamZmZmZkdQJqZmZmZmRVAZmZmZmZmEECamZmZmZkVQAAAAAAAABhAzczMzMzMHkAAAAAAAAAcQJqZmZmZmR1AZmZmZmZmGEAAAAAAAAAiQDMzMzMzMxtAAAAAAAAAEkAAAAAAAAAgQAAAAAAAABpAAAAAAAAAIEDNzMzMzMwUQGZmZmZmZiFAzczMzMzMGECamZmZmZkVQDMzMzMzMyBAMzMzMzMzE0DNzMzMzMwSQM3MzMzMzB5AZmZmZmZmFkCamZmZmZkhQM3MzMzMzBxAzczMzMzMEkBmZmZmZmYcQAAAAAAAABJAAAAAAAAAIkBmZmZmZmYYQJqZmZmZmRlAMzMzMzMzIUAzMzMzMzMRQM3MzMzMzBpAZmZmZmZmGkA=",
          "dtype": "f8"
         },
         "y0": " ",
         "yaxis": "y"
        },
        {
         "alignmentgroup": "True",
         "hovertemplate": "Tingkat stress=%{x}<br>Durasi Tidur (Jam)=%{y}<extra></extra>",
         "legendgroup": "Low",
         "marker": {
          "color": "#00cc96"
         },
         "name": "Low",
         "notched": false,
         "offsetgroup": "Low",
         "orientation": "v",
         "showlegend": true,
         "type": "box",
         "x": [
          "Low",
          "Low",
          "Low",
          "Low",
          "Low",
          "Low",
          "Low",
          "Low",
          "Low",
          "Low",
          "Low",
          "Low",
          "Low",
          "Low",
          "Low",
          "Low",
          "Low",
          "Low",
          "Low",
          "Low",
          "Low",
          "Low",
          "Low",
          "Low",
          "Low",
          "Low",
          "Low",
          "Low",
          "Low",
          "Low",
          "Low",
          "Low",
          "Low",
          "Low",
          "Low",
          "Low",
          "Low",
          "Low",
          "Low",
          "Low",
          "Low",
          "Low",
          "Low",
          "Low",
          "Low",
          "Low",
          "Low",
          "Low",
          "Low",
          "Low",
          "Low",
          "Low",
          "Low",
          "Low",
          "Low",
          "Low",
          "Low",
          "Low",
          "Low",
          "Low",
          "Low",
          "Low",
          "Low",
          "Low",
          "Low",
          "Low",
          "Low",
          "Low",
          "Low",
          "Low",
          "Low",
          "Low",
          "Low",
          "Low",
          "Low",
          "Low",
          "Low",
          "Low",
          "Low",
          "Low",
          "Low",
          "Low",
          "Low",
          "Low",
          "Low",
          "Low",
          "Low",
          "Low",
          "Low",
          "Low",
          "Low",
          "Low",
          "Low",
          "Low",
          "Low",
          "Low",
          "Low",
          "Low",
          "Low",
          "Low",
          "Low",
          "Low",
          "Low",
          "Low",
          "Low",
          "Low",
          "Low",
          "Low",
          "Low",
          "Low",
          "Low",
          "Low",
          "Low",
          "Low",
          "Low",
          "Low",
          "Low",
          "Low",
          "Low",
          "Low",
          "Low",
          "Low",
          "Low",
          "Low",
          "Low",
          "Low",
          "Low",
          "Low",
          "Low",
          "Low",
          "Low",
          "Low",
          "Low",
          "Low",
          "Low",
          "Low",
          "Low",
          "Low",
          "Low",
          "Low",
          "Low",
          "Low",
          "Low",
          "Low",
          "Low",
          "Low",
          "Low",
          "Low",
          "Low",
          "Low",
          "Low",
          "Low",
          "Low",
          "Low",
          "Low",
          "Low",
          "Low",
          "Low",
          "Low",
          "Low",
          "Low",
          "Low",
          "Low",
          "Low",
          "Low",
          "Low",
          "Low",
          "Low",
          "Low",
          "Low",
          "Low",
          "Low",
          "Low",
          "Low",
          "Low",
          "Low",
          "Low",
          "Low",
          "Low",
          "Low",
          "Low",
          "Low",
          "Low",
          "Low",
          "Low",
          "Low",
          "Low",
          "Low",
          "Low",
          "Low",
          "Low",
          "Low",
          "Low",
          "Low",
          "Low",
          "Low",
          "Low",
          "Low",
          "Low",
          "Low",
          "Low",
          "Low",
          "Low",
          "Low",
          "Low",
          "Low",
          "Low",
          "Low",
          "Low",
          "Low",
          "Low",
          "Low",
          "Low",
          "Low",
          "Low",
          "Low",
          "Low",
          "Low",
          "Low",
          "Low",
          "Low",
          "Low",
          "Low",
          "Low",
          "Low",
          "Low",
          "Low",
          "Low",
          "Low",
          "Low",
          "Low",
          "Low",
          "Low",
          "Low",
          "Low",
          "Low",
          "Low",
          "Low",
          "Low",
          "Low",
          "Low",
          "Low",
          "Low",
          "Low",
          "Low",
          "Low",
          "Low",
          "Low",
          "Low",
          "Low",
          "Low",
          "Low",
          "Low",
          "Low",
          "Low",
          "Low",
          "Low",
          "Low",
          "Low",
          "Low",
          "Low",
          "Low",
          "Low",
          "Low",
          "Low",
          "Low",
          "Low",
          "Low",
          "Low",
          "Low",
          "Low",
          "Low",
          "Low",
          "Low",
          "Low",
          "Low",
          "Low",
          "Low",
          "Low",
          "Low",
          "Low",
          "Low",
          "Low",
          "Low",
          "Low",
          "Low",
          "Low",
          "Low",
          "Low",
          "Low",
          "Low",
          "Low",
          "Low",
          "Low",
          "Low",
          "Low",
          "Low",
          "Low",
          "Low",
          "Low",
          "Low",
          "Low",
          "Low",
          "Low",
          "Low",
          "Low",
          "Low",
          "Low",
          "Low",
          "Low",
          "Low",
          "Low",
          "Low",
          "Low",
          "Low",
          "Low",
          "Low",
          "Low",
          "Low",
          "Low",
          "Low",
          "Low",
          "Low",
          "Low",
          "Low",
          "Low",
          "Low"
         ],
         "x0": " ",
         "xaxis": "x",
         "y": {
          "bdata": "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",
          "dtype": "f8"
         },
         "y0": " ",
         "yaxis": "y"
        }
       ],
       "layout": {
        "boxmode": "overlay",
        "legend": {
         "title": {
          "text": "Tingkat stress"
         },
         "tracegroupgap": 0
        },
        "template": {
         "data": {
          "bar": [
           {
            "error_x": {
             "color": "#2a3f5f"
            },
            "error_y": {
             "color": "#2a3f5f"
            },
            "marker": {
             "line": {
              "color": "#E5ECF6",
              "width": 0.5
             },
             "pattern": {
              "fillmode": "overlay",
              "size": 10,
              "solidity": 0.2
             }
            },
            "type": "bar"
           }
          ],
          "barpolar": [
           {
            "marker": {
             "line": {
              "color": "#E5ECF6",
              "width": 0.5
             },
             "pattern": {
              "fillmode": "overlay",
              "size": 10,
              "solidity": 0.2
             }
            },
            "type": "barpolar"
           }
          ],
          "carpet": [
           {
            "aaxis": {
             "endlinecolor": "#2a3f5f",
             "gridcolor": "white",
             "linecolor": "white",
             "minorgridcolor": "white",
             "startlinecolor": "#2a3f5f"
            },
            "baxis": {
             "endlinecolor": "#2a3f5f",
             "gridcolor": "white",
             "linecolor": "white",
             "minorgridcolor": "white",
             "startlinecolor": "#2a3f5f"
            },
            "type": "carpet"
           }
          ],
          "choropleth": [
           {
            "colorbar": {
             "outlinewidth": 0,
             "ticks": ""
            },
            "type": "choropleth"
           }
          ],
          "contour": [
           {
            "colorbar": {
             "outlinewidth": 0,
             "ticks": ""
            },
            "colorscale": [
             [
              0,
              "#0d0887"
             ],
             [
              0.1111111111111111,
              "#46039f"
             ],
             [
              0.2222222222222222,
              "#7201a8"
             ],
             [
              0.3333333333333333,
              "#9c179e"
             ],
             [
              0.4444444444444444,
              "#bd3786"
             ],
             [
              0.5555555555555556,
              "#d8576b"
             ],
             [
              0.6666666666666666,
              "#ed7953"
             ],
             [
              0.7777777777777778,
              "#fb9f3a"
             ],
             [
              0.8888888888888888,
              "#fdca26"
             ],
             [
              1,
              "#f0f921"
             ]
            ],
            "type": "contour"
           }
          ],
          "contourcarpet": [
           {
            "colorbar": {
             "outlinewidth": 0,
             "ticks": ""
            },
            "type": "contourcarpet"
           }
          ],
          "heatmap": [
           {
            "colorbar": {
             "outlinewidth": 0,
             "ticks": ""
            },
            "colorscale": [
             [
              0,
              "#0d0887"
             ],
             [
              0.1111111111111111,
              "#46039f"
             ],
             [
              0.2222222222222222,
              "#7201a8"
             ],
             [
              0.3333333333333333,
              "#9c179e"
             ],
             [
              0.4444444444444444,
              "#bd3786"
             ],
             [
              0.5555555555555556,
              "#d8576b"
             ],
             [
              0.6666666666666666,
              "#ed7953"
             ],
             [
              0.7777777777777778,
              "#fb9f3a"
             ],
             [
              0.8888888888888888,
              "#fdca26"
             ],
             [
              1,
              "#f0f921"
             ]
            ],
            "type": "heatmap"
           }
          ],
          "histogram": [
           {
            "marker": {
             "pattern": {
              "fillmode": "overlay",
              "size": 10,
              "solidity": 0.2
             }
            },
            "type": "histogram"
           }
          ],
          "histogram2d": [
           {
            "colorbar": {
             "outlinewidth": 0,
             "ticks": ""
            },
            "colorscale": [
             [
              0,
              "#0d0887"
             ],
             [
              0.1111111111111111,
              "#46039f"
             ],
             [
              0.2222222222222222,
              "#7201a8"
             ],
             [
              0.3333333333333333,
              "#9c179e"
             ],
             [
              0.4444444444444444,
              "#bd3786"
             ],
             [
              0.5555555555555556,
              "#d8576b"
             ],
             [
              0.6666666666666666,
              "#ed7953"
             ],
             [
              0.7777777777777778,
              "#fb9f3a"
             ],
             [
              0.8888888888888888,
              "#fdca26"
             ],
             [
              1,
              "#f0f921"
             ]
            ],
            "type": "histogram2d"
           }
          ],
          "histogram2dcontour": [
           {
            "colorbar": {
             "outlinewidth": 0,
             "ticks": ""
            },
            "colorscale": [
             [
              0,
              "#0d0887"
             ],
             [
              0.1111111111111111,
              "#46039f"
             ],
             [
              0.2222222222222222,
              "#7201a8"
             ],
             [
              0.3333333333333333,
              "#9c179e"
             ],
             [
              0.4444444444444444,
              "#bd3786"
             ],
             [
              0.5555555555555556,
              "#d8576b"
             ],
             [
              0.6666666666666666,
              "#ed7953"
             ],
             [
              0.7777777777777778,
              "#fb9f3a"
             ],
             [
              0.8888888888888888,
              "#fdca26"
             ],
             [
              1,
              "#f0f921"
             ]
            ],
            "type": "histogram2dcontour"
           }
          ],
          "mesh3d": [
           {
            "colorbar": {
             "outlinewidth": 0,
             "ticks": ""
            },
            "type": "mesh3d"
           }
          ],
          "parcoords": [
           {
            "line": {
             "colorbar": {
              "outlinewidth": 0,
              "ticks": ""
             }
            },
            "type": "parcoords"
           }
          ],
          "pie": [
           {
            "automargin": true,
            "type": "pie"
           }
          ],
          "scatter": [
           {
            "fillpattern": {
             "fillmode": "overlay",
             "size": 10,
             "solidity": 0.2
            },
            "type": "scatter"
           }
          ],
          "scatter3d": [
           {
            "line": {
             "colorbar": {
              "outlinewidth": 0,
              "ticks": ""
             }
            },
            "marker": {
             "colorbar": {
              "outlinewidth": 0,
              "ticks": ""
             }
            },
            "type": "scatter3d"
           }
          ],
          "scattercarpet": [
           {
            "marker": {
             "colorbar": {
              "outlinewidth": 0,
              "ticks": ""
             }
            },
            "type": "scattercarpet"
           }
          ],
          "scattergeo": [
           {
            "marker": {
             "colorbar": {
              "outlinewidth": 0,
              "ticks": ""
             }
            },
            "type": "scattergeo"
           }
          ],
          "scattergl": [
           {
            "marker": {
             "colorbar": {
              "outlinewidth": 0,
              "ticks": ""
             }
            },
            "type": "scattergl"
           }
          ],
          "scattermap": [
           {
            "marker": {
             "colorbar": {
              "outlinewidth": 0,
              "ticks": ""
             }
            },
            "type": "scattermap"
           }
          ],
          "scattermapbox": [
           {
            "marker": {
             "colorbar": {
              "outlinewidth": 0,
              "ticks": ""
             }
            },
            "type": "scattermapbox"
           }
          ],
          "scatterpolar": [
           {
            "marker": {
             "colorbar": {
              "outlinewidth": 0,
              "ticks": ""
             }
            },
            "type": "scatterpolar"
           }
          ],
          "scatterpolargl": [
           {
            "marker": {
             "colorbar": {
              "outlinewidth": 0,
              "ticks": ""
             }
            },
            "type": "scatterpolargl"
           }
          ],
          "scatterternary": [
           {
            "marker": {
             "colorbar": {
              "outlinewidth": 0,
              "ticks": ""
             }
            },
            "type": "scatterternary"
           }
          ],
          "surface": [
           {
            "colorbar": {
             "outlinewidth": 0,
             "ticks": ""
            },
            "colorscale": [
             [
              0,
              "#0d0887"
             ],
             [
              0.1111111111111111,
              "#46039f"
             ],
             [
              0.2222222222222222,
              "#7201a8"
             ],
             [
              0.3333333333333333,
              "#9c179e"
             ],
             [
              0.4444444444444444,
              "#bd3786"
             ],
             [
              0.5555555555555556,
              "#d8576b"
             ],
             [
              0.6666666666666666,
              "#ed7953"
             ],
             [
              0.7777777777777778,
              "#fb9f3a"
             ],
             [
              0.8888888888888888,
              "#fdca26"
             ],
             [
              1,
              "#f0f921"
             ]
            ],
            "type": "surface"
           }
          ],
          "table": [
           {
            "cells": {
             "fill": {
              "color": "#EBF0F8"
             },
             "line": {
              "color": "white"
             }
            },
            "header": {
             "fill": {
              "color": "#C8D4E3"
             },
             "line": {
              "color": "white"
             }
            },
            "type": "table"
           }
          ]
         },
         "layout": {
          "annotationdefaults": {
           "arrowcolor": "#2a3f5f",
           "arrowhead": 0,
           "arrowwidth": 1
          },
          "autotypenumbers": "strict",
          "coloraxis": {
           "colorbar": {
            "outlinewidth": 0,
            "ticks": ""
           }
          },
          "colorscale": {
           "diverging": [
            [
             0,
             "#8e0152"
            ],
            [
             0.1,
             "#c51b7d"
            ],
            [
             0.2,
             "#de77ae"
            ],
            [
             0.3,
             "#f1b6da"
            ],
            [
             0.4,
             "#fde0ef"
            ],
            [
             0.5,
             "#f7f7f7"
            ],
            [
             0.6,
             "#e6f5d0"
            ],
            [
             0.7,
             "#b8e186"
            ],
            [
             0.8,
             "#7fbc41"
            ],
            [
             0.9,
             "#4d9221"
            ],
            [
             1,
             "#276419"
            ]
           ],
           "sequential": [
            [
             0,
             "#0d0887"
            ],
            [
             0.1111111111111111,
             "#46039f"
            ],
            [
             0.2222222222222222,
             "#7201a8"
            ],
            [
             0.3333333333333333,
             "#9c179e"
            ],
            [
             0.4444444444444444,
             "#bd3786"
            ],
            [
             0.5555555555555556,
             "#d8576b"
            ],
            [
             0.6666666666666666,
             "#ed7953"
            ],
            [
             0.7777777777777778,
             "#fb9f3a"
            ],
            [
             0.8888888888888888,
             "#fdca26"
            ],
            [
             1,
             "#f0f921"
            ]
           ],
           "sequentialminus": [
            [
             0,
             "#0d0887"
            ],
            [
             0.1111111111111111,
             "#46039f"
            ],
            [
             0.2222222222222222,
             "#7201a8"
            ],
            [
             0.3333333333333333,
             "#9c179e"
            ],
            [
             0.4444444444444444,
             "#bd3786"
            ],
            [
             0.5555555555555556,
             "#d8576b"
            ],
            [
             0.6666666666666666,
             "#ed7953"
            ],
            [
             0.7777777777777778,
             "#fb9f3a"
            ],
            [
             0.8888888888888888,
             "#fdca26"
            ],
            [
             1,
             "#f0f921"
            ]
           ]
          },
          "colorway": [
           "#636efa",
           "#EF553B",
           "#00cc96",
           "#ab63fa",
           "#FFA15A",
           "#19d3f3",
           "#FF6692",
           "#B6E880",
           "#FF97FF",
           "#FECB52"
          ],
          "font": {
           "color": "#2a3f5f"
          },
          "geo": {
           "bgcolor": "white",
           "lakecolor": "white",
           "landcolor": "#E5ECF6",
           "showlakes": true,
           "showland": true,
           "subunitcolor": "white"
          },
          "hoverlabel": {
           "align": "left"
          },
          "hovermode": "closest",
          "mapbox": {
           "style": "light"
          },
          "paper_bgcolor": "white",
          "plot_bgcolor": "#E5ECF6",
          "polar": {
           "angularaxis": {
            "gridcolor": "white",
            "linecolor": "white",
            "ticks": ""
           },
           "bgcolor": "#E5ECF6",
           "radialaxis": {
            "gridcolor": "white",
            "linecolor": "white",
            "ticks": ""
           }
          },
          "scene": {
           "xaxis": {
            "backgroundcolor": "#E5ECF6",
            "gridcolor": "white",
            "gridwidth": 2,
            "linecolor": "white",
            "showbackground": true,
            "ticks": "",
            "zerolinecolor": "white"
           },
           "yaxis": {
            "backgroundcolor": "#E5ECF6",
            "gridcolor": "white",
            "gridwidth": 2,
            "linecolor": "white",
            "showbackground": true,
            "ticks": "",
            "zerolinecolor": "white"
           },
           "zaxis": {
            "backgroundcolor": "#E5ECF6",
            "gridcolor": "white",
            "gridwidth": 2,
            "linecolor": "white",
            "showbackground": true,
            "ticks": "",
            "zerolinecolor": "white"
           }
          },
          "shapedefaults": {
           "line": {
            "color": "#2a3f5f"
           }
          },
          "ternary": {
           "aaxis": {
            "gridcolor": "white",
            "linecolor": "white",
            "ticks": ""
           },
           "baxis": {
            "gridcolor": "white",
            "linecolor": "white",
            "ticks": ""
           },
           "bgcolor": "#E5ECF6",
           "caxis": {
            "gridcolor": "white",
            "linecolor": "white",
            "ticks": ""
           }
          },
          "title": {
           "x": 0.05
          },
          "xaxis": {
           "automargin": true,
           "gridcolor": "white",
           "linecolor": "white",
           "ticks": "",
           "title": {
            "standoff": 15
           },
           "zerolinecolor": "white",
           "zerolinewidth": 2
          },
          "yaxis": {
           "automargin": true,
           "gridcolor": "white",
           "linecolor": "white",
           "ticks": "",
           "title": {
            "standoff": 15
           },
           "zerolinecolor": "white",
           "zerolinewidth": 2
          }
         }
        },
        "title": {
         "text": "Durasi Tidur Berdasarkan Tingkat stress"
        },
        "xaxis": {
         "anchor": "y",
         "categoryarray": [
          "Medium",
          "High",
          "Low"
         ],
         "categoryorder": "array",
         "domain": [
          0,
          1
         ],
         "title": {
          "text": "Tingkat stress"
         }
        },
        "yaxis": {
         "anchor": "x",
         "domain": [
          0,
          1
         ],
         "title": {
          "text": "Durasi Tidur (Jam)"
         }
        }
       }
      }
     },
     "metadata": {},
     "output_type": "display_data"
    }
   ],
   "source": [
    "# Menggunakan Plotly Express (Box Plot untuk distribusi)\n",
    "fig_gender_sleep = px.box(\n",
    "    df,\n",
    "    x='Stress Level',\n",
    "    y='Sleep Duration (hrs)',\n",
    "    title='Durasi Tidur Berdasarkan Tingkat stress',\n",
    "    labels={'Stress Level': 'Tingkat stress', 'Sleep Duration (hrs)': 'Durasi Tidur (Jam)'},\n",
    "    color='Stress Level'\n",
    ")\n",
    "fig_gender_sleep.show()"
   ]
  },
  {
   "cell_type": "markdown",
   "id": "a0b11ddd",
   "metadata": {},
   "source": [
    "### Analisis Tingkat Kecemasan Siswa Sebelum Ujian Berdasarkan Jenjang Pendidikan\n",
    "\n",
    "#### Visualisasi: Box Plot Kecemasan Siswa per Jenjang Pendidikan\n",
    "\n",
    "---\n",
    "\n",
    "#### Temuan Utama:\n",
    "\n",
    "Berdasarkan **Box Plot** kecemasan siswa sebelum ujian yang dikelompokkan berdasarkan jenjang pendidikan, beberapa poin penting terlihat:\n",
    "\n",
    "#### 📌 Jenjang Bachelor (S1)\n",
    "- Mayoritas siswa pada jenjang **S1** menunjukkan **tingkat kecemasan yang paling tinggi** sebelum ujian.\n",
    "- Rata-rata persentase siswa yang menyatakan _\"Ya, cemas\"_ berada di angka **58%**.\n",
    "- Sebaran data lebih terkonsentrasi pada nilai-nilai tinggi.\n",
    "\n",
    "#### 📌 Jenjang Kelas 8-12\n",
    "- Siswa di jenjang ini menunjukkan **variasi tingkat kecemasan yang lebih seimbang**.\n",
    "- Proporsi yang menjawab _\"Ya, cemas\"_ berkisar antara **46–50%**.\n",
    "- Yang menjawab _\"Tidak cemas\"_ sedikit lebih tinggi, yaitu **51–54%**.\n",
    "- Hal ini mengindikasikan adanya **keseimbangan antara siswa yang merasa cemas dan tidak cemas**.\n",
    "\n",
    "#### 📌 Jenjang Magister (S2)\n",
    "- Tingkat kecemasan pada jenjang **S2** terlihat lebih **bervariasi**.\n",
    "- Kemungkinan besar dipengaruhi oleh faktor-faktor lain seperti **jurusan atau pengalaman individu**.\n",
    "\n",
    "---\n",
    "\n",
    "#### Implikasi:\n",
    "\n",
    "- Data ini dengan jelas menunjukkan adanya **hubungan antara jenjang pendidikan dan tingkat kecemasan siswa** sebelum ujian.\n",
    "\n",
    "- **Jenjang S1** menonjol sebagai kelompok dengan tingkat kecemasan tertinggi (**56–60%** menjawab \"Ya, cemas\").  \n",
    "  Hal ini mungkin disebabkan oleh:\n",
    "  - Tekanan akademik yang lebih intens.\n",
    "  - Ketergantungan kuat pada hasil ujian untuk kelulusan atau karier.\n",
    "\n",
    "- **Kelas 11** menunjukkan **keseimbangan antara kecemasan dan ketenangan**, menjadikannya titik fokus yang baik untuk intervensi jika diperlukan.\n",
    "\n",
    "- **Kelas 8** memiliki tingkat kecemasan terendah, dengan **54% menyatakan \"Tidak cemas\"**.  \n",
    "  Ini bisa jadi karena:\n",
    "  - Mereka belum terlalu terbebani ekspektasi atau dampak besar dari hasil ujian.\n",
    "\n",
    "- **Mahasiswa Magister (S2)** cenderung memiliki **strategi manajemen stres yang lebih baik**, sehingga tingkat kecemasan lebih tergantung pada faktor lain seperti dinamika jurusan.\n",
    "\n",
    "---\n",
    "\n",
    "> 📊 **Kesimpulan**: Visualisasi Box Plot mengungkap bahwa **semakin tinggi jenjang pendidikan, kecemasan cenderung meningkat**, dengan beberapa pengecualian berdasarkan pengalaman dan kondisi pribadi siswa.\n"
   ]
  },
  {
   "cell_type": "code",
   "execution_count": 71,
   "id": "420904c0",
   "metadata": {},
   "outputs": [
    {
     "data": {
      "application/vnd.plotly.v1+json": {
       "config": {
        "plotlyServerURL": "https://plot.ly"
       },
       "data": [
        {
         "alignmentgroup": "True",
         "hovertemplate": "Cemas Sebelum Ujian=Yes<br>Education Level=%{x}<br>Proporsi=%{y}<extra></extra>",
         "legendgroup": "Yes",
         "marker": {
          "color": "#636efa",
          "pattern": {
           "shape": ""
          }
         },
         "name": "Yes",
         "offsetgroup": "Yes",
         "orientation": "v",
         "showlegend": true,
         "textposition": "auto",
         "type": "bar",
         "x": [
          "BA",
          "BSc",
          "BTech",
          "Class 10",
          "Class 11",
          "Class 12",
          "Class 8",
          "Class 9",
          "MA",
          "MSc",
          "MTech"
         ],
         "xaxis": "x",
         "y": {
          "bdata": "lVJKKaWU4j8zMzMzMzPjP3qe53me5+E/bR36zdah3z8AAAAAAADgP31no76zUd8/cT0K16Nw3T9tHfrN1qHfP3FH3BF3xN0/D8y1A3Pt4D+3xt/NI1TfPw==",
          "dtype": "f8"
         },
         "yaxis": "y"
        },
        {
         "alignmentgroup": "True",
         "hovertemplate": "Cemas Sebelum Ujian=No<br>Education Level=%{x}<br>Proporsi=%{y}<extra></extra>",
         "legendgroup": "No",
         "marker": {
          "color": "#EF553B",
          "pattern": {
           "shape": ""
          }
         },
         "name": "No",
         "offsetgroup": "No",
         "orientation": "v",
         "showlegend": true,
         "textposition": "auto",
         "type": "bar",
         "x": [
          "BA",
          "BSc",
          "BTech",
          "Class 10",
          "Class 11",
          "Class 12",
          "Class 8",
          "Class 9",
          "MA",
          "MSc",
          "MTech"
         ],
         "xaxis": "x",
         "y": {
          "bdata": "11prrbXW2j+amZmZmZnZPwzDMAzDMNw/SvECmRQv4D8AAAAAAADgP0FMriAmV+A/SOF6FK5H4T9K8QKZFC/gP0fcEXfEHeE/4meU+Bkl3j+lHBAZ7lXgPw==",
          "dtype": "f8"
         },
         "yaxis": "y"
        }
       ],
       "layout": {
        "barmode": "group",
        "height": 500,
        "legend": {
         "title": {
          "text": "Cemas Sebelum Ujian"
         },
         "tracegroupgap": 0
        },
        "template": {
         "data": {
          "bar": [
           {
            "error_x": {
             "color": "#2a3f5f"
            },
            "error_y": {
             "color": "#2a3f5f"
            },
            "marker": {
             "line": {
              "color": "#E5ECF6",
              "width": 0.5
             },
             "pattern": {
              "fillmode": "overlay",
              "size": 10,
              "solidity": 0.2
             }
            },
            "type": "bar"
           }
          ],
          "barpolar": [
           {
            "marker": {
             "line": {
              "color": "#E5ECF6",
              "width": 0.5
             },
             "pattern": {
              "fillmode": "overlay",
              "size": 10,
              "solidity": 0.2
             }
            },
            "type": "barpolar"
           }
          ],
          "carpet": [
           {
            "aaxis": {
             "endlinecolor": "#2a3f5f",
             "gridcolor": "white",
             "linecolor": "white",
             "minorgridcolor": "white",
             "startlinecolor": "#2a3f5f"
            },
            "baxis": {
             "endlinecolor": "#2a3f5f",
             "gridcolor": "white",
             "linecolor": "white",
             "minorgridcolor": "white",
             "startlinecolor": "#2a3f5f"
            },
            "type": "carpet"
           }
          ],
          "choropleth": [
           {
            "colorbar": {
             "outlinewidth": 0,
             "ticks": ""
            },
            "type": "choropleth"
           }
          ],
          "contour": [
           {
            "colorbar": {
             "outlinewidth": 0,
             "ticks": ""
            },
            "colorscale": [
             [
              0,
              "#0d0887"
             ],
             [
              0.1111111111111111,
              "#46039f"
             ],
             [
              0.2222222222222222,
              "#7201a8"
             ],
             [
              0.3333333333333333,
              "#9c179e"
             ],
             [
              0.4444444444444444,
              "#bd3786"
             ],
             [
              0.5555555555555556,
              "#d8576b"
             ],
             [
              0.6666666666666666,
              "#ed7953"
             ],
             [
              0.7777777777777778,
              "#fb9f3a"
             ],
             [
              0.8888888888888888,
              "#fdca26"
             ],
             [
              1,
              "#f0f921"
             ]
            ],
            "type": "contour"
           }
          ],
          "contourcarpet": [
           {
            "colorbar": {
             "outlinewidth": 0,
             "ticks": ""
            },
            "type": "contourcarpet"
           }
          ],
          "heatmap": [
           {
            "colorbar": {
             "outlinewidth": 0,
             "ticks": ""
            },
            "colorscale": [
             [
              0,
              "#0d0887"
             ],
             [
              0.1111111111111111,
              "#46039f"
             ],
             [
              0.2222222222222222,
              "#7201a8"
             ],
             [
              0.3333333333333333,
              "#9c179e"
             ],
             [
              0.4444444444444444,
              "#bd3786"
             ],
             [
              0.5555555555555556,
              "#d8576b"
             ],
             [
              0.6666666666666666,
              "#ed7953"
             ],
             [
              0.7777777777777778,
              "#fb9f3a"
             ],
             [
              0.8888888888888888,
              "#fdca26"
             ],
             [
              1,
              "#f0f921"
             ]
            ],
            "type": "heatmap"
           }
          ],
          "histogram": [
           {
            "marker": {
             "pattern": {
              "fillmode": "overlay",
              "size": 10,
              "solidity": 0.2
             }
            },
            "type": "histogram"
           }
          ],
          "histogram2d": [
           {
            "colorbar": {
             "outlinewidth": 0,
             "ticks": ""
            },
            "colorscale": [
             [
              0,
              "#0d0887"
             ],
             [
              0.1111111111111111,
              "#46039f"
             ],
             [
              0.2222222222222222,
              "#7201a8"
             ],
             [
              0.3333333333333333,
              "#9c179e"
             ],
             [
              0.4444444444444444,
              "#bd3786"
             ],
             [
              0.5555555555555556,
              "#d8576b"
             ],
             [
              0.6666666666666666,
              "#ed7953"
             ],
             [
              0.7777777777777778,
              "#fb9f3a"
             ],
             [
              0.8888888888888888,
              "#fdca26"
             ],
             [
              1,
              "#f0f921"
             ]
            ],
            "type": "histogram2d"
           }
          ],
          "histogram2dcontour": [
           {
            "colorbar": {
             "outlinewidth": 0,
             "ticks": ""
            },
            "colorscale": [
             [
              0,
              "#0d0887"
             ],
             [
              0.1111111111111111,
              "#46039f"
             ],
             [
              0.2222222222222222,
              "#7201a8"
             ],
             [
              0.3333333333333333,
              "#9c179e"
             ],
             [
              0.4444444444444444,
              "#bd3786"
             ],
             [
              0.5555555555555556,
              "#d8576b"
             ],
             [
              0.6666666666666666,
              "#ed7953"
             ],
             [
              0.7777777777777778,
              "#fb9f3a"
             ],
             [
              0.8888888888888888,
              "#fdca26"
             ],
             [
              1,
              "#f0f921"
             ]
            ],
            "type": "histogram2dcontour"
           }
          ],
          "mesh3d": [
           {
            "colorbar": {
             "outlinewidth": 0,
             "ticks": ""
            },
            "type": "mesh3d"
           }
          ],
          "parcoords": [
           {
            "line": {
             "colorbar": {
              "outlinewidth": 0,
              "ticks": ""
             }
            },
            "type": "parcoords"
           }
          ],
          "pie": [
           {
            "automargin": true,
            "type": "pie"
           }
          ],
          "scatter": [
           {
            "fillpattern": {
             "fillmode": "overlay",
             "size": 10,
             "solidity": 0.2
            },
            "type": "scatter"
           }
          ],
          "scatter3d": [
           {
            "line": {
             "colorbar": {
              "outlinewidth": 0,
              "ticks": ""
             }
            },
            "marker": {
             "colorbar": {
              "outlinewidth": 0,
              "ticks": ""
             }
            },
            "type": "scatter3d"
           }
          ],
          "scattercarpet": [
           {
            "marker": {
             "colorbar": {
              "outlinewidth": 0,
              "ticks": ""
             }
            },
            "type": "scattercarpet"
           }
          ],
          "scattergeo": [
           {
            "marker": {
             "colorbar": {
              "outlinewidth": 0,
              "ticks": ""
             }
            },
            "type": "scattergeo"
           }
          ],
          "scattergl": [
           {
            "marker": {
             "colorbar": {
              "outlinewidth": 0,
              "ticks": ""
             }
            },
            "type": "scattergl"
           }
          ],
          "scattermap": [
           {
            "marker": {
             "colorbar": {
              "outlinewidth": 0,
              "ticks": ""
             }
            },
            "type": "scattermap"
           }
          ],
          "scattermapbox": [
           {
            "marker": {
             "colorbar": {
              "outlinewidth": 0,
              "ticks": ""
             }
            },
            "type": "scattermapbox"
           }
          ],
          "scatterpolar": [
           {
            "marker": {
             "colorbar": {
              "outlinewidth": 0,
              "ticks": ""
             }
            },
            "type": "scatterpolar"
           }
          ],
          "scatterpolargl": [
           {
            "marker": {
             "colorbar": {
              "outlinewidth": 0,
              "ticks": ""
             }
            },
            "type": "scatterpolargl"
           }
          ],
          "scatterternary": [
           {
            "marker": {
             "colorbar": {
              "outlinewidth": 0,
              "ticks": ""
             }
            },
            "type": "scatterternary"
           }
          ],
          "surface": [
           {
            "colorbar": {
             "outlinewidth": 0,
             "ticks": ""
            },
            "colorscale": [
             [
              0,
              "#0d0887"
             ],
             [
              0.1111111111111111,
              "#46039f"
             ],
             [
              0.2222222222222222,
              "#7201a8"
             ],
             [
              0.3333333333333333,
              "#9c179e"
             ],
             [
              0.4444444444444444,
              "#bd3786"
             ],
             [
              0.5555555555555556,
              "#d8576b"
             ],
             [
              0.6666666666666666,
              "#ed7953"
             ],
             [
              0.7777777777777778,
              "#fb9f3a"
             ],
             [
              0.8888888888888888,
              "#fdca26"
             ],
             [
              1,
              "#f0f921"
             ]
            ],
            "type": "surface"
           }
          ],
          "table": [
           {
            "cells": {
             "fill": {
              "color": "#EBF0F8"
             },
             "line": {
              "color": "white"
             }
            },
            "header": {
             "fill": {
              "color": "#C8D4E3"
             },
             "line": {
              "color": "white"
             }
            },
            "type": "table"
           }
          ]
         },
         "layout": {
          "annotationdefaults": {
           "arrowcolor": "#2a3f5f",
           "arrowhead": 0,
           "arrowwidth": 1
          },
          "autotypenumbers": "strict",
          "coloraxis": {
           "colorbar": {
            "outlinewidth": 0,
            "ticks": ""
           }
          },
          "colorscale": {
           "diverging": [
            [
             0,
             "#8e0152"
            ],
            [
             0.1,
             "#c51b7d"
            ],
            [
             0.2,
             "#de77ae"
            ],
            [
             0.3,
             "#f1b6da"
            ],
            [
             0.4,
             "#fde0ef"
            ],
            [
             0.5,
             "#f7f7f7"
            ],
            [
             0.6,
             "#e6f5d0"
            ],
            [
             0.7,
             "#b8e186"
            ],
            [
             0.8,
             "#7fbc41"
            ],
            [
             0.9,
             "#4d9221"
            ],
            [
             1,
             "#276419"
            ]
           ],
           "sequential": [
            [
             0,
             "#0d0887"
            ],
            [
             0.1111111111111111,
             "#46039f"
            ],
            [
             0.2222222222222222,
             "#7201a8"
            ],
            [
             0.3333333333333333,
             "#9c179e"
            ],
            [
             0.4444444444444444,
             "#bd3786"
            ],
            [
             0.5555555555555556,
             "#d8576b"
            ],
            [
             0.6666666666666666,
             "#ed7953"
            ],
            [
             0.7777777777777778,
             "#fb9f3a"
            ],
            [
             0.8888888888888888,
             "#fdca26"
            ],
            [
             1,
             "#f0f921"
            ]
           ],
           "sequentialminus": [
            [
             0,
             "#0d0887"
            ],
            [
             0.1111111111111111,
             "#46039f"
            ],
            [
             0.2222222222222222,
             "#7201a8"
            ],
            [
             0.3333333333333333,
             "#9c179e"
            ],
            [
             0.4444444444444444,
             "#bd3786"
            ],
            [
             0.5555555555555556,
             "#d8576b"
            ],
            [
             0.6666666666666666,
             "#ed7953"
            ],
            [
             0.7777777777777778,
             "#fb9f3a"
            ],
            [
             0.8888888888888888,
             "#fdca26"
            ],
            [
             1,
             "#f0f921"
            ]
           ]
          },
          "colorway": [
           "#636efa",
           "#EF553B",
           "#00cc96",
           "#ab63fa",
           "#FFA15A",
           "#19d3f3",
           "#FF6692",
           "#B6E880",
           "#FF97FF",
           "#FECB52"
          ],
          "font": {
           "color": "#2a3f5f"
          },
          "geo": {
           "bgcolor": "white",
           "lakecolor": "white",
           "landcolor": "#E5ECF6",
           "showlakes": true,
           "showland": true,
           "subunitcolor": "white"
          },
          "hoverlabel": {
           "align": "left"
          },
          "hovermode": "closest",
          "mapbox": {
           "style": "light"
          },
          "paper_bgcolor": "white",
          "plot_bgcolor": "#E5ECF6",
          "polar": {
           "angularaxis": {
            "gridcolor": "white",
            "linecolor": "white",
            "ticks": ""
           },
           "bgcolor": "#E5ECF6",
           "radialaxis": {
            "gridcolor": "white",
            "linecolor": "white",
            "ticks": ""
           }
          },
          "scene": {
           "xaxis": {
            "backgroundcolor": "#E5ECF6",
            "gridcolor": "white",
            "gridwidth": 2,
            "linecolor": "white",
            "showbackground": true,
            "ticks": "",
            "zerolinecolor": "white"
           },
           "yaxis": {
            "backgroundcolor": "#E5ECF6",
            "gridcolor": "white",
            "gridwidth": 2,
            "linecolor": "white",
            "showbackground": true,
            "ticks": "",
            "zerolinecolor": "white"
           },
           "zaxis": {
            "backgroundcolor": "#E5ECF6",
            "gridcolor": "white",
            "gridwidth": 2,
            "linecolor": "white",
            "showbackground": true,
            "ticks": "",
            "zerolinecolor": "white"
           }
          },
          "shapedefaults": {
           "line": {
            "color": "#2a3f5f"
           }
          },
          "ternary": {
           "aaxis": {
            "gridcolor": "white",
            "linecolor": "white",
            "ticks": ""
           },
           "baxis": {
            "gridcolor": "white",
            "linecolor": "white",
            "ticks": ""
           },
           "bgcolor": "#E5ECF6",
           "caxis": {
            "gridcolor": "white",
            "linecolor": "white",
            "ticks": ""
           }
          },
          "title": {
           "x": 0.05
          },
          "xaxis": {
           "automargin": true,
           "gridcolor": "white",
           "linecolor": "white",
           "ticks": "",
           "title": {
            "standoff": 15
           },
           "zerolinecolor": "white",
           "zerolinewidth": 2
          },
          "yaxis": {
           "automargin": true,
           "gridcolor": "white",
           "linecolor": "white",
           "ticks": "",
           "title": {
            "standoff": 15
           },
           "zerolinecolor": "white",
           "zerolinewidth": 2
          }
         }
        },
        "title": {
         "text": "Proporsi Siswa Cemas Sebelum Ujian Berdasarkan Jenjang Pendidikan"
        },
        "xaxis": {
         "anchor": "y",
         "domain": [
          0,
          1
         ],
         "title": {
          "text": "Education Level"
         }
        },
        "yaxis": {
         "anchor": "x",
         "domain": [
          0,
          1
         ],
         "tickformat": ".0%",
         "title": {
          "text": "Proporsi"
         }
        }
       }
      }
     },
     "metadata": {},
     "output_type": "display_data"
    }
   ],
   "source": [
    "# Menggunakan Plotly Express\n",
    "fig_edu_anxious = px.bar(\n",
    "    df.groupby('Education Level')['Anxious Before Exams'].value_counts(normalize=True).unstack().fillna(0).reset_index(),\n",
    "    x='Education Level',\n",
    "    y=['Yes', 'No'], # Jika 'Yes' dan 'No' adalah kolom setelah unstack\n",
    "    title='Proporsi Siswa Cemas Sebelum Ujian Berdasarkan Jenjang Pendidikan',\n",
    "    labels={'value': 'Proporsi', 'variable': 'Cemas Sebelum Ujian'},\n",
    "    barmode='group',\n",
    "    height=500\n",
    ")\n",
    "fig_edu_anxious.update_layout(yaxis_tickformat='.0%') # Format y-axis sebagai persentase\n",
    "fig_edu_anxious.show()"
   ]
  },
  {
   "cell_type": "markdown",
   "id": "dbf0e59b",
   "metadata": {},
   "source": []
  },
  {
   "cell_type": "markdown",
   "id": "f7b35698",
   "metadata": {},
   "source": [
    "## 2. Dampak Kebiasaan Harian terhadap Kesehatan Mental\n",
    "### Tujuan: Menjelajahi hubungan antara kebiasaan gaya hidup siswa (waktu layar, durasi tidur, aktivitas fisik) dengan tingkat stres dan kecemasan mereka.\n",
    "\n",
    "Pertanyaan Kunci:\n",
    "\n",
    "- Bagaimana waktu layar (Screen Time) yang tinggi berkaitan dengan tingkat stres? Apakah siswa dengan waktu layar lebih tinggi cenderung memiliki tingkat stres yang lebih tinggi?\n",
    "- Apakah durasi tidur (Sleep Duration) yang lebih panjang berhubungan dengan tingkat stres yang lebih rendah atau kurangnya kecemasan sebelum ujian?\n",
    "- Apakah aktivitas fisik (Physical Activity) yang lebih banyak berkorelasi dengan tingkat stres yang lebih rendah atau performa akademik yang lebih stabil?"
   ]
  },
  {
   "cell_type": "markdown",
   "id": "b90925b0",
   "metadata": {},
   "source": [
    "#### Tingkat Stres Siswa Berdasarkan Aktivitas Penggunaan Gadget\n",
    "\n",
    "**Kategori Penggunaan Gadget:**\n",
    "- **0 - 4,5 jam** → *Low* (Rendah)\n",
    "- **4,6 - 8,5 jam** → *Medium* (Sedang)\n",
    "- **> 8,5 jam** → *High* (Tinggi)\n",
    "---\n",
    "##### **Temuan Utama:**\n",
    "- **Tingkat stres rendah** paling banyak ditemukan pada siswa yang menggunakan gadget dalam rentang waktu *sedang* (42,8%), diikuti oleh rentang *tinggi* (32,7%).\n",
    "- **Tingkat stres sedang** juga didominasi oleh penggunaan gadget dalam rentang *sedang* (42,2%), dan *tinggi* (32,5%).\n",
    "- **Tingkat stres tinggi** menunjukkan distribusi yang sedikit berbeda: 37% menggunakan gadget dalam durasi *sedang* maupun *tinggi*, sedangkan 26% berada pada kategori *rendah*.\n",
    "---\n",
    "##### **Implikasi:**\n",
    "Data menunjukkan adanya **keterkaitan antara tingkat stres siswa dan durasi penggunaan gadget**. Beberapa poin penting:\n",
    "- Siswa dengan **tingkat stres tinggi cenderung memiliki penggunaan gadget yang lebih rendah** dibandingkan siswa dengan stres sedang atau rendah. Misalnya, hanya **37%** dari siswa dengan stres tinggi berada pada kategori *penggunaan sedang*, lebih rendah dibandingkan dengan **42,2%** (stres sedang) dan **42,8%** (stres rendah).\n",
    "- Namun, siswa dengan **tingkat stres tinggi juga menunjukkan proporsi penggunaan gadget dalam durasi panjang (tinggi) sebesar 37%**, yang **lebih tinggi 4%** dibandingkan siswa dengan stres rendah maupun sedang.\n",
    "- Dari sisi sebaliknya, **penggunaan gadget juga berpotensi memengaruhi tingkat stres**. Siswa dengan **penggunaan gadget rendah** cenderung memiliki tingkat stres yang lebih rendah. Contohnya, **24,5% siswa dengan stres rendah** berada pada kategori penggunaan gadget rendah, hanya sedikit di bawah **26% siswa dengan stres tinggi**.\n",
    "---\n",
    "> 📌 **Kesimpulan**: Walaupun tidak ada hubungan kausal yang eksplisit, terdapat pola yang menunjukkan bahwa baik **tingkat stres memengaruhi durasi penggunaan gadget**, maupun **durasi penggunaan gadget berpotensi memengaruhi tingkat stres**. Perlu kajian lebih lanjut untuk memahami arah dan kekuatan hubungan ini secara mendalam.\n",
    "---\n",
    "> 📌 **Catatan**: Jika anda mengganti mapping kategori penggunaan gadget, kesimpulan dan penjelasan yang saya berikan dapat berubah/kurang sesuai **PERHATIKAN MAPPING KATEGORI**\n",
    "\n"
   ]
  },
  {
   "cell_type": "code",
   "execution_count": 64,
   "id": "f0a4626e",
   "metadata": {},
   "outputs": [
    {
     "data": {
      "application/vnd.plotly.v1+json": {
       "config": {
        "plotlyServerURL": "https://plot.ly"
       },
       "data": [
        {
         "alignmentgroup": "True",
         "bingroup": "x",
         "hovertemplate": "Kategori Penggunaan Gadget=Low<br>Tingkat Stres=%{x}<br>count=%{y}<extra></extra>",
         "legendgroup": "Low",
         "marker": {
          "color": "#636efa",
          "pattern": {
           "shape": ""
          }
         },
         "name": "Low",
         "offsetgroup": "Low",
         "orientation": "v",
         "showlegend": true,
         "type": "histogram",
         "x": [
          "Medium",
          "Medium",
          "Medium",
          "High",
          "High",
          "Low",
          "Low",
          "Low",
          "Medium",
          "Medium",
          "Medium",
          "Low",
          "High",
          "Medium",
          "Low",
          "High",
          "Medium",
          "Medium",
          "Medium",
          "Medium",
          "Low",
          "Medium",
          "Medium",
          "Medium",
          "Low",
          "Medium",
          "Medium",
          "Low",
          "Medium",
          "Low",
          "Medium",
          "High",
          "Low",
          "Medium",
          "Medium",
          "High",
          "High",
          "Medium",
          "Low",
          "Low",
          "Low",
          "Low",
          "Medium",
          "Low",
          "Low",
          "Medium",
          "Medium",
          "High",
          "Medium",
          "Low",
          "Low",
          "Medium",
          "High",
          "Medium",
          "Low",
          "Medium",
          "Medium",
          "Low",
          "Low",
          "High",
          "Low",
          "Low",
          "Medium",
          "Low",
          "Medium",
          "High",
          "Low",
          "Medium",
          "High",
          "Medium",
          "High",
          "Medium",
          "Low",
          "High",
          "Medium",
          "Low",
          "Low",
          "Low",
          "Medium",
          "Medium",
          "Medium",
          "Low",
          "Low",
          "Low",
          "Medium",
          "Medium",
          "Medium",
          "Medium",
          "Low",
          "Low",
          "Medium",
          "High",
          "High",
          "High",
          "Medium",
          "Low",
          "Medium",
          "Low",
          "Medium",
          "Medium",
          "Medium",
          "Low",
          "Medium",
          "Low",
          "Medium",
          "Medium",
          "High",
          "Low",
          "Medium",
          "Medium",
          "Medium",
          "Low",
          "High",
          "Medium",
          "Low",
          "Medium",
          "Low",
          "Medium",
          "Medium",
          "Low",
          "Medium",
          "Medium",
          "Medium",
          "Low",
          "Medium",
          "Medium",
          "Medium",
          "Medium",
          "Medium",
          "Low",
          "Low",
          "High",
          "Medium",
          "Medium",
          "Low",
          "High",
          "Medium",
          "Medium",
          "Low",
          "Medium",
          "Low",
          "Medium",
          "Low",
          "Medium",
          "Medium",
          "High",
          "Low",
          "Medium",
          "Medium",
          "Medium",
          "High",
          "Medium",
          "Low",
          "High",
          "Medium",
          "Low",
          "Medium",
          "Low",
          "Low",
          "High",
          "Medium",
          "Low",
          "High",
          "Medium",
          "Medium",
          "Low",
          "Medium",
          "Low",
          "High",
          "Low",
          "Medium",
          "High",
          "Low",
          "Low",
          "Medium",
          "Medium",
          "Low",
          "Medium",
          "Medium",
          "Medium",
          "Low",
          "High",
          "Medium",
          "Medium",
          "Medium",
          "Low",
          "High",
          "Low",
          "Low",
          "Low",
          "High",
          "Medium",
          "Medium",
          "Medium",
          "Medium",
          "Medium",
          "Low",
          "Medium",
          "Medium",
          "Medium",
          "Medium",
          "Medium",
          "Low",
          "High",
          "High",
          "Low",
          "Medium",
          "Medium",
          "Medium",
          "Low",
          "Low",
          "High",
          "Medium",
          "High",
          "Low",
          "Medium",
          "High",
          "High",
          "High",
          "High",
          "Medium",
          "Low",
          "Medium",
          "Medium",
          "High",
          "High",
          "Low",
          "High",
          "Medium",
          "Medium",
          "Medium",
          "Medium",
          "Medium",
          "Medium",
          "Medium",
          "Low",
          "Low",
          "Medium",
          "Medium",
          "High",
          "High",
          "Medium",
          "Medium",
          "High",
          "Low",
          "High",
          "Medium",
          "Low",
          "Low",
          "High",
          "Medium"
         ],
         "xaxis": "x",
         "yaxis": "y"
        },
        {
         "alignmentgroup": "True",
         "bingroup": "x",
         "hovertemplate": "Kategori Penggunaan Gadget=Medium<br>Tingkat Stres=%{x}<br>count=%{y}<extra></extra>",
         "legendgroup": "Medium",
         "marker": {
          "color": "#EF553B",
          "pattern": {
           "shape": ""
          }
         },
         "name": "Medium",
         "offsetgroup": "Medium",
         "orientation": "v",
         "showlegend": true,
         "type": "histogram",
         "x": [
          "Medium",
          "Medium",
          "Medium",
          "Low",
          "High",
          "Low",
          "Medium",
          "Low",
          "Low",
          "Medium",
          "Low",
          "Medium",
          "Medium",
          "Low",
          "Low",
          "Medium",
          "Medium",
          "Low",
          "Medium",
          "High",
          "Low",
          "Low",
          "Low",
          "Low",
          "Medium",
          "Medium",
          "High",
          "Medium",
          "High",
          "Medium",
          "High",
          "High",
          "Medium",
          "High",
          "Low",
          "Low",
          "Medium",
          "Medium",
          "Low",
          "Medium",
          "Low",
          "Medium",
          "High",
          "Low",
          "Medium",
          "Low",
          "Low",
          "Low",
          "Medium",
          "Low",
          "High",
          "Medium",
          "Medium",
          "Medium",
          "Medium",
          "Low",
          "High",
          "Medium",
          "Medium",
          "Low",
          "Low",
          "High",
          "Medium",
          "Low",
          "Medium",
          "Low",
          "Medium",
          "Medium",
          "High",
          "Low",
          "Low",
          "Medium",
          "Medium",
          "Medium",
          "High",
          "Low",
          "Low",
          "Medium",
          "Low",
          "Low",
          "Low",
          "Medium",
          "Medium",
          "Medium",
          "Low",
          "Medium",
          "Medium",
          "Medium",
          "Medium",
          "Medium",
          "Low",
          "Medium",
          "Low",
          "High",
          "Low",
          "Low",
          "Low",
          "Medium",
          "High",
          "Low",
          "Low",
          "Medium",
          "Medium",
          "Medium",
          "Medium",
          "Medium",
          "Medium",
          "Medium",
          "Low",
          "Medium",
          "Medium",
          "Medium",
          "Medium",
          "Medium",
          "Medium",
          "Medium",
          "High",
          "High",
          "Medium",
          "Medium",
          "Low",
          "Low",
          "Medium",
          "Low",
          "Medium",
          "Medium",
          "Medium",
          "Medium",
          "Medium",
          "Medium",
          "Medium",
          "Medium",
          "Low",
          "Medium",
          "High",
          "Medium",
          "Medium",
          "Medium",
          "Medium",
          "Medium",
          "Medium",
          "Medium",
          "Medium",
          "Medium",
          "High",
          "Low",
          "Low",
          "High",
          "Medium",
          "Medium",
          "Medium",
          "Low",
          "Medium",
          "Medium",
          "High",
          "Medium",
          "Medium",
          "Medium",
          "Medium",
          "Medium",
          "Low",
          "Medium",
          "Low",
          "Medium",
          "Medium",
          "Low",
          "Medium",
          "Low",
          "Medium",
          "Medium",
          "Medium",
          "Low",
          "Medium",
          "Medium",
          "High",
          "Medium",
          "Medium",
          "Medium",
          "Low",
          "Medium",
          "Low",
          "Low",
          "Medium",
          "Low",
          "Medium",
          "Low",
          "Low",
          "Low",
          "Low",
          "Medium",
          "Medium",
          "Low",
          "Medium",
          "Medium",
          "Medium",
          "High",
          "Medium",
          "Medium",
          "Medium",
          "Low",
          "High",
          "Medium",
          "Medium",
          "Low",
          "Medium",
          "Medium",
          "Medium",
          "Low",
          "Low",
          "High",
          "Low",
          "Medium",
          "Medium",
          "High",
          "Low",
          "Medium",
          "Medium",
          "Low",
          "Low",
          "Low",
          "Medium",
          "Medium",
          "Medium",
          "Medium",
          "Low",
          "Low",
          "High",
          "Medium",
          "Medium",
          "Low",
          "High",
          "Medium",
          "Medium",
          "Medium",
          "Medium",
          "Medium",
          "Medium",
          "Low",
          "Low",
          "Low",
          "Medium",
          "Low",
          "Low",
          "Low",
          "Medium",
          "Low",
          "Low",
          "High",
          "Low",
          "High",
          "Low",
          "Low",
          "Medium",
          "Medium",
          "Low",
          "High",
          "High",
          "Medium",
          "Low",
          "Medium",
          "Low",
          "Medium",
          "Medium",
          "Medium",
          "Medium",
          "Low",
          "Medium",
          "High",
          "High",
          "Low",
          "Medium",
          "High",
          "Medium",
          "Medium",
          "Medium",
          "Low",
          "Medium",
          "Medium",
          "Low",
          "High",
          "High",
          "Low",
          "Low",
          "High",
          "Medium",
          "High",
          "Low",
          "Low",
          "Medium",
          "Medium",
          "Medium",
          "Low",
          "Medium",
          "Medium",
          "Medium",
          "Low",
          "Medium",
          "High",
          "Medium",
          "Medium",
          "High",
          "Low",
          "Medium",
          "Medium",
          "High",
          "Low",
          "Medium",
          "Medium",
          "High",
          "Medium",
          "High",
          "Low",
          "High",
          "Medium",
          "Medium",
          "Medium",
          "Medium",
          "Medium",
          "Medium",
          "High",
          "Medium",
          "Medium",
          "Medium",
          "High",
          "Medium",
          "High",
          "Low",
          "Low",
          "Low",
          "Medium",
          "High",
          "Low",
          "High",
          "Medium",
          "Medium",
          "Medium",
          "High",
          "High",
          "Low",
          "Low",
          "Medium",
          "Medium",
          "Low",
          "Low",
          "Low",
          "High",
          "Low",
          "Low",
          "Low",
          "High",
          "High",
          "Low",
          "Medium",
          "Medium",
          "Medium",
          "Medium",
          "High",
          "Medium",
          "Medium",
          "Medium",
          "Low",
          "Low",
          "High",
          "Medium",
          "Medium",
          "Medium",
          "High",
          "Medium",
          "Medium",
          "High",
          "Low",
          "Medium",
          "Low",
          "Low",
          "Medium",
          "Low",
          "High",
          "Medium",
          "Medium",
          "High",
          "Medium",
          "High",
          "Low",
          "High",
          "High",
          "Low",
          "Medium",
          "Medium",
          "Medium",
          "High",
          "Low",
          "High",
          "Low",
          "Low",
          "Low",
          "Medium",
          "Low",
          "Low",
          "Low",
          "Medium",
          "Low",
          "Low",
          "Medium",
          "Low",
          "Low",
          "Medium",
          "Low",
          "Low",
          "Low",
          "Low",
          "Medium",
          "Medium",
          "High",
          "Low",
          "Low"
         ],
         "xaxis": "x",
         "yaxis": "y"
        },
        {
         "alignmentgroup": "True",
         "bingroup": "x",
         "hovertemplate": "Kategori Penggunaan Gadget=High<br>Tingkat Stres=%{x}<br>count=%{y}<extra></extra>",
         "legendgroup": "High",
         "marker": {
          "color": "#00cc96",
          "pattern": {
           "shape": ""
          }
         },
         "name": "High",
         "offsetgroup": "High",
         "orientation": "v",
         "showlegend": true,
         "type": "histogram",
         "x": [
          "Medium",
          "High",
          "Low",
          "Low",
          "High",
          "Low",
          "High",
          "Medium",
          "Medium",
          "High",
          "Medium",
          "Medium",
          "High",
          "Medium",
          "Medium",
          "High",
          "Medium",
          "High",
          "Medium",
          "Medium",
          "Medium",
          "Medium",
          "Low",
          "Medium",
          "High",
          "High",
          "High",
          "Medium",
          "High",
          "Medium",
          "High",
          "Medium",
          "Low",
          "Medium",
          "Low",
          "Low",
          "Low",
          "Low",
          "Low",
          "Medium",
          "Low",
          "Medium",
          "Low",
          "Medium",
          "Low",
          "Medium",
          "Low",
          "Medium",
          "Low",
          "Medium",
          "Medium",
          "High",
          "Low",
          "High",
          "Low",
          "Low",
          "High",
          "Medium",
          "Low",
          "High",
          "Medium",
          "Medium",
          "Low",
          "Medium",
          "High",
          "Low",
          "Medium",
          "High",
          "High",
          "Medium",
          "Medium",
          "High",
          "Medium",
          "Medium",
          "Low",
          "Medium",
          "High",
          "Medium",
          "Medium",
          "High",
          "Medium",
          "Medium",
          "High",
          "High",
          "Low",
          "Medium",
          "Low",
          "Low",
          "Medium",
          "Medium",
          "Low",
          "Low",
          "High",
          "Low",
          "Low",
          "Medium",
          "Low",
          "High",
          "High",
          "Low",
          "Low",
          "Medium",
          "Medium",
          "Low",
          "Medium",
          "Low",
          "Low",
          "Low",
          "Low",
          "Medium",
          "Low",
          "Medium",
          "High",
          "Medium",
          "Low",
          "Medium",
          "Medium",
          "Low",
          "High",
          "High",
          "Low",
          "Low",
          "High",
          "Low",
          "Medium",
          "Low",
          "Medium",
          "Medium",
          "High",
          "Medium",
          "Medium",
          "High",
          "Low",
          "Medium",
          "High",
          "Medium",
          "Medium",
          "High",
          "Medium",
          "Medium",
          "Low",
          "Medium",
          "Medium",
          "Medium",
          "Low",
          "Medium",
          "Low",
          "Low",
          "Low",
          "Medium",
          "Medium",
          "Medium",
          "Low",
          "Low",
          "Medium",
          "Medium",
          "Low",
          "Low",
          "Medium",
          "High",
          "Medium",
          "Low",
          "Medium",
          "Medium",
          "Medium",
          "Low",
          "Medium",
          "High",
          "High",
          "High",
          "Medium",
          "Low",
          "Low",
          "Medium",
          "Medium",
          "Medium",
          "Low",
          "Medium",
          "Medium",
          "Medium",
          "Medium",
          "Low",
          "Medium",
          "Low",
          "Medium",
          "Medium",
          "Low",
          "Low",
          "Medium",
          "Medium",
          "Low",
          "Medium",
          "Low",
          "Low",
          "Medium",
          "Medium",
          "Medium",
          "Low",
          "Low",
          "Medium",
          "High",
          "Low",
          "Low",
          "High",
          "High",
          "Low",
          "Low",
          "Medium",
          "Medium",
          "Low",
          "Medium",
          "Low",
          "Medium",
          "Medium",
          "Low",
          "Medium",
          "Medium",
          "Medium",
          "Medium",
          "High",
          "Medium",
          "High",
          "Medium",
          "Medium",
          "Low",
          "Medium",
          "Medium",
          "High",
          "High",
          "Medium",
          "Medium",
          "Medium",
          "Low",
          "High",
          "Medium",
          "Low",
          "Medium",
          "Medium",
          "High",
          "High",
          "Medium",
          "Low",
          "Low",
          "Low",
          "High",
          "Low",
          "Medium",
          "High",
          "Medium",
          "Medium",
          "High",
          "Medium",
          "Medium",
          "High",
          "Medium",
          "Low",
          "Medium",
          "Medium",
          "Medium",
          "Medium",
          "Low",
          "High",
          "Low",
          "Low",
          "Medium",
          "Low",
          "Medium",
          "High",
          "Low",
          "Low",
          "High",
          "Medium",
          "Medium",
          "Medium",
          "Medium",
          "Low",
          "Medium",
          "High",
          "Low",
          "Low",
          "Low",
          "Medium",
          "Low",
          "Medium",
          "Low",
          "Low",
          "Medium",
          "High",
          "Medium",
          "Low",
          "High",
          "Medium",
          "Medium",
          "Medium",
          "Low",
          "High",
          "Low",
          "High",
          "Medium",
          "Medium",
          "Medium",
          "Low",
          "Medium",
          "Medium",
          "Medium",
          "Medium",
          "Low",
          "Medium",
          "Medium",
          "Medium",
          "Low",
          "Medium",
          "Medium",
          "High",
          "Medium",
          "Medium",
          "Medium",
          "Low",
          "High",
          "Medium",
          "Medium",
          "Low",
          "Medium",
          "High",
          "Medium",
          "Medium",
          "Low",
          "High",
          "High",
          "Low",
          "High",
          "Medium",
          "Medium",
          "Low"
         ],
         "xaxis": "x",
         "yaxis": "y"
        }
       ],
       "layout": {
        "barmode": "group",
        "height": 500,
        "legend": {
         "title": {
          "text": "Kategori Penggunaan Gadget"
         },
         "tracegroupgap": 0
        },
        "template": {
         "data": {
          "bar": [
           {
            "error_x": {
             "color": "#2a3f5f"
            },
            "error_y": {
             "color": "#2a3f5f"
            },
            "marker": {
             "line": {
              "color": "#E5ECF6",
              "width": 0.5
             },
             "pattern": {
              "fillmode": "overlay",
              "size": 10,
              "solidity": 0.2
             }
            },
            "type": "bar"
           }
          ],
          "barpolar": [
           {
            "marker": {
             "line": {
              "color": "#E5ECF6",
              "width": 0.5
             },
             "pattern": {
              "fillmode": "overlay",
              "size": 10,
              "solidity": 0.2
             }
            },
            "type": "barpolar"
           }
          ],
          "carpet": [
           {
            "aaxis": {
             "endlinecolor": "#2a3f5f",
             "gridcolor": "white",
             "linecolor": "white",
             "minorgridcolor": "white",
             "startlinecolor": "#2a3f5f"
            },
            "baxis": {
             "endlinecolor": "#2a3f5f",
             "gridcolor": "white",
             "linecolor": "white",
             "minorgridcolor": "white",
             "startlinecolor": "#2a3f5f"
            },
            "type": "carpet"
           }
          ],
          "choropleth": [
           {
            "colorbar": {
             "outlinewidth": 0,
             "ticks": ""
            },
            "type": "choropleth"
           }
          ],
          "contour": [
           {
            "colorbar": {
             "outlinewidth": 0,
             "ticks": ""
            },
            "colorscale": [
             [
              0,
              "#0d0887"
             ],
             [
              0.1111111111111111,
              "#46039f"
             ],
             [
              0.2222222222222222,
              "#7201a8"
             ],
             [
              0.3333333333333333,
              "#9c179e"
             ],
             [
              0.4444444444444444,
              "#bd3786"
             ],
             [
              0.5555555555555556,
              "#d8576b"
             ],
             [
              0.6666666666666666,
              "#ed7953"
             ],
             [
              0.7777777777777778,
              "#fb9f3a"
             ],
             [
              0.8888888888888888,
              "#fdca26"
             ],
             [
              1,
              "#f0f921"
             ]
            ],
            "type": "contour"
           }
          ],
          "contourcarpet": [
           {
            "colorbar": {
             "outlinewidth": 0,
             "ticks": ""
            },
            "type": "contourcarpet"
           }
          ],
          "heatmap": [
           {
            "colorbar": {
             "outlinewidth": 0,
             "ticks": ""
            },
            "colorscale": [
             [
              0,
              "#0d0887"
             ],
             [
              0.1111111111111111,
              "#46039f"
             ],
             [
              0.2222222222222222,
              "#7201a8"
             ],
             [
              0.3333333333333333,
              "#9c179e"
             ],
             [
              0.4444444444444444,
              "#bd3786"
             ],
             [
              0.5555555555555556,
              "#d8576b"
             ],
             [
              0.6666666666666666,
              "#ed7953"
             ],
             [
              0.7777777777777778,
              "#fb9f3a"
             ],
             [
              0.8888888888888888,
              "#fdca26"
             ],
             [
              1,
              "#f0f921"
             ]
            ],
            "type": "heatmap"
           }
          ],
          "histogram": [
           {
            "marker": {
             "pattern": {
              "fillmode": "overlay",
              "size": 10,
              "solidity": 0.2
             }
            },
            "type": "histogram"
           }
          ],
          "histogram2d": [
           {
            "colorbar": {
             "outlinewidth": 0,
             "ticks": ""
            },
            "colorscale": [
             [
              0,
              "#0d0887"
             ],
             [
              0.1111111111111111,
              "#46039f"
             ],
             [
              0.2222222222222222,
              "#7201a8"
             ],
             [
              0.3333333333333333,
              "#9c179e"
             ],
             [
              0.4444444444444444,
              "#bd3786"
             ],
             [
              0.5555555555555556,
              "#d8576b"
             ],
             [
              0.6666666666666666,
              "#ed7953"
             ],
             [
              0.7777777777777778,
              "#fb9f3a"
             ],
             [
              0.8888888888888888,
              "#fdca26"
             ],
             [
              1,
              "#f0f921"
             ]
            ],
            "type": "histogram2d"
           }
          ],
          "histogram2dcontour": [
           {
            "colorbar": {
             "outlinewidth": 0,
             "ticks": ""
            },
            "colorscale": [
             [
              0,
              "#0d0887"
             ],
             [
              0.1111111111111111,
              "#46039f"
             ],
             [
              0.2222222222222222,
              "#7201a8"
             ],
             [
              0.3333333333333333,
              "#9c179e"
             ],
             [
              0.4444444444444444,
              "#bd3786"
             ],
             [
              0.5555555555555556,
              "#d8576b"
             ],
             [
              0.6666666666666666,
              "#ed7953"
             ],
             [
              0.7777777777777778,
              "#fb9f3a"
             ],
             [
              0.8888888888888888,
              "#fdca26"
             ],
             [
              1,
              "#f0f921"
             ]
            ],
            "type": "histogram2dcontour"
           }
          ],
          "mesh3d": [
           {
            "colorbar": {
             "outlinewidth": 0,
             "ticks": ""
            },
            "type": "mesh3d"
           }
          ],
          "parcoords": [
           {
            "line": {
             "colorbar": {
              "outlinewidth": 0,
              "ticks": ""
             }
            },
            "type": "parcoords"
           }
          ],
          "pie": [
           {
            "automargin": true,
            "type": "pie"
           }
          ],
          "scatter": [
           {
            "fillpattern": {
             "fillmode": "overlay",
             "size": 10,
             "solidity": 0.2
            },
            "type": "scatter"
           }
          ],
          "scatter3d": [
           {
            "line": {
             "colorbar": {
              "outlinewidth": 0,
              "ticks": ""
             }
            },
            "marker": {
             "colorbar": {
              "outlinewidth": 0,
              "ticks": ""
             }
            },
            "type": "scatter3d"
           }
          ],
          "scattercarpet": [
           {
            "marker": {
             "colorbar": {
              "outlinewidth": 0,
              "ticks": ""
             }
            },
            "type": "scattercarpet"
           }
          ],
          "scattergeo": [
           {
            "marker": {
             "colorbar": {
              "outlinewidth": 0,
              "ticks": ""
             }
            },
            "type": "scattergeo"
           }
          ],
          "scattergl": [
           {
            "marker": {
             "colorbar": {
              "outlinewidth": 0,
              "ticks": ""
             }
            },
            "type": "scattergl"
           }
          ],
          "scattermap": [
           {
            "marker": {
             "colorbar": {
              "outlinewidth": 0,
              "ticks": ""
             }
            },
            "type": "scattermap"
           }
          ],
          "scattermapbox": [
           {
            "marker": {
             "colorbar": {
              "outlinewidth": 0,
              "ticks": ""
             }
            },
            "type": "scattermapbox"
           }
          ],
          "scatterpolar": [
           {
            "marker": {
             "colorbar": {
              "outlinewidth": 0,
              "ticks": ""
             }
            },
            "type": "scatterpolar"
           }
          ],
          "scatterpolargl": [
           {
            "marker": {
             "colorbar": {
              "outlinewidth": 0,
              "ticks": ""
             }
            },
            "type": "scatterpolargl"
           }
          ],
          "scatterternary": [
           {
            "marker": {
             "colorbar": {
              "outlinewidth": 0,
              "ticks": ""
             }
            },
            "type": "scatterternary"
           }
          ],
          "surface": [
           {
            "colorbar": {
             "outlinewidth": 0,
             "ticks": ""
            },
            "colorscale": [
             [
              0,
              "#0d0887"
             ],
             [
              0.1111111111111111,
              "#46039f"
             ],
             [
              0.2222222222222222,
              "#7201a8"
             ],
             [
              0.3333333333333333,
              "#9c179e"
             ],
             [
              0.4444444444444444,
              "#bd3786"
             ],
             [
              0.5555555555555556,
              "#d8576b"
             ],
             [
              0.6666666666666666,
              "#ed7953"
             ],
             [
              0.7777777777777778,
              "#fb9f3a"
             ],
             [
              0.8888888888888888,
              "#fdca26"
             ],
             [
              1,
              "#f0f921"
             ]
            ],
            "type": "surface"
           }
          ],
          "table": [
           {
            "cells": {
             "fill": {
              "color": "#EBF0F8"
             },
             "line": {
              "color": "white"
             }
            },
            "header": {
             "fill": {
              "color": "#C8D4E3"
             },
             "line": {
              "color": "white"
             }
            },
            "type": "table"
           }
          ]
         },
         "layout": {
          "annotationdefaults": {
           "arrowcolor": "#2a3f5f",
           "arrowhead": 0,
           "arrowwidth": 1
          },
          "autotypenumbers": "strict",
          "coloraxis": {
           "colorbar": {
            "outlinewidth": 0,
            "ticks": ""
           }
          },
          "colorscale": {
           "diverging": [
            [
             0,
             "#8e0152"
            ],
            [
             0.1,
             "#c51b7d"
            ],
            [
             0.2,
             "#de77ae"
            ],
            [
             0.3,
             "#f1b6da"
            ],
            [
             0.4,
             "#fde0ef"
            ],
            [
             0.5,
             "#f7f7f7"
            ],
            [
             0.6,
             "#e6f5d0"
            ],
            [
             0.7,
             "#b8e186"
            ],
            [
             0.8,
             "#7fbc41"
            ],
            [
             0.9,
             "#4d9221"
            ],
            [
             1,
             "#276419"
            ]
           ],
           "sequential": [
            [
             0,
             "#0d0887"
            ],
            [
             0.1111111111111111,
             "#46039f"
            ],
            [
             0.2222222222222222,
             "#7201a8"
            ],
            [
             0.3333333333333333,
             "#9c179e"
            ],
            [
             0.4444444444444444,
             "#bd3786"
            ],
            [
             0.5555555555555556,
             "#d8576b"
            ],
            [
             0.6666666666666666,
             "#ed7953"
            ],
            [
             0.7777777777777778,
             "#fb9f3a"
            ],
            [
             0.8888888888888888,
             "#fdca26"
            ],
            [
             1,
             "#f0f921"
            ]
           ],
           "sequentialminus": [
            [
             0,
             "#0d0887"
            ],
            [
             0.1111111111111111,
             "#46039f"
            ],
            [
             0.2222222222222222,
             "#7201a8"
            ],
            [
             0.3333333333333333,
             "#9c179e"
            ],
            [
             0.4444444444444444,
             "#bd3786"
            ],
            [
             0.5555555555555556,
             "#d8576b"
            ],
            [
             0.6666666666666666,
             "#ed7953"
            ],
            [
             0.7777777777777778,
             "#fb9f3a"
            ],
            [
             0.8888888888888888,
             "#fdca26"
            ],
            [
             1,
             "#f0f921"
            ]
           ]
          },
          "colorway": [
           "#636efa",
           "#EF553B",
           "#00cc96",
           "#ab63fa",
           "#FFA15A",
           "#19d3f3",
           "#FF6692",
           "#B6E880",
           "#FF97FF",
           "#FECB52"
          ],
          "font": {
           "color": "#2a3f5f"
          },
          "geo": {
           "bgcolor": "white",
           "lakecolor": "white",
           "landcolor": "#E5ECF6",
           "showlakes": true,
           "showland": true,
           "subunitcolor": "white"
          },
          "hoverlabel": {
           "align": "left"
          },
          "hovermode": "closest",
          "mapbox": {
           "style": "light"
          },
          "paper_bgcolor": "white",
          "plot_bgcolor": "#E5ECF6",
          "polar": {
           "angularaxis": {
            "gridcolor": "white",
            "linecolor": "white",
            "ticks": ""
           },
           "bgcolor": "#E5ECF6",
           "radialaxis": {
            "gridcolor": "white",
            "linecolor": "white",
            "ticks": ""
           }
          },
          "scene": {
           "xaxis": {
            "backgroundcolor": "#E5ECF6",
            "gridcolor": "white",
            "gridwidth": 2,
            "linecolor": "white",
            "showbackground": true,
            "ticks": "",
            "zerolinecolor": "white"
           },
           "yaxis": {
            "backgroundcolor": "#E5ECF6",
            "gridcolor": "white",
            "gridwidth": 2,
            "linecolor": "white",
            "showbackground": true,
            "ticks": "",
            "zerolinecolor": "white"
           },
           "zaxis": {
            "backgroundcolor": "#E5ECF6",
            "gridcolor": "white",
            "gridwidth": 2,
            "linecolor": "white",
            "showbackground": true,
            "ticks": "",
            "zerolinecolor": "white"
           }
          },
          "shapedefaults": {
           "line": {
            "color": "#2a3f5f"
           }
          },
          "ternary": {
           "aaxis": {
            "gridcolor": "white",
            "linecolor": "white",
            "ticks": ""
           },
           "baxis": {
            "gridcolor": "white",
            "linecolor": "white",
            "ticks": ""
           },
           "bgcolor": "#E5ECF6",
           "caxis": {
            "gridcolor": "white",
            "linecolor": "white",
            "ticks": ""
           }
          },
          "title": {
           "x": 0.05
          },
          "xaxis": {
           "automargin": true,
           "gridcolor": "white",
           "linecolor": "white",
           "ticks": "",
           "title": {
            "standoff": 15
           },
           "zerolinecolor": "white",
           "zerolinewidth": 2
          },
          "yaxis": {
           "automargin": true,
           "gridcolor": "white",
           "linecolor": "white",
           "ticks": "",
           "title": {
            "standoff": 15
           },
           "zerolinecolor": "white",
           "zerolinewidth": 2
          }
         }
        },
        "title": {
         "text": "Distribusi Tingkat Stres Berdasarkan Kategori Penggunaan Gadget"
        },
        "xaxis": {
         "anchor": "y",
         "categoryarray": [
          "Low",
          "Medium",
          "High"
         ],
         "categoryorder": "array",
         "domain": [
          0,
          1
         ],
         "title": {
          "text": "Tingkat Stres"
         }
        },
        "yaxis": {
         "anchor": "x",
         "domain": [
          0,
          1
         ],
         "title": {
          "text": "count"
         }
        }
       }
      }
     },
     "metadata": {},
     "output_type": "display_data"
    },
    {
     "data": {
      "image/png": "[encoded data removed]",
      "text/plain": [
       "<Figure size 1000x600 with 1 Axes>"
      ]
     },
     "metadata": {},
     "output_type": "display_data"
    }
   ],
   "source": [
    "# Menggunakan Plotly Express (Bar Chart)\n",
    "fig_screenTime_stress_cat = px.histogram(\n",
    "    df,\n",
    "    x='Stress Level',\n",
    "    color='Screen Time Category', # Menggunakan kolom kategori\n",
    "    title='Distribusi Tingkat Stres Berdasarkan Kategori Penggunaan Gadget',\n",
    "    labels={\n",
    "        'Stress Level': 'Tingkat Stres',\n",
    "        'Screen Time Category': 'Kategori Penggunaan Gadget'\n",
    "    },\n",
    "    barmode='group',\n",
    "    category_orders={'Stress Level': stress_order, 'Screen Time Category': screen_time_order},\n",
    "    height=500\n",
    ")\n",
    "fig_screenTime_stress_cat.show()\n",
    "\n",
    "# Menggunakan Seaborn (Count Plot)\n",
    "plt.figure(figsize=(10, 6))\n",
    "sns.countplot(data=df, x='Stress Level', hue='Screen Time Category',\n",
    "                order=stress_order, palette='viridis',\n",
    "                hue_order=screen_time_order) # Pastikan urutan hue juga\n",
    "plt.title('Distribusi Tingkat Stres Berdasarkan Kategori Penggunaan Gadget')\n",
    "plt.xlabel('Tingkat Stres')\n",
    "plt.ylabel('Jumlah Siswa')\n",
    "plt.show()"
   ]
  },
  {
   "cell_type": "markdown",
   "id": "d79b507d",
   "metadata": {},
   "source": [
    "#### Tingkat Stres Siswa Berdasarkan Aktivitas Fisik yang Dilakukan\n",
    "\n",
    "**Kategori Durasi Aktivitas Fisik per Hari:**\n",
    "- **0 - 2 jam** → *Low* (Rendah)\n",
    "- **2 - 4 jam** → *Medium* (Sedang)\n",
    "- **> 4 jam** → *High* (Tinggi)\n",
    "\n",
    "---\n",
    "\n",
    "##### **Temuan Utama:**\n",
    "\n",
    "- **Siswa dengan tingkat stres rendah** paling banyak melakukan aktivitas fisik dengan intensitas *tinggi* (57,1%), diikuti oleh *sedang* (21%), dan *rendah* (20,9%).\n",
    "- **Siswa dengan tingkat stres sedang** tercatat 59,1% berada pada kategori aktivitas *tinggi*, 23,1% *sedang*, dan 17,8% *rendah*.\n",
    "- **Siswa dengan tingkat stres tinggi** justru memiliki proporsi aktivitas fisik *tinggi* yang lebih besar lagi yaitu 64%, diikuti oleh *sedang* (18,7%) dan *rendah* (17,3%).\n",
    "\n",
    "---\n",
    "\n",
    "##### **Implikasi:**\n",
    "\n",
    "Data ini menunjukkan bahwa **aktivitas fisik memang berkaitan dengan tingkat stres**, tetapi hubungan tersebut **tidak selalu linier**. Beberapa poin penting yang bisa disimpulkan:\n",
    "\n",
    "- **Aktivitas fisik yang tinggi tidak selalu identik dengan tingkat stres yang rendah.** Misalnya, siswa dengan stres tinggi justru memiliki proporsi aktivitas fisik tinggi sebesar **64%**, lebih tinggi dibandingkan siswa dengan stres rendah (**57,1%**).\n",
    "- **Siswa dengan stres rendah memiliki distribusi aktivitas fisik yang lebih seimbang**, terutama pada kategori aktivitas sedang (**21%**), dibandingkan dengan siswa yang mengalami stres tinggi (**17,3%**). Ini mengindikasikan bahwa **aktivitas fisik dengan intensitas sedang mungkin lebih efektif dalam menjaga keseimbangan mental**.\n",
    "- Aktivitas fisik **berlebihan** (terlalu tinggi) juga bisa menjadi beban tambahan dan justru meningkatkan stres, tergantung pada konteks dan kemampuan fisik siswa.\n",
    "\n",
    "---\n",
    "\n",
    "> 📌 **Kesimpulan**: Aktivitas fisik berperan penting dalam pengelolaan stres, namun **intensitas yang terlalu tinggi belum tentu optimal**. Justru, aktivitas dengan intensitas sedang dapat menjadi solusi yang lebih ideal untuk menjaga keseimbangan fisik dan mental siswa.\n",
    "---\n",
    "> 📌 **Catatan**: Jika anda mengganti mapping kategori penggunaan gadget, kesimpulan dan penjelasan yang saya berikan dapat berubah/kurang sesuai **PERHATIKAN MAPPING KATEGORI**\n"
   ]
  },
  {
   "cell_type": "code",
   "execution_count": 65,
   "id": "e766ace2",
   "metadata": {},
   "outputs": [
    {
     "data": {
      "application/vnd.plotly.v1+json": {
       "config": {
        "plotlyServerURL": "https://plot.ly"
       },
       "data": [
        {
         "alignmentgroup": "True",
         "bingroup": "x",
         "hovertemplate": "Kategori Aktivitas Fisik=Low<br>Tingkat Stres=%{x}<br>count=%{y}<extra></extra>",
         "legendgroup": "Low",
         "marker": {
          "color": "#636efa",
          "pattern": {
           "shape": ""
          }
         },
         "name": "Low",
         "offsetgroup": "Low",
         "orientation": "v",
         "showlegend": true,
         "type": "histogram",
         "x": [
          "Medium",
          "Low",
          "Medium",
          "Low",
          "Low",
          "Medium",
          "High",
          "Medium",
          "Medium",
          "Low",
          "Low",
          "High",
          "Low",
          "Medium",
          "Medium",
          "Low",
          "High",
          "Medium",
          "High",
          "High",
          "Medium",
          "Low",
          "Low",
          "Low",
          "Medium",
          "Medium",
          "Low",
          "Low",
          "Medium",
          "Medium",
          "Medium",
          "Medium",
          "Medium",
          "Medium",
          "High",
          "Medium",
          "High",
          "Low",
          "Medium",
          "Low",
          "Low",
          "Low",
          "Medium",
          "Medium",
          "Medium",
          "Low",
          "Low",
          "Low",
          "Medium",
          "Medium",
          "High",
          "Medium",
          "Medium",
          "Medium",
          "Low",
          "Medium",
          "Medium",
          "Medium",
          "Medium",
          "High",
          "Low",
          "Low",
          "Low",
          "Low",
          "Medium",
          "Low",
          "Low",
          "Low",
          "High",
          "Medium",
          "Low",
          "Low",
          "Medium",
          "Medium",
          "Low",
          "High",
          "Low",
          "Low",
          "Low",
          "Low",
          "Medium",
          "High",
          "Medium",
          "Medium",
          "Low",
          "Low",
          "High",
          "High",
          "Medium",
          "Medium",
          "Low",
          "Medium",
          "Low",
          "Medium",
          "Low",
          "Medium",
          "Low",
          "Medium",
          "High",
          "Low",
          "Medium",
          "Medium",
          "Medium",
          "Low",
          "Medium",
          "Medium",
          "Medium",
          "Low",
          "Medium",
          "Low",
          "Medium",
          "Low",
          "Medium",
          "Low",
          "Medium",
          "Low",
          "Low",
          "Low",
          "Low",
          "High",
          "High",
          "Medium",
          "Medium",
          "Medium",
          "Medium",
          "Low",
          "Medium",
          "High",
          "Low",
          "High",
          "Low",
          "Medium",
          "Low",
          "Medium",
          "High",
          "Medium",
          "High",
          "Medium",
          "Low",
          "High",
          "Medium",
          "Medium",
          "Medium",
          "Medium",
          "Medium",
          "High",
          "Medium",
          "High",
          "Low",
          "Low",
          "High",
          "Medium",
          "High",
          "High",
          "Medium",
          "Low",
          "Medium",
          "Medium",
          "Medium",
          "Low",
          "Low",
          "Medium",
          "Medium",
          "Low",
          "High",
          "Low",
          "High",
          "Medium",
          "Medium",
          "High",
          "Medium",
          "Medium",
          "Low",
          "Low",
          "Low",
          "High",
          "Medium",
          "Medium",
          "Medium",
          "Medium",
          "Low",
          "Medium",
          "Low",
          "Low",
          "Medium",
          "Low",
          "Medium",
          "Low"
         ],
         "xaxis": "x",
         "yaxis": "y"
        },
        {
         "alignmentgroup": "True",
         "bingroup": "x",
         "hovertemplate": "Kategori Aktivitas Fisik=Medium<br>Tingkat Stres=%{x}<br>count=%{y}<extra></extra>",
         "legendgroup": "Medium",
         "marker": {
          "color": "#EF553B",
          "pattern": {
           "shape": ""
          }
         },
         "name": "Medium",
         "offsetgroup": "Medium",
         "orientation": "v",
         "showlegend": true,
         "type": "histogram",
         "x": [
          "Medium",
          "High",
          "Medium",
          "High",
          "Low",
          "Low",
          "Medium",
          "Low",
          "High",
          "Medium",
          "Low",
          "Medium",
          "High",
          "High",
          "Medium",
          "Medium",
          "Low",
          "Low",
          "Low",
          "Low",
          "High",
          "Low",
          "Medium",
          "Low",
          "Medium",
          "Low",
          "Low",
          "Medium",
          "Low",
          "Medium",
          "Low",
          "High",
          "Low",
          "Medium",
          "Medium",
          "Low",
          "Medium",
          "High",
          "Low",
          "Medium",
          "Medium",
          "Low",
          "Low",
          "Medium",
          "Medium",
          "Medium",
          "Medium",
          "High",
          "Low",
          "Medium",
          "Medium",
          "Medium",
          "Low",
          "High",
          "Low",
          "Low",
          "Medium",
          "Low",
          "High",
          "Low",
          "Low",
          "High",
          "Low",
          "Low",
          "Medium",
          "Medium",
          "Medium",
          "Low",
          "Medium",
          "Medium",
          "Medium",
          "Medium",
          "Low",
          "High",
          "High",
          "Low",
          "Medium",
          "Medium",
          "Medium",
          "Medium",
          "Low",
          "Medium",
          "Low",
          "Medium",
          "High",
          "Medium",
          "Low",
          "Medium",
          "Medium",
          "Medium",
          "High",
          "High",
          "Low",
          "Medium",
          "Medium",
          "Medium",
          "Low",
          "Medium",
          "Medium",
          "Medium",
          "Medium",
          "Low",
          "Medium",
          "Medium",
          "Low",
          "Medium",
          "Medium",
          "Low",
          "Medium",
          "Medium",
          "Medium",
          "Medium",
          "Low",
          "Low",
          "Medium",
          "Medium",
          "Medium",
          "Low",
          "Medium",
          "Medium",
          "High",
          "Low",
          "Medium",
          "Medium",
          "Low",
          "Medium",
          "Low",
          "Low",
          "Medium",
          "Low",
          "Medium",
          "Medium",
          "Medium",
          "Low",
          "Medium",
          "Low",
          "Medium",
          "Medium",
          "Medium",
          "Medium",
          "Medium",
          "High",
          "High",
          "Low",
          "Medium",
          "Medium",
          "Medium",
          "Low",
          "Low",
          "Medium",
          "Medium",
          "Low",
          "Low",
          "Low",
          "Low",
          "Low",
          "Medium",
          "Low",
          "Low",
          "Low",
          "Low",
          "Medium",
          "Medium",
          "Medium",
          "Low",
          "Medium",
          "High",
          "Medium",
          "Medium",
          "Low",
          "Medium",
          "Low",
          "Medium",
          "Medium",
          "High",
          "Medium",
          "Medium",
          "Medium",
          "Medium",
          "Low",
          "Medium",
          "Medium",
          "High",
          "Medium",
          "Medium",
          "Medium",
          "Medium",
          "High",
          "Medium",
          "Medium",
          "High",
          "Medium",
          "Medium",
          "Medium",
          "High",
          "High",
          "Low",
          "Medium",
          "High",
          "Medium",
          "Medium",
          "Low",
          "Medium",
          "High",
          "Medium",
          "Low",
          "Medium",
          "Medium",
          "High",
          "Medium",
          "Low",
          "High",
          "Medium",
          "High",
          "High",
          "Medium",
          "Low",
          "High",
          "Low"
         ],
         "xaxis": "x",
         "yaxis": "y"
        },
        {
         "alignmentgroup": "True",
         "bingroup": "x",
         "hovertemplate": "Kategori Aktivitas Fisik=High<br>Tingkat Stres=%{x}<br>count=%{y}<extra></extra>",
         "legendgroup": "High",
         "marker": {
          "color": "#00cc96",
          "pattern": {
           "shape": ""
          }
         },
         "name": "High",
         "offsetgroup": "High",
         "orientation": "v",
         "showlegend": true,
         "type": "histogram",
         "x": [
          "Medium",
          "Medium",
          "High",
          "Medium",
          "Medium",
          "Low",
          "High",
          "High",
          "Low",
          "Medium",
          "High",
          "Medium",
          "Medium",
          "Low",
          "Medium",
          "Medium",
          "High",
          "Medium",
          "Low",
          "Low",
          "Medium",
          "Medium",
          "Medium",
          "Medium",
          "Medium",
          "High",
          "Low",
          "Low",
          "Medium",
          "Low",
          "Low",
          "High",
          "Medium",
          "Medium",
          "High",
          "Medium",
          "Medium",
          "High",
          "Low",
          "Medium",
          "High",
          "Medium",
          "Medium",
          "Medium",
          "High",
          "Medium",
          "High",
          "Medium",
          "Medium",
          "High",
          "Medium",
          "Medium",
          "Low",
          "Medium",
          "Low",
          "Medium",
          "Medium",
          "Medium",
          "Low",
          "Low",
          "Medium",
          "Low",
          "Medium",
          "Low",
          "Low",
          "High",
          "Medium",
          "Medium",
          "Low",
          "Medium",
          "Low",
          "Low",
          "Medium",
          "Medium",
          "High",
          "Low",
          "Medium",
          "Medium",
          "Low",
          "Medium",
          "Low",
          "High",
          "High",
          "Low",
          "Low",
          "Medium",
          "Medium",
          "High",
          "High",
          "Low",
          "Low",
          "Medium",
          "Low",
          "Medium",
          "High",
          "Low",
          "Low",
          "High",
          "Medium",
          "Low",
          "Low",
          "Low",
          "Medium",
          "High",
          "Medium",
          "Medium",
          "Low",
          "Medium",
          "Low",
          "Medium",
          "Medium",
          "High",
          "Medium",
          "Low",
          "Low",
          "Low",
          "Low",
          "High",
          "High",
          "Low",
          "Medium",
          "High",
          "Low",
          "Medium",
          "Low",
          "Medium",
          "Medium",
          "High",
          "Medium",
          "Medium",
          "Medium",
          "Medium",
          "Medium",
          "Medium",
          "High",
          "Low",
          "Low",
          "Low",
          "Medium",
          "Medium",
          "Medium",
          "Low",
          "Medium",
          "Medium",
          "Medium",
          "High",
          "Low",
          "Medium",
          "High",
          "Medium",
          "High",
          "Medium",
          "Medium",
          "Medium",
          "Medium",
          "High",
          "High",
          "High",
          "Medium",
          "High",
          "Low",
          "Low",
          "Medium",
          "Medium",
          "Low",
          "Medium",
          "Medium",
          "Low",
          "Medium",
          "High",
          "Low",
          "Low",
          "Medium",
          "Low",
          "Medium",
          "Medium",
          "Medium",
          "Medium",
          "Medium",
          "High",
          "Low",
          "Medium",
          "Medium",
          "Medium",
          "Medium",
          "Medium",
          "Low",
          "Medium",
          "Medium",
          "Medium",
          "Medium",
          "Low",
          "Medium",
          "Medium",
          "Low",
          "Medium",
          "Medium",
          "Medium",
          "High",
          "High",
          "Low",
          "Medium",
          "High",
          "Medium",
          "Medium",
          "Medium",
          "Medium",
          "Low",
          "Medium",
          "Low",
          "Medium",
          "Medium",
          "Low",
          "High",
          "Medium",
          "High",
          "Medium",
          "Medium",
          "Medium",
          "High",
          "Medium",
          "Low",
          "Medium",
          "Medium",
          "Low",
          "Medium",
          "Medium",
          "Medium",
          "Low",
          "Low",
          "Medium",
          "Low",
          "Medium",
          "Low",
          "Medium",
          "Low",
          "Medium",
          "Medium",
          "High",
          "Medium",
          "Medium",
          "Medium",
          "Medium",
          "Medium",
          "Medium",
          "Medium",
          "Low",
          "Low",
          "Low",
          "Low",
          "High",
          "Medium",
          "Medium",
          "Low",
          "Low",
          "Low",
          "Medium",
          "Low",
          "Medium",
          "Low",
          "Medium",
          "Medium",
          "Medium",
          "Medium",
          "Medium",
          "Low",
          "Medium",
          "Medium",
          "Low",
          "Medium",
          "High",
          "Medium",
          "Medium",
          "Medium",
          "Medium",
          "Medium",
          "Low",
          "Low",
          "High",
          "Low",
          "Low",
          "Medium",
          "High",
          "Medium",
          "Medium",
          "Medium",
          "Low",
          "Low",
          "High",
          "Low",
          "Medium",
          "Medium",
          "Medium",
          "Low",
          "High",
          "Medium",
          "High",
          "Low",
          "Medium",
          "Medium",
          "Medium",
          "Medium",
          "Low",
          "Low",
          "Low",
          "High",
          "Medium",
          "Low",
          "Low",
          "High",
          "High",
          "Medium",
          "Low",
          "Medium",
          "Low",
          "Low",
          "Medium",
          "High",
          "Medium",
          "Medium",
          "Medium",
          "Medium",
          "Medium",
          "Medium",
          "Medium",
          "Medium",
          "Medium",
          "Low",
          "Low",
          "Medium",
          "Low",
          "Low",
          "Low",
          "Low",
          "Medium",
          "Medium",
          "High",
          "Low",
          "Medium",
          "Low",
          "Medium",
          "Medium",
          "High",
          "Low",
          "Medium",
          "High",
          "Medium",
          "Low",
          "Low",
          "Low",
          "High",
          "Medium",
          "Medium",
          "Medium",
          "Low",
          "Low",
          "High",
          "High",
          "Medium",
          "High",
          "High",
          "Medium",
          "Low",
          "Low",
          "Medium",
          "Low",
          "Low",
          "Low",
          "Low",
          "High",
          "Low",
          "Medium",
          "Medium",
          "Low",
          "Medium",
          "Low",
          "Medium",
          "Medium",
          "High",
          "Medium",
          "Medium",
          "Medium",
          "High",
          "High",
          "Medium",
          "Medium",
          "Medium",
          "Medium",
          "Low",
          "Medium",
          "Medium",
          "Medium",
          "High",
          "Medium",
          "High",
          "Medium",
          "Medium",
          "Low",
          "High",
          "High",
          "High",
          "High",
          "Medium",
          "Low",
          "Medium",
          "Low",
          "High",
          "Medium",
          "Medium",
          "Low",
          "High",
          "Medium",
          "Low",
          "Medium",
          "Medium",
          "Medium",
          "High",
          "Medium",
          "Medium",
          "Low",
          "Medium",
          "High",
          "High",
          "Medium",
          "Medium",
          "High",
          "Low",
          "Medium",
          "Medium",
          "Medium",
          "High",
          "Low",
          "Medium",
          "High",
          "Medium",
          "Medium",
          "Low",
          "High",
          "High",
          "Low",
          "Medium",
          "Medium",
          "Medium",
          "Medium",
          "Medium",
          "Medium",
          "Medium",
          "Low",
          "High",
          "High",
          "Low",
          "Low",
          "Medium",
          "Low",
          "Medium",
          "Medium",
          "Medium",
          "Low",
          "Low",
          "Low",
          "Low",
          "Low",
          "High",
          "Medium",
          "Medium",
          "Medium",
          "High",
          "Medium",
          "High",
          "Low",
          "Low",
          "Medium",
          "Medium",
          "High",
          "High",
          "Low",
          "High",
          "Medium",
          "High",
          "Low",
          "Low",
          "Low",
          "Low",
          "Low",
          "Low",
          "Medium",
          "Low",
          "Low",
          "Medium",
          "High",
          "Low",
          "Low",
          "Low",
          "High",
          "Low",
          "Low",
          "Medium",
          "Low",
          "Medium",
          "Low",
          "High",
          "High",
          "High",
          "High",
          "Low",
          "Medium",
          "Low",
          "High",
          "Medium",
          "Medium",
          "Medium",
          "Medium",
          "Medium",
          "Medium",
          "High",
          "Low",
          "Medium",
          "Medium",
          "Low",
          "High",
          "Low",
          "Medium",
          "High",
          "Medium",
          "High",
          "Medium",
          "Medium",
          "Low",
          "Medium",
          "Medium",
          "Medium",
          "Low",
          "High",
          "Medium",
          "Low",
          "Medium",
          "Medium",
          "Medium",
          "Medium",
          "Medium",
          "Medium",
          "Medium",
          "High",
          "High",
          "Medium",
          "High",
          "Low",
          "Medium",
          "Medium",
          "Medium",
          "High",
          "Medium",
          "Low",
          "Medium",
          "High",
          "Low",
          "Low",
          "Low",
          "Low",
          "Low",
          "High",
          "Low",
          "Low",
          "Medium",
          "Medium",
          "High",
          "Medium",
          "Medium",
          "Medium",
          "Low",
          "High",
          "Low",
          "Medium",
          "Medium",
          "Low",
          "Low",
          "High",
          "Low",
          "Low",
          "Medium",
          "Medium",
          "Low",
          "Medium",
          "Low",
          "Low",
          "High",
          "High",
          "Low",
          "High",
          "Medium",
          "Medium",
          "Low",
          "Medium"
         ],
         "xaxis": "x",
         "yaxis": "y"
        }
       ],
       "layout": {
        "barmode": "group",
        "height": 500,
        "legend": {
         "title": {
          "text": "Kategori Aktivitas Fisik"
         },
         "tracegroupgap": 0
        },
        "template": {
         "data": {
          "bar": [
           {
            "error_x": {
             "color": "#2a3f5f"
            },
            "error_y": {
             "color": "#2a3f5f"
            },
            "marker": {
             "line": {
              "color": "#E5ECF6",
              "width": 0.5
             },
             "pattern": {
              "fillmode": "overlay",
              "size": 10,
              "solidity": 0.2
             }
            },
            "type": "bar"
           }
          ],
          "barpolar": [
           {
            "marker": {
             "line": {
              "color": "#E5ECF6",
              "width": 0.5
             },
             "pattern": {
              "fillmode": "overlay",
              "size": 10,
              "solidity": 0.2
             }
            },
            "type": "barpolar"
           }
          ],
          "carpet": [
           {
            "aaxis": {
             "endlinecolor": "#2a3f5f",
             "gridcolor": "white",
             "linecolor": "white",
             "minorgridcolor": "white",
             "startlinecolor": "#2a3f5f"
            },
            "baxis": {
             "endlinecolor": "#2a3f5f",
             "gridcolor": "white",
             "linecolor": "white",
             "minorgridcolor": "white",
             "startlinecolor": "#2a3f5f"
            },
            "type": "carpet"
           }
          ],
          "choropleth": [
           {
            "colorbar": {
             "outlinewidth": 0,
             "ticks": ""
            },
            "type": "choropleth"
           }
          ],
          "contour": [
           {
            "colorbar": {
             "outlinewidth": 0,
             "ticks": ""
            },
            "colorscale": [
             [
              0,
              "#0d0887"
             ],
             [
              0.1111111111111111,
              "#46039f"
             ],
             [
              0.2222222222222222,
              "#7201a8"
             ],
             [
              0.3333333333333333,
              "#9c179e"
             ],
             [
              0.4444444444444444,
              "#bd3786"
             ],
             [
              0.5555555555555556,
              "#d8576b"
             ],
             [
              0.6666666666666666,
              "#ed7953"
             ],
             [
              0.7777777777777778,
              "#fb9f3a"
             ],
             [
              0.8888888888888888,
              "#fdca26"
             ],
             [
              1,
              "#f0f921"
             ]
            ],
            "type": "contour"
           }
          ],
          "contourcarpet": [
           {
            "colorbar": {
             "outlinewidth": 0,
             "ticks": ""
            },
            "type": "contourcarpet"
           }
          ],
          "heatmap": [
           {
            "colorbar": {
             "outlinewidth": 0,
             "ticks": ""
            },
            "colorscale": [
             [
              0,
              "#0d0887"
             ],
             [
              0.1111111111111111,
              "#46039f"
             ],
             [
              0.2222222222222222,
              "#7201a8"
             ],
             [
              0.3333333333333333,
              "#9c179e"
             ],
             [
              0.4444444444444444,
              "#bd3786"
             ],
             [
              0.5555555555555556,
              "#d8576b"
             ],
             [
              0.6666666666666666,
              "#ed7953"
             ],
             [
              0.7777777777777778,
              "#fb9f3a"
             ],
             [
              0.8888888888888888,
              "#fdca26"
             ],
             [
              1,
              "#f0f921"
             ]
            ],
            "type": "heatmap"
           }
          ],
          "histogram": [
           {
            "marker": {
             "pattern": {
              "fillmode": "overlay",
              "size": 10,
              "solidity": 0.2
             }
            },
            "type": "histogram"
           }
          ],
          "histogram2d": [
           {
            "colorbar": {
             "outlinewidth": 0,
             "ticks": ""
            },
            "colorscale": [
             [
              0,
              "#0d0887"
             ],
             [
              0.1111111111111111,
              "#46039f"
             ],
             [
              0.2222222222222222,
              "#7201a8"
             ],
             [
              0.3333333333333333,
              "#9c179e"
             ],
             [
              0.4444444444444444,
              "#bd3786"
             ],
             [
              0.5555555555555556,
              "#d8576b"
             ],
             [
              0.6666666666666666,
              "#ed7953"
             ],
             [
              0.7777777777777778,
              "#fb9f3a"
             ],
             [
              0.8888888888888888,
              "#fdca26"
             ],
             [
              1,
              "#f0f921"
             ]
            ],
            "type": "histogram2d"
           }
          ],
          "histogram2dcontour": [
           {
            "colorbar": {
             "outlinewidth": 0,
             "ticks": ""
            },
            "colorscale": [
             [
              0,
              "#0d0887"
             ],
             [
              0.1111111111111111,
              "#46039f"
             ],
             [
              0.2222222222222222,
              "#7201a8"
             ],
             [
              0.3333333333333333,
              "#9c179e"
             ],
             [
              0.4444444444444444,
              "#bd3786"
             ],
             [
              0.5555555555555556,
              "#d8576b"
             ],
             [
              0.6666666666666666,
              "#ed7953"
             ],
             [
              0.7777777777777778,
              "#fb9f3a"
             ],
             [
              0.8888888888888888,
              "#fdca26"
             ],
             [
              1,
              "#f0f921"
             ]
            ],
            "type": "histogram2dcontour"
           }
          ],
          "mesh3d": [
           {
            "colorbar": {
             "outlinewidth": 0,
             "ticks": ""
            },
            "type": "mesh3d"
           }
          ],
          "parcoords": [
           {
            "line": {
             "colorbar": {
              "outlinewidth": 0,
              "ticks": ""
             }
            },
            "type": "parcoords"
           }
          ],
          "pie": [
           {
            "automargin": true,
            "type": "pie"
           }
          ],
          "scatter": [
           {
            "fillpattern": {
             "fillmode": "overlay",
             "size": 10,
             "solidity": 0.2
            },
            "type": "scatter"
           }
          ],
          "scatter3d": [
           {
            "line": {
             "colorbar": {
              "outlinewidth": 0,
              "ticks": ""
             }
            },
            "marker": {
             "colorbar": {
              "outlinewidth": 0,
              "ticks": ""
             }
            },
            "type": "scatter3d"
           }
          ],
          "scattercarpet": [
           {
            "marker": {
             "colorbar": {
              "outlinewidth": 0,
              "ticks": ""
             }
            },
            "type": "scattercarpet"
           }
          ],
          "scattergeo": [
           {
            "marker": {
             "colorbar": {
              "outlinewidth": 0,
              "ticks": ""
             }
            },
            "type": "scattergeo"
           }
          ],
          "scattergl": [
           {
            "marker": {
             "colorbar": {
              "outlinewidth": 0,
              "ticks": ""
             }
            },
            "type": "scattergl"
           }
          ],
          "scattermap": [
           {
            "marker": {
             "colorbar": {
              "outlinewidth": 0,
              "ticks": ""
             }
            },
            "type": "scattermap"
           }
          ],
          "scattermapbox": [
           {
            "marker": {
             "colorbar": {
              "outlinewidth": 0,
              "ticks": ""
             }
            },
            "type": "scattermapbox"
           }
          ],
          "scatterpolar": [
           {
            "marker": {
             "colorbar": {
              "outlinewidth": 0,
              "ticks": ""
             }
            },
            "type": "scatterpolar"
           }
          ],
          "scatterpolargl": [
           {
            "marker": {
             "colorbar": {
              "outlinewidth": 0,
              "ticks": ""
             }
            },
            "type": "scatterpolargl"
           }
          ],
          "scatterternary": [
           {
            "marker": {
             "colorbar": {
              "outlinewidth": 0,
              "ticks": ""
             }
            },
            "type": "scatterternary"
           }
          ],
          "surface": [
           {
            "colorbar": {
             "outlinewidth": 0,
             "ticks": ""
            },
            "colorscale": [
             [
              0,
              "#0d0887"
             ],
             [
              0.1111111111111111,
              "#46039f"
             ],
             [
              0.2222222222222222,
              "#7201a8"
             ],
             [
              0.3333333333333333,
              "#9c179e"
             ],
             [
              0.4444444444444444,
              "#bd3786"
             ],
             [
              0.5555555555555556,
              "#d8576b"
             ],
             [
              0.6666666666666666,
              "#ed7953"
             ],
             [
              0.7777777777777778,
              "#fb9f3a"
             ],
             [
              0.8888888888888888,
              "#fdca26"
             ],
             [
              1,
              "#f0f921"
             ]
            ],
            "type": "surface"
           }
          ],
          "table": [
           {
            "cells": {
             "fill": {
              "color": "#EBF0F8"
             },
             "line": {
              "color": "white"
             }
            },
            "header": {
             "fill": {
              "color": "#C8D4E3"
             },
             "line": {
              "color": "white"
             }
            },
            "type": "table"
           }
          ]
         },
         "layout": {
          "annotationdefaults": {
           "arrowcolor": "#2a3f5f",
           "arrowhead": 0,
           "arrowwidth": 1
          },
          "autotypenumbers": "strict",
          "coloraxis": {
           "colorbar": {
            "outlinewidth": 0,
            "ticks": ""
           }
          },
          "colorscale": {
           "diverging": [
            [
             0,
             "#8e0152"
            ],
            [
             0.1,
             "#c51b7d"
            ],
            [
             0.2,
             "#de77ae"
            ],
            [
             0.3,
             "#f1b6da"
            ],
            [
             0.4,
             "#fde0ef"
            ],
            [
             0.5,
             "#f7f7f7"
            ],
            [
             0.6,
             "#e6f5d0"
            ],
            [
             0.7,
             "#b8e186"
            ],
            [
             0.8,
             "#7fbc41"
            ],
            [
             0.9,
             "#4d9221"
            ],
            [
             1,
             "#276419"
            ]
           ],
           "sequential": [
            [
             0,
             "#0d0887"
            ],
            [
             0.1111111111111111,
             "#46039f"
            ],
            [
             0.2222222222222222,
             "#7201a8"
            ],
            [
             0.3333333333333333,
             "#9c179e"
            ],
            [
             0.4444444444444444,
             "#bd3786"
            ],
            [
             0.5555555555555556,
             "#d8576b"
            ],
            [
             0.6666666666666666,
             "#ed7953"
            ],
            [
             0.7777777777777778,
             "#fb9f3a"
            ],
            [
             0.8888888888888888,
             "#fdca26"
            ],
            [
             1,
             "#f0f921"
            ]
           ],
           "sequentialminus": [
            [
             0,
             "#0d0887"
            ],
            [
             0.1111111111111111,
             "#46039f"
            ],
            [
             0.2222222222222222,
             "#7201a8"
            ],
            [
             0.3333333333333333,
             "#9c179e"
            ],
            [
             0.4444444444444444,
             "#bd3786"
            ],
            [
             0.5555555555555556,
             "#d8576b"
            ],
            [
             0.6666666666666666,
             "#ed7953"
            ],
            [
             0.7777777777777778,
             "#fb9f3a"
            ],
            [
             0.8888888888888888,
             "#fdca26"
            ],
            [
             1,
             "#f0f921"
            ]
           ]
          },
          "colorway": [
           "#636efa",
           "#EF553B",
           "#00cc96",
           "#ab63fa",
           "#FFA15A",
           "#19d3f3",
           "#FF6692",
           "#B6E880",
           "#FF97FF",
           "#FECB52"
          ],
          "font": {
           "color": "#2a3f5f"
          },
          "geo": {
           "bgcolor": "white",
           "lakecolor": "white",
           "landcolor": "#E5ECF6",
           "showlakes": true,
           "showland": true,
           "subunitcolor": "white"
          },
          "hoverlabel": {
           "align": "left"
          },
          "hovermode": "closest",
          "mapbox": {
           "style": "light"
          },
          "paper_bgcolor": "white",
          "plot_bgcolor": "#E5ECF6",
          "polar": {
           "angularaxis": {
            "gridcolor": "white",
            "linecolor": "white",
            "ticks": ""
           },
           "bgcolor": "#E5ECF6",
           "radialaxis": {
            "gridcolor": "white",
            "linecolor": "white",
            "ticks": ""
           }
          },
          "scene": {
           "xaxis": {
            "backgroundcolor": "#E5ECF6",
            "gridcolor": "white",
            "gridwidth": 2,
            "linecolor": "white",
            "showbackground": true,
            "ticks": "",
            "zerolinecolor": "white"
           },
           "yaxis": {
            "backgroundcolor": "#E5ECF6",
            "gridcolor": "white",
            "gridwidth": 2,
            "linecolor": "white",
            "showbackground": true,
            "ticks": "",
            "zerolinecolor": "white"
           },
           "zaxis": {
            "backgroundcolor": "#E5ECF6",
            "gridcolor": "white",
            "gridwidth": 2,
            "linecolor": "white",
            "showbackground": true,
            "ticks": "",
            "zerolinecolor": "white"
           }
          },
          "shapedefaults": {
           "line": {
            "color": "#2a3f5f"
           }
          },
          "ternary": {
           "aaxis": {
            "gridcolor": "white",
            "linecolor": "white",
            "ticks": ""
           },
           "baxis": {
            "gridcolor": "white",
            "linecolor": "white",
            "ticks": ""
           },
           "bgcolor": "#E5ECF6",
           "caxis": {
            "gridcolor": "white",
            "linecolor": "white",
            "ticks": ""
           }
          },
          "title": {
           "x": 0.05
          },
          "xaxis": {
           "automargin": true,
           "gridcolor": "white",
           "linecolor": "white",
           "ticks": "",
           "title": {
            "standoff": 15
           },
           "zerolinecolor": "white",
           "zerolinewidth": 2
          },
          "yaxis": {
           "automargin": true,
           "gridcolor": "white",
           "linecolor": "white",
           "ticks": "",
           "title": {
            "standoff": 15
           },
           "zerolinecolor": "white",
           "zerolinewidth": 2
          }
         }
        },
        "title": {
         "text": "Distribusi Tingkat Stres Berdasarkan Kategori Aktivitas Fisik"
        },
        "xaxis": {
         "anchor": "y",
         "categoryarray": [
          "Low",
          "Medium",
          "High"
         ],
         "categoryorder": "array",
         "domain": [
          0,
          1
         ],
         "title": {
          "text": "Tingkat Stres"
         }
        },
        "yaxis": {
         "anchor": "x",
         "domain": [
          0,
          1
         ],
         "title": {
          "text": "count"
         }
        }
       }
      }
     },
     "metadata": {},
     "output_type": "display_data"
    },
    {
     "data": {
      "image/png": "[encoded data removed]",
      "text/plain": [
       "<Figure size 1000x600 with 1 Axes>"
      ]
     },
     "metadata": {},
     "output_type": "display_data"
    }
   ],
   "source": [
    "# Menggunakan Plotly Express (Bar Chart)\n",
    "fig_physic_stress_cat = px.histogram(\n",
    "    df,\n",
    "    x='Stress Level',\n",
    "    color='Physical Activity Category', # Menggunakan kolom kategori\n",
    "    title='Distribusi Tingkat Stres Berdasarkan Kategori Aktivitas Fisik',\n",
    "    labels={\n",
    "        'Stress Level': 'Tingkat Stres',\n",
    "        'Physical Activity Category': 'Kategori Aktivitas Fisik'\n",
    "    },\n",
    "    barmode='group',\n",
    "    category_orders={'Stress Level': stress_order, 'Physical Activity Category': physical_activity_order},\n",
    "    height=500\n",
    ")\n",
    "fig_physic_stress_cat.show()\n",
    "\n",
    "# Menggunakan Seaborn (Count Plot)\n",
    "plt.figure(figsize=(10, 6))\n",
    "sns.countplot(data=df, x='Stress Level', hue='Physical Activity Category',\n",
    "                order=stress_order, palette='viridis',\n",
    "                hue_order=physical_activity_order) # Pastikan urutan hue juga\n",
    "plt.title('Distribusi Tingkat Stres Berdasarkan Kategori Aktivitas Fisik')\n",
    "plt.xlabel('Tingkat Stres')\n",
    "plt.ylabel('Jumlah Siswa')\n",
    "plt.show()"
   ]
  },
  {
   "cell_type": "markdown",
   "id": "9092f9f1",
   "metadata": {},
   "source": [
    "#### Hubungan antara durasi tidur berdasarkan jenis kelamin dan tingkat stress berdasarkan durasi tidur\n",
    "\n",
    "#### 📊 Box Plot & Bar-group Plot\n",
    "\n",
    "---\n",
    "\n",
    "##### **Temuan Utama:**\n",
    "\n",
    "Berdasarkan visualisasi **box plot**, terlihat bahwa **tingkat stres berpengaruh terhadap durasi jam tidur siswa**. Rata-rata jam tidur pada masing-masing gender dapat dijelaskan sebagai berikut:\n",
    "\n",
    "- **Laki-laki:**\n",
    "  - Q1 : 5,1 jam\n",
    "  - Q2 : 6,5 jam\n",
    "  - Q3 : 7,8 jam\n",
    "\n",
    "- **Perempuan:**\n",
    "  - Q1: 5,1 jam\n",
    "  - Q2: 6,5 jam\n",
    "  - Q3: 7,6 jam\n",
    "\n",
    "- **Tingkat stres pada laki-laki** \n",
    "  - tingkat stress rendah: 32,6%\n",
    "  - tingkat stress menengah: 50,3%\n",
    "  - tingkat stress rendah: 17,1%\n",
    "- **Tingkat stres pada perempuan** \n",
    "  - tingkat stress rendah: 33,1%\n",
    "  - tingkat stress menengah: 49,1%\n",
    "  - tingkat stress rendah: 17,8%\n",
    "---\n",
    "\n",
    "##### **Implikasi:**\n",
    "\n",
    "- Data menunjukkan bahwa **gender dan durasi tidur mempengaruhi tingkat stres siswa**.\n",
    "- **Siswa dengan tingkat stres paling rendah** adalah laki-laki dengan durasi tidur pada kuartil tinggi **10% lebih lama** dibandingkan dengan siswa perempuan.\n",
    "- Menariknya, **siswa dengan tingkat stres menengah juga laki-laki dimana terdapat selisih 1,2% lebih banyak siswa laki-laki** dibandingkan dengan perempuan.\n",
    "- Namun, **siswa dengan tingkat stres tinggi ter banyak adalah perempuan dimana terdapat selisih 0,7% lebih banyak siswa perempuan** yang mengalami stress tinggi dibandingkan laki-laki.\n",
    "- Hal ini bisa mengindikasikan bahwa pada tingkat stres pada seorang siswa tidak terlalu di pengaruhi oleh jam tidur namun lebih di pengaruhi oleh gender (jenis kelamin).\n",
    "\n",
    "---\n",
    "\n",
    "> 💡 **Kesimpulan**: **(Terdapat hubungan yang signifikan antara tingkat stres dan durasi tidur. Upaya peningkatan manajemen stres dapat berdampak positif terhadap kualitas tidur siswa.)* ini adalah statment yang di sampaikan pada analisis di atas mengindikasikan bahwa tingkat stress lah yang mempengaruhi jam tidur dan bukan sebaliknya.\n"
   ]
  },
  {
   "cell_type": "code",
   "execution_count": 66,
   "id": "392a00aa",
   "metadata": {},
   "outputs": [
    {
     "data": {
      "application/vnd.plotly.v1+json": {
       "config": {
        "plotlyServerURL": "https://plot.ly"
       },
       "data": [
        {
         "alignmentgroup": "True",
         "hovertemplate": "Jenis Kelamin=%{x}<br>Durasi Tidur (Jam)=%{y}<extra></extra>",
         "legendgroup": "Male",
         "marker": {
          "color": "#636efa"
         },
         "name": "Male",
         "notched": false,
         "offsetgroup": "Male",
         "orientation": "v",
         "showlegend": true,
         "type": "box",
         "x": [
          "Male",
          "Male",
          "Male",
          "Male",
          "Male",
          "Male",
          "Male",
          "Male",
          "Male",
          "Male",
          "Male",
          "Male",
          "Male",
          "Male",
          "Male",
          "Male",
          "Male",
          "Male",
          "Male",
          "Male",
          "Male",
          "Male",
          "Male",
          "Male",
          "Male",
          "Male",
          "Male",
          "Male",
          "Male",
          "Male",
          "Male",
          "Male",
          "Male",
          "Male",
          "Male",
          "Male",
          "Male",
          "Male",
          "Male",
          "Male",
          "Male",
          "Male",
          "Male",
          "Male",
          "Male",
          "Male",
          "Male",
          "Male",
          "Male",
          "Male",
          "Male",
          "Male",
          "Male",
          "Male",
          "Male",
          "Male",
          "Male",
          "Male",
          "Male",
          "Male",
          "Male",
          "Male",
          "Male",
          "Male",
          "Male",
          "Male",
          "Male",
          "Male",
          "Male",
          "Male",
          "Male",
          "Male",
          "Male",
          "Male",
          "Male",
          "Male",
          "Male",
          "Male",
          "Male",
          "Male",
          "Male",
          "Male",
          "Male",
          "Male",
          "Male",
          "Male",
          "Male",
          "Male",
          "Male",
          "Male",
          "Male",
          "Male",
          "Male",
          "Male",
          "Male",
          "Male",
          "Male",
          "Male",
          "Male",
          "Male",
          "Male",
          "Male",
          "Male",
          "Male",
          "Male",
          "Male",
          "Male",
          "Male",
          "Male",
          "Male",
          "Male",
          "Male",
          "Male",
          "Male",
          "Male",
          "Male",
          "Male",
          "Male",
          "Male",
          "Male",
          "Male",
          "Male",
          "Male",
          "Male",
          "Male",
          "Male",
          "Male",
          "Male",
          "Male",
          "Male",
          "Male",
          "Male",
          "Male",
          "Male",
          "Male",
          "Male",
          "Male",
          "Male",
          "Male",
          "Male",
          "Male",
          "Male",
          "Male",
          "Male",
          "Male",
          "Male",
          "Male",
          "Male",
          "Male",
          "Male",
          "Male",
          "Male",
          "Male",
          "Male",
          "Male",
          "Male",
          "Male",
          "Male",
          "Male",
          "Male",
          "Male",
          "Male",
          "Male",
          "Male",
          "Male",
          "Male",
          "Male",
          "Male",
          "Male",
          "Male",
          "Male",
          "Male",
          "Male",
          "Male",
          "Male",
          "Male",
          "Male",
          "Male",
          "Male",
          "Male",
          "Male",
          "Male",
          "Male",
          "Male",
          "Male",
          "Male",
          "Male",
          "Male",
          "Male",
          "Male",
          "Male",
          "Male",
          "Male",
          "Male",
          "Male",
          "Male",
          "Male",
          "Male",
          "Male",
          "Male",
          "Male",
          "Male",
          "Male",
          "Male",
          "Male",
          "Male",
          "Male",
          "Male",
          "Male",
          "Male",
          "Male",
          "Male",
          "Male",
          "Male",
          "Male",
          "Male",
          "Male",
          "Male",
          "Male",
          "Male",
          "Male",
          "Male",
          "Male",
          "Male",
          "Male",
          "Male",
          "Male",
          "Male",
          "Male",
          "Male",
          "Male",
          "Male",
          "Male",
          "Male",
          "Male",
          "Male",
          "Male",
          "Male",
          "Male",
          "Male",
          "Male",
          "Male",
          "Male",
          "Male",
          "Male",
          "Male",
          "Male",
          "Male",
          "Male",
          "Male",
          "Male",
          "Male",
          "Male",
          "Male",
          "Male",
          "Male",
          "Male",
          "Male",
          "Male",
          "Male",
          "Male",
          "Male",
          "Male",
          "Male",
          "Male",
          "Male",
          "Male",
          "Male",
          "Male",
          "Male",
          "Male",
          "Male",
          "Male",
          "Male",
          "Male",
          "Male",
          "Male",
          "Male",
          "Male",
          "Male",
          "Male",
          "Male",
          "Male",
          "Male",
          "Male",
          "Male",
          "Male",
          "Male",
          "Male",
          "Male",
          "Male",
          "Male",
          "Male",
          "Male",
          "Male",
          "Male",
          "Male",
          "Male",
          "Male",
          "Male",
          "Male",
          "Male",
          "Male",
          "Male",
          "Male",
          "Male",
          "Male",
          "Male",
          "Male",
          "Male",
          "Male",
          "Male",
          "Male",
          "Male",
          "Male",
          "Male",
          "Male",
          "Male",
          "Male",
          "Male",
          "Male",
          "Male",
          "Male",
          "Male",
          "Male",
          "Male",
          "Male",
          "Male",
          "Male",
          "Male",
          "Male",
          "Male",
          "Male",
          "Male",
          "Male",
          "Male",
          "Male",
          "Male",
          "Male",
          "Male",
          "Male",
          "Male",
          "Male",
          "Male",
          "Male",
          "Male",
          "Male",
          "Male",
          "Male",
          "Male",
          "Male",
          "Male",
          "Male",
          "Male",
          "Male",
          "Male",
          "Male",
          "Male",
          "Male",
          "Male",
          "Male",
          "Male",
          "Male",
          "Male",
          "Male",
          "Male",
          "Male",
          "Male",
          "Male",
          "Male",
          "Male",
          "Male",
          "Male",
          "Male",
          "Male",
          "Male",
          "Male",
          "Male",
          "Male",
          "Male",
          "Male",
          "Male",
          "Male",
          "Male",
          "Male",
          "Male",
          "Male",
          "Male",
          "Male",
          "Male",
          "Male",
          "Male",
          "Male",
          "Male",
          "Male",
          "Male",
          "Male",
          "Male",
          "Male",
          "Male",
          "Male",
          "Male",
          "Male",
          "Male",
          "Male",
          "Male",
          "Male",
          "Male",
          "Male",
          "Male",
          "Male",
          "Male",
          "Male",
          "Male",
          "Male",
          "Male",
          "Male",
          "Male",
          "Male",
          "Male",
          "Male",
          "Male",
          "Male",
          "Male",
          "Male",
          "Male",
          "Male",
          "Male",
          "Male",
          "Male",
          "Male",
          "Male",
          "Male",
          "Male",
          "Male",
          "Male",
          "Male",
          "Male",
          "Male",
          "Male",
          "Male",
          "Male",
          "Male",
          "Male",
          "Male",
          "Male",
          "Male",
          "Male",
          "Male",
          "Male",
          "Male",
          "Male",
          "Male",
          "Male",
          "Male",
          "Male",
          "Male",
          "Male",
          "Male",
          "Male",
          "Male",
          "Male",
          "Male",
          "Male",
          "Male",
          "Male",
          "Male",
          "Male",
          "Male",
          "Male",
          "Male",
          "Male",
          "Male",
          "Male",
          "Male"
         ],
         "x0": " ",
         "xaxis": "x",
         "y": {
          "bdata": "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",
          "dtype": "f8"
         },
         "y0": " ",
         "yaxis": "y"
        },
        {
         "alignmentgroup": "True",
         "hovertemplate": "Jenis Kelamin=%{x}<br>Durasi Tidur (Jam)=%{y}<extra></extra>",
         "legendgroup": "Female",
         "marker": {
          "color": "#EF553B"
         },
         "name": "Female",
         "notched": false,
         "offsetgroup": "Female",
         "orientation": "v",
         "showlegend": true,
         "type": "box",
         "x": [
          "Female",
          "Female",
          "Female",
          "Female",
          "Female",
          "Female",
          "Female",
          "Female",
          "Female",
          "Female",
          "Female",
          "Female",
          "Female",
          "Female",
          "Female",
          "Female",
          "Female",
          "Female",
          "Female",
          "Female",
          "Female",
          "Female",
          "Female",
          "Female",
          "Female",
          "Female",
          "Female",
          "Female",
          "Female",
          "Female",
          "Female",
          "Female",
          "Female",
          "Female",
          "Female",
          "Female",
          "Female",
          "Female",
          "Female",
          "Female",
          "Female",
          "Female",
          "Female",
          "Female",
          "Female",
          "Female",
          "Female",
          "Female",
          "Female",
          "Female",
          "Female",
          "Female",
          "Female",
          "Female",
          "Female",
          "Female",
          "Female",
          "Female",
          "Female",
          "Female",
          "Female",
          "Female",
          "Female",
          "Female",
          "Female",
          "Female",
          "Female",
          "Female",
          "Female",
          "Female",
          "Female",
          "Female",
          "Female",
          "Female",
          "Female",
          "Female",
          "Female",
          "Female",
          "Female",
          "Female",
          "Female",
          "Female",
          "Female",
          "Female",
          "Female",
          "Female",
          "Female",
          "Female",
          "Female",
          "Female",
          "Female",
          "Female",
          "Female",
          "Female",
          "Female",
          "Female",
          "Female",
          "Female",
          "Female",
          "Female",
          "Female",
          "Female",
          "Female",
          "Female",
          "Female",
          "Female",
          "Female",
          "Female",
          "Female",
          "Female",
          "Female",
          "Female",
          "Female",
          "Female",
          "Female",
          "Female",
          "Female",
          "Female",
          "Female",
          "Female",
          "Female",
          "Female",
          "Female",
          "Female",
          "Female",
          "Female",
          "Female",
          "Female",
          "Female",
          "Female",
          "Female",
          "Female",
          "Female",
          "Female",
          "Female",
          "Female",
          "Female",
          "Female",
          "Female",
          "Female",
          "Female",
          "Female",
          "Female",
          "Female",
          "Female",
          "Female",
          "Female",
          "Female",
          "Female",
          "Female",
          "Female",
          "Female",
          "Female",
          "Female",
          "Female",
          "Female",
          "Female",
          "Female",
          "Female",
          "Female",
          "Female",
          "Female",
          "Female",
          "Female",
          "Female",
          "Female",
          "Female",
          "Female",
          "Female",
          "Female",
          "Female",
          "Female",
          "Female",
          "Female",
          "Female",
          "Female",
          "Female",
          "Female",
          "Female",
          "Female",
          "Female",
          "Female",
          "Female",
          "Female",
          "Female",
          "Female",
          "Female",
          "Female",
          "Female",
          "Female",
          "Female",
          "Female",
          "Female",
          "Female",
          "Female",
          "Female",
          "Female",
          "Female",
          "Female",
          "Female",
          "Female",
          "Female",
          "Female",
          "Female",
          "Female",
          "Female",
          "Female",
          "Female",
          "Female",
          "Female",
          "Female",
          "Female",
          "Female",
          "Female",
          "Female",
          "Female",
          "Female",
          "Female",
          "Female",
          "Female",
          "Female",
          "Female",
          "Female",
          "Female",
          "Female",
          "Female",
          "Female",
          "Female",
          "Female",
          "Female",
          "Female",
          "Female",
          "Female",
          "Female",
          "Female",
          "Female",
          "Female",
          "Female",
          "Female",
          "Female",
          "Female",
          "Female",
          "Female",
          "Female",
          "Female",
          "Female",
          "Female",
          "Female",
          "Female",
          "Female",
          "Female",
          "Female",
          "Female",
          "Female",
          "Female",
          "Female",
          "Female",
          "Female",
          "Female",
          "Female",
          "Female",
          "Female",
          "Female",
          "Female",
          "Female",
          "Female",
          "Female",
          "Female",
          "Female",
          "Female",
          "Female",
          "Female",
          "Female",
          "Female",
          "Female",
          "Female",
          "Female",
          "Female",
          "Female",
          "Female",
          "Female",
          "Female",
          "Female",
          "Female",
          "Female",
          "Female",
          "Female",
          "Female",
          "Female",
          "Female",
          "Female",
          "Female",
          "Female",
          "Female",
          "Female",
          "Female",
          "Female",
          "Female",
          "Female",
          "Female",
          "Female",
          "Female",
          "Female",
          "Female",
          "Female",
          "Female",
          "Female",
          "Female",
          "Female",
          "Female",
          "Female",
          "Female",
          "Female",
          "Female",
          "Female",
          "Female",
          "Female",
          "Female",
          "Female",
          "Female",
          "Female",
          "Female",
          "Female",
          "Female",
          "Female",
          "Female",
          "Female",
          "Female",
          "Female",
          "Female",
          "Female",
          "Female",
          "Female",
          "Female",
          "Female",
          "Female",
          "Female",
          "Female",
          "Female",
          "Female",
          "Female",
          "Female",
          "Female",
          "Female",
          "Female",
          "Female",
          "Female",
          "Female",
          "Female",
          "Female",
          "Female",
          "Female",
          "Female",
          "Female",
          "Female",
          "Female",
          "Female",
          "Female",
          "Female",
          "Female",
          "Female",
          "Female",
          "Female",
          "Female",
          "Female",
          "Female",
          "Female",
          "Female",
          "Female",
          "Female",
          "Female",
          "Female",
          "Female",
          "Female",
          "Female",
          "Female",
          "Female",
          "Female",
          "Female",
          "Female",
          "Female",
          "Female",
          "Female",
          "Female",
          "Female",
          "Female",
          "Female",
          "Female",
          "Female",
          "Female",
          "Female",
          "Female",
          "Female",
          "Female",
          "Female",
          "Female",
          "Female",
          "Female",
          "Female",
          "Female",
          "Female",
          "Female",
          "Female",
          "Female",
          "Female",
          "Female",
          "Female",
          "Female",
          "Female",
          "Female",
          "Female",
          "Female",
          "Female",
          "Female",
          "Female",
          "Female",
          "Female",
          "Female",
          "Female",
          "Female",
          "Female",
          "Female",
          "Female",
          "Female",
          "Female",
          "Female",
          "Female",
          "Female",
          "Female",
          "Female",
          "Female",
          "Female",
          "Female",
          "Female",
          "Female",
          "Female",
          "Female",
          "Female",
          "Female",
          "Female",
          "Female",
          "Female",
          "Female",
          "Female",
          "Female",
          "Female",
          "Female",
          "Female",
          "Female",
          "Female",
          "Female",
          "Female",
          "Female",
          "Female",
          "Female",
          "Female",
          "Female",
          "Female",
          "Female",
          "Female",
          "Female",
          "Female",
          "Female",
          "Female",
          "Female",
          "Female",
          "Female",
          "Female",
          "Female",
          "Female",
          "Female",
          "Female",
          "Female",
          "Female",
          "Female"
         ],
         "x0": " ",
         "xaxis": "x",
         "y": {
          "bdata": "AAAAAAAAFECamZmZmZkVQM3MzMzMzCBAMzMzMzMzHUCamZmZmZkRQDMzMzMzMxFAMzMzMzMzE0DNzMzMzMwcQJqZmZmZmRVAAAAAAAAAIUAzMzMzMzMbQJqZmZmZmR9AmpmZmZmZE0AAAAAAAAASQJqZmZmZmSFAMzMzMzMzIUCamZmZmZkZQDMzMzMzMyBAzczMzMzMEkCamZmZmZkbQGZmZmZmZhRAZmZmZmZmGkAzMzMzMzMbQM3MzMzMzBxAZmZmZmZmFECamZmZmZkZQAAAAAAAABxAZmZmZmZmFkBmZmZmZmYYQAAAAAAAACFAMzMzMzMzIEBmZmZmZmYWQDMzMzMzMx1AzczMzMzMHEDNzMzMzMwaQDMzMzMzMx9AAAAAAAAAFkDNzMzMzMwSQGZmZmZmZhpAZmZmZmZmEkBmZmZmZmYQQM3MzMzMzBxAMzMzMzMzG0CamZmZmZkZQJqZmZmZmRVAMzMzMzMzFUBmZmZmZmYgQDMzMzMzMxFAMzMzMzMzF0AAAAAAAAAWQAAAAAAAABBAZmZmZmZmEkCamZmZmZkZQDMzMzMzMx9AzczMzMzMHkBmZmZmZmYaQM3MzMzMzBBAzczMzMzMHkCamZmZmZkVQDMzMzMzMxtAMzMzMzMzE0DNzMzMzMwcQGZmZmZmZhJAzczMzMzMIEAzMzMzMzMdQM3MzMzMzBpAMzMzMzMzE0BmZmZmZmYhQGZmZmZmZhxAzczMzMzMIUAzMzMzMzMVQGZmZmZmZhBAMzMzMzMzF0BmZmZmZmYYQM3MzMzMzB5AzczMzMzMFEBmZmZmZmYUQGZmZmZmZhxAMzMzMzMzGUAzMzMzMzMbQGZmZmZmZhZAZmZmZmZmGkAAAAAAAAAiQDMzMzMzMyFAzczMzMzMHEBmZmZmZmYYQAAAAAAAAB5AAAAAAAAAHkAzMzMzMzMfQM3MzMzMzBBAZmZmZmZmFECamZmZmZkgQM3MzMzMzCFAmpmZmZmZIUCamZmZmZkRQAAAAAAAABxAzczMzMzMIUAAAAAAAAAgQM3MzMzMzBZAmpmZmZmZEUCamZmZmZkhQDMzMzMzMxdAMzMzMzMzHUDNzMzMzMwWQM3MzMzMzBhAzczMzMzMIUDNzMzMzMwhQAAAAAAAACFAZmZmZmZmEkBmZmZmZmYcQJqZmZmZmRVAZmZmZmZmIEAAAAAAAAAcQGZmZmZmZhxAZmZmZmZmIEDNzMzMzMwQQJqZmZmZmSFAmpmZmZmZIUAAAAAAAAAeQM3MzMzMzBRAZmZmZmZmGECamZmZmZkdQM3MzMzMzBJAAAAAAAAAIUAzMzMzMzMfQM3MzMzMzBhAzczMzMzMIEAAAAAAAAAgQGZmZmZmZh5AZmZmZmZmHkBmZmZmZmYaQM3MzMzMzCBAmpmZmZmZEUCamZmZmZkTQJqZmZmZmRFAzczMzMzMGEAzMzMzMzMTQJqZmZmZmR9AMzMzMzMzGUDNzMzMzMwcQJqZmZmZmRVAZmZmZmZmIEBmZmZmZmYWQGZmZmZmZiFAMzMzMzMzEUDNzMzMzMwQQJqZmZmZmRlAZmZmZmZmEEAzMzMzMzMTQDMzMzMzMx9AzczMzMzMFEBmZmZmZmYSQAAAAAAAACFAmpmZmZmZIECamZmZmZkXQAAAAAAAABxAmpmZmZmZIEAAAAAAAAASQM3MzMzMzBxAmpmZmZmZIEDNzMzMzMwaQAAAAAAAABZAmpmZmZmZIEAzMzMzMzMbQM3MzMzMzBBAZmZmZmZmEkAzMzMzMzMTQAAAAAAAACBAZmZmZmZmEkCamZmZmZkdQM3MzMzMzBpAmpmZmZmZF0CamZmZmZkbQM3MzMzMzCBAAAAAAAAAHEBmZmZmZmYYQAAAAAAAACBAZmZmZmZmGkBmZmZmZmYaQAAAAAAAABRAzczMzMzMGkAzMzMzMzMRQAAAAAAAAB5AZmZmZmZmIEAAAAAAAAAQQGZmZmZmZhhAzczMzMzMIUAAAAAAAAAUQGZmZmZmZhpAMzMzMzMzE0DNzMzMzMwUQAAAAAAAABxAZmZmZmZmEEBmZmZmZmYWQAAAAAAAABZAAAAAAAAAHECamZmZmZkgQM3MzMzMzBhAMzMzMzMzGUDNzMzMzMwhQJqZmZmZmRdAMzMzMzMzGUDNzMzMzMwYQJqZmZmZmRlAmpmZmZmZIUBmZmZmZmYhQAAAAAAAABpAZmZmZmZmHECamZmZmZkbQGZmZmZmZhxAmpmZmZmZEUAAAAAAAAAcQGZmZmZmZhBAZmZmZmZmFkBmZmZmZmYUQM3MzMzMzCBAAAAAAAAAGkAAAAAAAAAeQJqZmZmZmR1AmpmZmZmZGUCamZmZmZkhQGZmZmZmZhJAzczMzMzMFEAzMzMzMzMhQGZmZmZmZiBAZmZmZmZmIEDNzMzMzMwaQDMzMzMzMxlAzczMzMzMGECamZmZmZkbQDMzMzMzMxVAAAAAAAAAHEDNzMzMzMwgQDMzMzMzMxVAZmZmZmZmGkAAAAAAAAAgQJqZmZmZmRFAMzMzMzMzG0BmZmZmZmYSQM3MzMzMzBBAzczMzMzMFkCamZmZmZkTQDMzMzMzMxVAzczMzMzMGkAAAAAAAAAQQJqZmZmZmRdAZmZmZmZmHEAAAAAAAAAiQJqZmZmZmSBAmpmZmZmZE0AzMzMzMzMRQAAAAAAAACBAzczMzMzMFEBmZmZmZmYgQJqZmZmZmR9AZmZmZmZmGkCamZmZmZkXQAAAAAAAABRAzczMzMzMHEAzMzMzMzMhQAAAAAAAACBAAAAAAAAAEEBmZmZmZmYWQM3MzMzMzCFAMzMzMzMzF0BmZmZmZmYeQAAAAAAAABxAZmZmZmZmFkCamZmZmZkfQGZmZmZmZhBAmpmZmZmZFUBmZmZmZmYYQAAAAAAAABZAmpmZmZmZFUAzMzMzMzMXQM3MzMzMzBpAzczMzMzMIUBmZmZmZmYeQM3MzMzMzCFAmpmZmZmZE0BmZmZmZmYYQM3MzMzMzBBAZmZmZmZmFEAzMzMzMzMdQDMzMzMzMx9AMzMzMzMzE0AzMzMzMzMXQM3MzMzMzBZAMzMzMzMzIUBmZmZmZmYcQJqZmZmZmRdAZmZmZmZmHkCamZmZmZkRQJqZmZmZmRtAmpmZmZmZG0CamZmZmZkRQAAAAAAAABJAZmZmZmZmFkBmZmZmZmYhQM3MzMzMzCFAZmZmZmZmFEDNzMzMzMwhQM3MzMzMzBJAMzMzMzMzEUAzMzMzMzMgQGZmZmZmZhJAAAAAAAAAEEBmZmZmZmYWQAAAAAAAAB5AZmZmZmZmFkAAAAAAAAAYQAAAAAAAABpAZmZmZmZmHkCamZmZmZkhQGZmZmZmZh5AMzMzMzMzEUAAAAAAAAAaQAAAAAAAABxAzczMzMzMFEAAAAAAAAAWQM3MzMzMzB5AmpmZmZmZIEAzMzMzMzMRQM3MzMzMzBBAZmZmZmZmHEAzMzMzMzMVQJqZmZmZmR1AZmZmZmZmFEDNzMzMzMwWQJqZmZmZmRlAZmZmZmZmIECamZmZmZkfQAAAAAAAABxAAAAAAAAAIkDNzMzMzMwcQGZmZmZmZhJAmpmZmZmZEUBmZmZmZmYQQDMzMzMzMxFAAAAAAAAAGkDNzMzMzMwSQGZmZmZmZhpAzczMzMzMHkAzMzMzMzMTQM3MzMzMzCFAZmZmZmZmEkBmZmZmZmYSQGZmZmZmZhBAZmZmZmZmGEAAAAAAAAAgQM3MzMzMzBBAzczMzMzMHkAzMzMzMzMRQM3MzMzMzBBAZmZmZmZmEkAAAAAAAAAWQGZmZmZmZhpAZmZmZmZmHkBmZmZmZmYYQJqZmZmZmRNAmpmZmZmZF0AzMzMzMzMhQDMzMzMzMxNAmpmZmZmZHUDNzMzMzMwaQAAAAAAAACJAAAAAAAAAGkBmZmZmZmYSQDMzMzMzMxFAZmZmZmZmGEAzMzMzMzMVQDMzMzMzMyFAZmZmZmZmEkBmZmZmZmYgQJqZmZmZmRNAmpmZmZmZFUAzMzMzMzMgQM3MzMzMzCFAMzMzMzMzIEDNzMzMzMwaQJqZmZmZmRtAzczMzMzMGEBmZmZmZmYhQDMzMzMzMyFAMzMzMzMzHUCamZmZmZkbQJqZmZmZmR1AmpmZmZmZHUCamZmZmZkbQM3MzMzMzB5AAAAAAAAAEkBmZmZmZmYaQDMzMzMzMxNAAAAAAAAAIEAzMzMzMzMTQGZmZmZmZh5AzczMzMzMFkBmZmZmZmYaQAAAAAAAACFAAAAAAAAAFEAAAAAAAAAYQJqZmZmZmR1AMzMzMzMzEUCamZmZmZkdQJqZmZmZmRVAmpmZmZmZHUBmZmZmZmYeQGZmZmZmZiFAAAAAAAAAHEBmZmZmZmYgQM3MzMzMzB5AAAAAAAAAHEAzMzMzMzMbQGZmZmZmZhBAAAAAAAAAIkDNzMzMzMwcQAAAAAAAABxAmpmZmZmZFUAzMzMzMzMbQAAAAAAAABpAzczMzMzMGEAAAAAAAAASQAAAAAAAABpAAAAAAAAAFkDNzMzMzMwUQJqZmZmZmRNAZmZmZmZmIUAAAAAAAAAaQM3MzMzMzBBAZmZmZmZmHEDNzMzMzMwQQJqZmZmZmSBAzczMzMzMFkBmZmZmZmYYQAAAAAAAABhAzczMzMzMEkDNzMzMzMwYQDMzMzMzMxNAzczMzMzMEEDNzMzMzMwaQJqZmZmZmRVAMzMzMzMzIEDNzMzMzMwQQDMzMzMzMxdAAAAAAAAAGEAAAAAAAAAYQJqZmZmZmSFAZmZmZmZmHEAzMzMzMzMhQJqZmZmZmR1AMzMzMzMzH0AzMzMzMzMRQM3MzMzMzBxAAAAAAAAAIUDNzMzMzMwSQGZmZmZmZhxAzczMzMzMEkAzMzMzMzMdQDMzMzMzMxFAAAAAAAAAEkAAAAAAAAAhQDMzMzMzMxNAAAAAAAAAIkBmZmZmZmYYQJqZmZmZmRdAMzMzMzMzGUCamZmZmZkZQAAAAAAAACBAMzMzMzMzIECamZmZmZkRQM3MzMzMzBpAAAAAAAAAFEAzMzMzMzMbQGZmZmZmZhBAAAAAAAAAHkA=",
          "dtype": "f8"
         },
         "y0": " ",
         "yaxis": "y"
        },
        {
         "alignmentgroup": "True",
         "hovertemplate": "Jenis Kelamin=%{x}<br>Durasi Tidur (Jam)=%{y}<extra></extra>",
         "legendgroup": "Other",
         "marker": {
          "color": "#00cc96"
         },
         "name": "Other",
         "notched": false,
         "offsetgroup": "Other",
         "orientation": "v",
         "showlegend": true,
         "type": "box",
         "x": [
          "Other",
          "Other",
          "Other",
          "Other",
          "Other",
          "Other",
          "Other",
          "Other",
          "Other",
          "Other",
          "Other",
          "Other",
          "Other",
          "Other",
          "Other",
          "Other",
          "Other",
          "Other",
          "Other",
          "Other",
          "Other",
          "Other",
          "Other",
          "Other",
          "Other",
          "Other",
          "Other",
          "Other",
          "Other",
          "Other",
          "Other",
          "Other",
          "Other",
          "Other",
          "Other",
          "Other",
          "Other",
          "Other",
          "Other",
          "Other",
          "Other",
          "Other",
          "Other",
          "Other",
          "Other",
          "Other",
          "Other",
          "Other",
          "Other",
          "Other"
         ],
         "x0": " ",
         "xaxis": "x",
         "y": {
          "bdata": "zczMzMzMGEAAAAAAAAAgQJqZmZmZmRlAZmZmZmZmFEAzMzMzMzMfQJqZmZmZmR1AmpmZmZmZF0BmZmZmZmYYQAAAAAAAABRAzczMzMzMFkAzMzMzMzMfQM3MzMzMzBRAMzMzMzMzGUBmZmZmZmYWQAAAAAAAABpAAAAAAAAAGEAAAAAAAAAYQJqZmZmZmSFAzczMzMzMIUAzMzMzMzMRQJqZmZmZmRlAzczMzMzMIEAzMzMzMzMXQAAAAAAAACBAZmZmZmZmEECamZmZmZkbQGZmZmZmZiBAzczMzMzMGEDNzMzMzMwQQJqZmZmZmRVAZmZmZmZmFkAzMzMzMzMZQJqZmZmZmSFAmpmZmZmZH0BmZmZmZmYUQGZmZmZmZhRAZmZmZmZmHECamZmZmZkhQGZmZmZmZhpAmpmZmZmZHUDNzMzMzMwcQAAAAAAAABpAZmZmZmZmGkAzMzMzMzMZQJqZmZmZmSFAAAAAAAAAGEDNzMzMzMwSQM3MzMzMzB5AMzMzMzMzIEBmZmZmZmYUQA==",
          "dtype": "f8"
         },
         "y0": " ",
         "yaxis": "y"
        }
       ],
       "layout": {
        "boxmode": "overlay",
        "legend": {
         "title": {
          "text": "Jenis Kelamin"
         },
         "tracegroupgap": 0
        },
        "template": {
         "data": {
          "bar": [
           {
            "error_x": {
             "color": "#2a3f5f"
            },
            "error_y": {
             "color": "#2a3f5f"
            },
            "marker": {
             "line": {
              "color": "#E5ECF6",
              "width": 0.5
             },
             "pattern": {
              "fillmode": "overlay",
              "size": 10,
              "solidity": 0.2
             }
            },
            "type": "bar"
           }
          ],
          "barpolar": [
           {
            "marker": {
             "line": {
              "color": "#E5ECF6",
              "width": 0.5
             },
             "pattern": {
              "fillmode": "overlay",
              "size": 10,
              "solidity": 0.2
             }
            },
            "type": "barpolar"
           }
          ],
          "carpet": [
           {
            "aaxis": {
             "endlinecolor": "#2a3f5f",
             "gridcolor": "white",
             "linecolor": "white",
             "minorgridcolor": "white",
             "startlinecolor": "#2a3f5f"
            },
            "baxis": {
             "endlinecolor": "#2a3f5f",
             "gridcolor": "white",
             "linecolor": "white",
             "minorgridcolor": "white",
             "startlinecolor": "#2a3f5f"
            },
            "type": "carpet"
           }
          ],
          "choropleth": [
           {
            "colorbar": {
             "outlinewidth": 0,
             "ticks": ""
            },
            "type": "choropleth"
           }
          ],
          "contour": [
           {
            "colorbar": {
             "outlinewidth": 0,
             "ticks": ""
            },
            "colorscale": [
             [
              0,
              "#0d0887"
             ],
             [
              0.1111111111111111,
              "#46039f"
             ],
             [
              0.2222222222222222,
              "#7201a8"
             ],
             [
              0.3333333333333333,
              "#9c179e"
             ],
             [
              0.4444444444444444,
              "#bd3786"
             ],
             [
              0.5555555555555556,
              "#d8576b"
             ],
             [
              0.6666666666666666,
              "#ed7953"
             ],
             [
              0.7777777777777778,
              "#fb9f3a"
             ],
             [
              0.8888888888888888,
              "#fdca26"
             ],
             [
              1,
              "#f0f921"
             ]
            ],
            "type": "contour"
           }
          ],
          "contourcarpet": [
           {
            "colorbar": {
             "outlinewidth": 0,
             "ticks": ""
            },
            "type": "contourcarpet"
           }
          ],
          "heatmap": [
           {
            "colorbar": {
             "outlinewidth": 0,
             "ticks": ""
            },
            "colorscale": [
             [
              0,
              "#0d0887"
             ],
             [
              0.1111111111111111,
              "#46039f"
             ],
             [
              0.2222222222222222,
              "#7201a8"
             ],
             [
              0.3333333333333333,
              "#9c179e"
             ],
             [
              0.4444444444444444,
              "#bd3786"
             ],
             [
              0.5555555555555556,
              "#d8576b"
             ],
             [
              0.6666666666666666,
              "#ed7953"
             ],
             [
              0.7777777777777778,
              "#fb9f3a"
             ],
             [
              0.8888888888888888,
              "#fdca26"
             ],
             [
              1,
              "#f0f921"
             ]
            ],
            "type": "heatmap"
           }
          ],
          "histogram": [
           {
            "marker": {
             "pattern": {
              "fillmode": "overlay",
              "size": 10,
              "solidity": 0.2
             }
            },
            "type": "histogram"
           }
          ],
          "histogram2d": [
           {
            "colorbar": {
             "outlinewidth": 0,
             "ticks": ""
            },
            "colorscale": [
             [
              0,
              "#0d0887"
             ],
             [
              0.1111111111111111,
              "#46039f"
             ],
             [
              0.2222222222222222,
              "#7201a8"
             ],
             [
              0.3333333333333333,
              "#9c179e"
             ],
             [
              0.4444444444444444,
              "#bd3786"
             ],
             [
              0.5555555555555556,
              "#d8576b"
             ],
             [
              0.6666666666666666,
              "#ed7953"
             ],
             [
              0.7777777777777778,
              "#fb9f3a"
             ],
             [
              0.8888888888888888,
              "#fdca26"
             ],
             [
              1,
              "#f0f921"
             ]
            ],
            "type": "histogram2d"
           }
          ],
          "histogram2dcontour": [
           {
            "colorbar": {
             "outlinewidth": 0,
             "ticks": ""
            },
            "colorscale": [
             [
              0,
              "#0d0887"
             ],
             [
              0.1111111111111111,
              "#46039f"
             ],
             [
              0.2222222222222222,
              "#7201a8"
             ],
             [
              0.3333333333333333,
              "#9c179e"
             ],
             [
              0.4444444444444444,
              "#bd3786"
             ],
             [
              0.5555555555555556,
              "#d8576b"
             ],
             [
              0.6666666666666666,
              "#ed7953"
             ],
             [
              0.7777777777777778,
              "#fb9f3a"
             ],
             [
              0.8888888888888888,
              "#fdca26"
             ],
             [
              1,
              "#f0f921"
             ]
            ],
            "type": "histogram2dcontour"
           }
          ],
          "mesh3d": [
           {
            "colorbar": {
             "outlinewidth": 0,
             "ticks": ""
            },
            "type": "mesh3d"
           }
          ],
          "parcoords": [
           {
            "line": {
             "colorbar": {
              "outlinewidth": 0,
              "ticks": ""
             }
            },
            "type": "parcoords"
           }
          ],
          "pie": [
           {
            "automargin": true,
            "type": "pie"
           }
          ],
          "scatter": [
           {
            "fillpattern": {
             "fillmode": "overlay",
             "size": 10,
             "solidity": 0.2
            },
            "type": "scatter"
           }
          ],
          "scatter3d": [
           {
            "line": {
             "colorbar": {
              "outlinewidth": 0,
              "ticks": ""
             }
            },
            "marker": {
             "colorbar": {
              "outlinewidth": 0,
              "ticks": ""
             }
            },
            "type": "scatter3d"
           }
          ],
          "scattercarpet": [
           {
            "marker": {
             "colorbar": {
              "outlinewidth": 0,
              "ticks": ""
             }
            },
            "type": "scattercarpet"
           }
          ],
          "scattergeo": [
           {
            "marker": {
             "colorbar": {
              "outlinewidth": 0,
              "ticks": ""
             }
            },
            "type": "scattergeo"
           }
          ],
          "scattergl": [
           {
            "marker": {
             "colorbar": {
              "outlinewidth": 0,
              "ticks": ""
             }
            },
            "type": "scattergl"
           }
          ],
          "scattermap": [
           {
            "marker": {
             "colorbar": {
              "outlinewidth": 0,
              "ticks": ""
             }
            },
            "type": "scattermap"
           }
          ],
          "scattermapbox": [
           {
            "marker": {
             "colorbar": {
              "outlinewidth": 0,
              "ticks": ""
             }
            },
            "type": "scattermapbox"
           }
          ],
          "scatterpolar": [
           {
            "marker": {
             "colorbar": {
              "outlinewidth": 0,
              "ticks": ""
             }
            },
            "type": "scatterpolar"
           }
          ],
          "scatterpolargl": [
           {
            "marker": {
             "colorbar": {
              "outlinewidth": 0,
              "ticks": ""
             }
            },
            "type": "scatterpolargl"
           }
          ],
          "scatterternary": [
           {
            "marker": {
             "colorbar": {
              "outlinewidth": 0,
              "ticks": ""
             }
            },
            "type": "scatterternary"
           }
          ],
          "surface": [
           {
            "colorbar": {
             "outlinewidth": 0,
             "ticks": ""
            },
            "colorscale": [
             [
              0,
              "#0d0887"
             ],
             [
              0.1111111111111111,
              "#46039f"
             ],
             [
              0.2222222222222222,
              "#7201a8"
             ],
             [
              0.3333333333333333,
              "#9c179e"
             ],
             [
              0.4444444444444444,
              "#bd3786"
             ],
             [
              0.5555555555555556,
              "#d8576b"
             ],
             [
              0.6666666666666666,
              "#ed7953"
             ],
             [
              0.7777777777777778,
              "#fb9f3a"
             ],
             [
              0.8888888888888888,
              "#fdca26"
             ],
             [
              1,
              "#f0f921"
             ]
            ],
            "type": "surface"
           }
          ],
          "table": [
           {
            "cells": {
             "fill": {
              "color": "#EBF0F8"
             },
             "line": {
              "color": "white"
             }
            },
            "header": {
             "fill": {
              "color": "#C8D4E3"
             },
             "line": {
              "color": "white"
             }
            },
            "type": "table"
           }
          ]
         },
         "layout": {
          "annotationdefaults": {
           "arrowcolor": "#2a3f5f",
           "arrowhead": 0,
           "arrowwidth": 1
          },
          "autotypenumbers": "strict",
          "coloraxis": {
           "colorbar": {
            "outlinewidth": 0,
            "ticks": ""
           }
          },
          "colorscale": {
           "diverging": [
            [
             0,
             "#8e0152"
            ],
            [
             0.1,
             "#c51b7d"
            ],
            [
             0.2,
             "#de77ae"
            ],
            [
             0.3,
             "#f1b6da"
            ],
            [
             0.4,
             "#fde0ef"
            ],
            [
             0.5,
             "#f7f7f7"
            ],
            [
             0.6,
             "#e6f5d0"
            ],
            [
             0.7,
             "#b8e186"
            ],
            [
             0.8,
             "#7fbc41"
            ],
            [
             0.9,
             "#4d9221"
            ],
            [
             1,
             "#276419"
            ]
           ],
           "sequential": [
            [
             0,
             "#0d0887"
            ],
            [
             0.1111111111111111,
             "#46039f"
            ],
            [
             0.2222222222222222,
             "#7201a8"
            ],
            [
             0.3333333333333333,
             "#9c179e"
            ],
            [
             0.4444444444444444,
             "#bd3786"
            ],
            [
             0.5555555555555556,
             "#d8576b"
            ],
            [
             0.6666666666666666,
             "#ed7953"
            ],
            [
             0.7777777777777778,
             "#fb9f3a"
            ],
            [
             0.8888888888888888,
             "#fdca26"
            ],
            [
             1,
             "#f0f921"
            ]
           ],
           "sequentialminus": [
            [
             0,
             "#0d0887"
            ],
            [
             0.1111111111111111,
             "#46039f"
            ],
            [
             0.2222222222222222,
             "#7201a8"
            ],
            [
             0.3333333333333333,
             "#9c179e"
            ],
            [
             0.4444444444444444,
             "#bd3786"
            ],
            [
             0.5555555555555556,
             "#d8576b"
            ],
            [
             0.6666666666666666,
             "#ed7953"
            ],
            [
             0.7777777777777778,
             "#fb9f3a"
            ],
            [
             0.8888888888888888,
             "#fdca26"
            ],
            [
             1,
             "#f0f921"
            ]
           ]
          },
          "colorway": [
           "#636efa",
           "#EF553B",
           "#00cc96",
           "#ab63fa",
           "#FFA15A",
           "#19d3f3",
           "#FF6692",
           "#B6E880",
           "#FF97FF",
           "#FECB52"
          ],
          "font": {
           "color": "#2a3f5f"
          },
          "geo": {
           "bgcolor": "white",
           "lakecolor": "white",
           "landcolor": "#E5ECF6",
           "showlakes": true,
           "showland": true,
           "subunitcolor": "white"
          },
          "hoverlabel": {
           "align": "left"
          },
          "hovermode": "closest",
          "mapbox": {
           "style": "light"
          },
          "paper_bgcolor": "white",
          "plot_bgcolor": "#E5ECF6",
          "polar": {
           "angularaxis": {
            "gridcolor": "white",
            "linecolor": "white",
            "ticks": ""
           },
           "bgcolor": "#E5ECF6",
           "radialaxis": {
            "gridcolor": "white",
            "linecolor": "white",
            "ticks": ""
           }
          },
          "scene": {
           "xaxis": {
            "backgroundcolor": "#E5ECF6",
            "gridcolor": "white",
            "gridwidth": 2,
            "linecolor": "white",
            "showbackground": true,
            "ticks": "",
            "zerolinecolor": "white"
           },
           "yaxis": {
            "backgroundcolor": "#E5ECF6",
            "gridcolor": "white",
            "gridwidth": 2,
            "linecolor": "white",
            "showbackground": true,
            "ticks": "",
            "zerolinecolor": "white"
           },
           "zaxis": {
            "backgroundcolor": "#E5ECF6",
            "gridcolor": "white",
            "gridwidth": 2,
            "linecolor": "white",
            "showbackground": true,
            "ticks": "",
            "zerolinecolor": "white"
           }
          },
          "shapedefaults": {
           "line": {
            "color": "#2a3f5f"
           }
          },
          "ternary": {
           "aaxis": {
            "gridcolor": "white",
            "linecolor": "white",
            "ticks": ""
           },
           "baxis": {
            "gridcolor": "white",
            "linecolor": "white",
            "ticks": ""
           },
           "bgcolor": "#E5ECF6",
           "caxis": {
            "gridcolor": "white",
            "linecolor": "white",
            "ticks": ""
           }
          },
          "title": {
           "x": 0.05
          },
          "xaxis": {
           "automargin": true,
           "gridcolor": "white",
           "linecolor": "white",
           "ticks": "",
           "title": {
            "standoff": 15
           },
           "zerolinecolor": "white",
           "zerolinewidth": 2
          },
          "yaxis": {
           "automargin": true,
           "gridcolor": "white",
           "linecolor": "white",
           "ticks": "",
           "title": {
            "standoff": 15
           },
           "zerolinecolor": "white",
           "zerolinewidth": 2
          }
         }
        },
        "title": {
         "text": "Durasi Tidur Berdasarkan Jenis Kelamin"
        },
        "xaxis": {
         "anchor": "y",
         "categoryarray": [
          "Male",
          "Female",
          "Other"
         ],
         "categoryorder": "array",
         "domain": [
          0,
          1
         ],
         "title": {
          "text": "Jenis Kelamin"
         }
        },
        "yaxis": {
         "anchor": "x",
         "domain": [
          0,
          1
         ],
         "title": {
          "text": "Durasi Tidur (Jam)"
         }
        }
       }
      }
     },
     "metadata": {},
     "output_type": "display_data"
    },
    {
     "data": {
      "application/vnd.plotly.v1+json": {
       "config": {
        "plotlyServerURL": "https://plot.ly"
       },
       "data": [
        {
         "alignmentgroup": "True",
         "bingroup": "x",
         "hovertemplate": "Jenis Kelamin=Male<br>Tingkat Stres=%{x}<br>count=%{y}<extra></extra>",
         "legendgroup": "Male",
         "marker": {
          "color": "#636efa",
          "pattern": {
           "shape": ""
          }
         },
         "name": "Male",
         "offsetgroup": "Male",
         "orientation": "v",
         "showlegend": true,
         "type": "histogram",
         "x": [
          "Medium",
          "Medium",
          "High",
          "Low",
          "Medium",
          "Medium",
          "Medium",
          "High",
          "High",
          "Medium",
          "Medium",
          "High",
          "Low",
          "Low",
          "High",
          "Low",
          "Low",
          "Medium",
          "Low",
          "Medium",
          "Low",
          "Low",
          "Medium",
          "Medium",
          "High",
          "Low",
          "Low",
          "Medium",
          "Medium",
          "Low",
          "High",
          "Medium",
          "Medium",
          "High",
          "Medium",
          "Medium",
          "Medium",
          "Medium",
          "High",
          "High",
          "Medium",
          "Medium",
          "Low",
          "Medium",
          "Medium",
          "Low",
          "Medium",
          "Medium",
          "Medium",
          "Low",
          "Low",
          "Low",
          "Low",
          "Low",
          "High",
          "Medium",
          "Medium",
          "Medium",
          "Medium",
          "Low",
          "Medium",
          "Low",
          "Medium",
          "Medium",
          "High",
          "Low",
          "Medium",
          "Medium",
          "Medium",
          "Medium",
          "High",
          "High",
          "Medium",
          "Medium",
          "Medium",
          "Medium",
          "Medium",
          "High",
          "High",
          "Low",
          "Medium",
          "High",
          "Low",
          "High",
          "Low",
          "Low",
          "Medium",
          "Medium",
          "Low",
          "Low",
          "Medium",
          "Medium",
          "Low",
          "Medium",
          "Medium",
          "Medium",
          "Low",
          "Low",
          "High",
          "Low",
          "Medium",
          "Medium",
          "High",
          "Low",
          "Medium",
          "Medium",
          "Medium",
          "Medium",
          "Low",
          "Medium",
          "High",
          "Low",
          "Medium",
          "Medium",
          "Medium",
          "Medium",
          "Medium",
          "High",
          "Low",
          "Medium",
          "High",
          "Medium",
          "High",
          "Medium",
          "Medium",
          "High",
          "High",
          "Medium",
          "Low",
          "High",
          "Low",
          "Medium",
          "Medium",
          "Low",
          "Medium",
          "Low",
          "Low",
          "Medium",
          "Medium",
          "Low",
          "Low",
          "Medium",
          "High",
          "Medium",
          "Low",
          "Medium",
          "Medium",
          "Medium",
          "Low",
          "Low",
          "Medium",
          "Medium",
          "Medium",
          "Low",
          "Low",
          "High",
          "Medium",
          "Low",
          "Low",
          "Medium",
          "Medium",
          "Medium",
          "Medium",
          "High",
          "Medium",
          "Low",
          "High",
          "High",
          "Low",
          "High",
          "Medium",
          "Medium",
          "Medium",
          "Medium",
          "Medium",
          "Medium",
          "Low",
          "Medium",
          "Low",
          "High",
          "Medium",
          "Medium",
          "Medium",
          "Medium",
          "Low",
          "Medium",
          "Medium",
          "Low",
          "Medium",
          "High",
          "Low",
          "Low",
          "Medium",
          "Medium",
          "Medium",
          "Low",
          "Medium",
          "Low",
          "Low",
          "Low",
          "Medium",
          "Medium",
          "Medium",
          "High",
          "Medium",
          "Medium",
          "Medium",
          "Low",
          "Medium",
          "Medium",
          "Medium",
          "High",
          "Low",
          "Low",
          "High",
          "Medium",
          "Medium",
          "Low",
          "Medium",
          "Medium",
          "Low",
          "Low",
          "High",
          "Low",
          "Medium",
          "Medium",
          "Medium",
          "Medium",
          "Medium",
          "Medium",
          "Medium",
          "Medium",
          "Low",
          "Medium",
          "Medium",
          "Medium",
          "Medium",
          "Low",
          "Medium",
          "Medium",
          "Medium",
          "Medium",
          "Medium",
          "Low",
          "Low",
          "Medium",
          "Low",
          "Low",
          "Medium",
          "Low",
          "Low",
          "Medium",
          "Medium",
          "Low",
          "Medium",
          "Low",
          "High",
          "Medium",
          "Medium",
          "High",
          "High",
          "Medium",
          "Low",
          "Medium",
          "Low",
          "Low",
          "Low",
          "Low",
          "Medium",
          "Medium",
          "Medium",
          "Medium",
          "Low",
          "Medium",
          "Low",
          "Medium",
          "Medium",
          "Low",
          "Medium",
          "High",
          "Low",
          "Low",
          "Low",
          "Low",
          "Low",
          "Medium",
          "Low",
          "Low",
          "Medium",
          "Low",
          "High",
          "Medium",
          "Low",
          "High",
          "Medium",
          "Low",
          "Low",
          "High",
          "Low",
          "Medium",
          "Low",
          "Medium",
          "Medium",
          "Low",
          "Low",
          "Low",
          "Medium",
          "High",
          "Medium",
          "Medium",
          "Medium",
          "Medium",
          "High",
          "Medium",
          "Medium",
          "High",
          "Medium",
          "Medium",
          "Medium",
          "Low",
          "Medium",
          "High",
          "Medium",
          "Low",
          "High",
          "Low",
          "Low",
          "Medium",
          "High",
          "High",
          "Low",
          "Low",
          "Medium",
          "Medium",
          "Medium",
          "Low",
          "Medium",
          "Low",
          "Medium",
          "Medium",
          "Medium",
          "High",
          "Low",
          "Medium",
          "High",
          "Medium",
          "Medium",
          "High",
          "Medium",
          "Medium",
          "Medium",
          "Low",
          "Medium",
          "Low",
          "Medium",
          "Medium",
          "Low",
          "Medium",
          "High",
          "Medium",
          "Medium",
          "Medium",
          "Medium",
          "High",
          "High",
          "Low",
          "Low",
          "Medium",
          "Medium",
          "High",
          "Medium",
          "High",
          "Medium",
          "Low",
          "Medium",
          "Low",
          "Low",
          "Medium",
          "Medium",
          "High",
          "Medium",
          "Medium",
          "High",
          "Medium",
          "Low",
          "Medium",
          "High",
          "High",
          "Low",
          "Low",
          "Medium",
          "Low",
          "Low",
          "Low",
          "High",
          "Low",
          "Medium",
          "High",
          "Low",
          "High",
          "Low",
          "Medium",
          "Medium",
          "Low",
          "Low",
          "Low",
          "High",
          "Medium",
          "High",
          "High",
          "High",
          "High",
          "Low",
          "Low",
          "Medium",
          "Medium",
          "Medium",
          "Low",
          "Medium",
          "Low",
          "Medium",
          "High",
          "Medium",
          "Medium",
          "Low",
          "High",
          "Low",
          "High",
          "Medium",
          "Low",
          "Low",
          "Medium",
          "Low",
          "Medium",
          "Medium",
          "Medium",
          "Medium",
          "Medium",
          "High",
          "Medium",
          "Low",
          "Medium",
          "Medium",
          "Medium",
          "Medium",
          "Medium",
          "High",
          "Low",
          "Medium",
          "Low",
          "Low",
          "Low",
          "Low",
          "Low",
          "Medium",
          "Medium",
          "Medium",
          "Medium",
          "Low",
          "Low",
          "Medium",
          "Low",
          "Medium",
          "Medium",
          "Medium",
          "Low",
          "Medium",
          "Low",
          "High",
          "High",
          "Low",
          "Medium",
          "High",
          "Low",
          "Low"
         ],
         "xaxis": "x",
         "yaxis": "y"
        },
        {
         "alignmentgroup": "True",
         "bingroup": "x",
         "hovertemplate": "Jenis Kelamin=Female<br>Tingkat Stres=%{x}<br>count=%{y}<extra></extra>",
         "legendgroup": "Female",
         "marker": {
          "color": "#EF553B",
          "pattern": {
           "shape": ""
          }
         },
         "name": "Female",
         "offsetgroup": "Female",
         "orientation": "v",
         "showlegend": true,
         "type": "histogram",
         "x": [
          "Medium",
          "Medium",
          "Low",
          "Low",
          "High",
          "Low",
          "Low",
          "High",
          "Medium",
          "Medium",
          "Medium",
          "Medium",
          "Medium",
          "High",
          "Medium",
          "Medium",
          "High",
          "Medium",
          "Low",
          "Low",
          "High",
          "Medium",
          "Medium",
          "Medium",
          "Low",
          "Medium",
          "Low",
          "Low",
          "Medium",
          "High",
          "Medium",
          "Low",
          "Medium",
          "High",
          "High",
          "High",
          "Medium",
          "Medium",
          "High",
          "High",
          "Medium",
          "High",
          "Low",
          "Low",
          "Low",
          "Medium",
          "Low",
          "Low",
          "Low",
          "Medium",
          "Low",
          "Medium",
          "Medium",
          "Medium",
          "Low",
          "Low",
          "Medium",
          "Low",
          "Medium",
          "Low",
          "Low",
          "Medium",
          "Medium",
          "Low",
          "Low",
          "Low",
          "Low",
          "Low",
          "Low",
          "Low",
          "Low",
          "Medium",
          "High",
          "Low",
          "High",
          "Medium",
          "Low",
          "Low",
          "Low",
          "Medium",
          "Medium",
          "Medium",
          "Medium",
          "Low",
          "High",
          "Medium",
          "Low",
          "Low",
          "High",
          "Medium",
          "Low",
          "Low",
          "Medium",
          "Low",
          "Medium",
          "High",
          "Medium",
          "Medium",
          "Medium",
          "Low",
          "Low",
          "Medium",
          "High",
          "Medium",
          "Low",
          "Low",
          "Medium",
          "Medium",
          "Medium",
          "Low",
          "High",
          "Low",
          "High",
          "High",
          "Low",
          "Medium",
          "Medium",
          "Low",
          "Medium",
          "Medium",
          "Medium",
          "Medium",
          "High",
          "Medium",
          "Medium",
          "Medium",
          "Medium",
          "High",
          "Low",
          "Low",
          "Medium",
          "Medium",
          "Low",
          "Medium",
          "Medium",
          "Medium",
          "High",
          "Medium",
          "High",
          "Medium",
          "Low",
          "Low",
          "Medium",
          "Low",
          "High",
          "Low",
          "Low",
          "Low",
          "Low",
          "Low",
          "Medium",
          "Medium",
          "Medium",
          "Medium",
          "High",
          "Medium",
          "Low",
          "Medium",
          "Low",
          "Medium",
          "Medium",
          "Medium",
          "Medium",
          "Low",
          "Low",
          "Medium",
          "Medium",
          "Medium",
          "High",
          "Low",
          "Medium",
          "Low",
          "High",
          "Low",
          "Medium",
          "Low",
          "Low",
          "Medium",
          "High",
          "Medium",
          "High",
          "Medium",
          "Medium",
          "Low",
          "Medium",
          "Low",
          "Low",
          "Medium",
          "Medium",
          "High",
          "Medium",
          "Low",
          "Medium",
          "Medium",
          "Medium",
          "Low",
          "Medium",
          "Low",
          "Low",
          "Medium",
          "Medium",
          "Medium",
          "High",
          "Low",
          "Low",
          "Medium",
          "Low",
          "Medium",
          "Low",
          "Low",
          "Medium",
          "Low",
          "Medium",
          "Low",
          "Medium",
          "High",
          "Medium",
          "Medium",
          "Low",
          "Medium",
          "Low",
          "High",
          "Medium",
          "Low",
          "Medium",
          "Low",
          "Medium",
          "Medium",
          "Medium",
          "Medium",
          "Low",
          "High",
          "Low",
          "Medium",
          "Medium",
          "High",
          "High",
          "Low",
          "Medium",
          "Medium",
          "Low",
          "Medium",
          "Medium",
          "Medium",
          "Low",
          "Low",
          "Medium",
          "Medium",
          "Low",
          "Medium",
          "Low",
          "High",
          "Medium",
          "Medium",
          "Medium",
          "Medium",
          "High",
          "Medium",
          "Medium",
          "Medium",
          "Medium",
          "Medium",
          "Medium",
          "Medium",
          "Medium",
          "Low",
          "Low",
          "Low",
          "Medium",
          "Low",
          "Low",
          "Medium",
          "Medium",
          "Medium",
          "Low",
          "Medium",
          "High",
          "Low",
          "Low",
          "Medium",
          "High",
          "Medium",
          "Low",
          "High",
          "Medium",
          "Medium",
          "Medium",
          "Low",
          "Medium",
          "High",
          "Medium",
          "Medium",
          "Low",
          "Medium",
          "Medium",
          "Medium",
          "Low",
          "Medium",
          "Medium",
          "Medium",
          "Low",
          "Low",
          "Low",
          "Medium",
          "Low",
          "Medium",
          "Medium",
          "Medium",
          "Medium",
          "Medium",
          "Low",
          "Low",
          "High",
          "Medium",
          "Medium",
          "High",
          "Medium",
          "Low",
          "Medium",
          "Low",
          "High",
          "Low",
          "Medium",
          "Medium",
          "Medium",
          "High",
          "High",
          "Medium",
          "Medium",
          "High",
          "Medium",
          "Low",
          "Low",
          "High",
          "Medium",
          "High",
          "Low",
          "High",
          "Low",
          "Medium",
          "Medium",
          "Medium",
          "Low",
          "Medium",
          "High",
          "Medium",
          "Medium",
          "High",
          "Medium",
          "High",
          "Low",
          "High",
          "Medium",
          "Medium",
          "High",
          "High",
          "Low",
          "Medium",
          "Medium",
          "Medium",
          "Medium",
          "Medium",
          "Medium",
          "Low",
          "Low",
          "Low",
          "Low",
          "High",
          "Low",
          "Medium",
          "Medium",
          "Low",
          "Medium",
          "High",
          "High",
          "Medium",
          "Medium",
          "Low",
          "Low",
          "Medium",
          "Low",
          "High",
          "Medium",
          "Medium",
          "Medium",
          "Low",
          "Medium",
          "Medium",
          "Low",
          "Medium",
          "Medium",
          "Medium",
          "Low",
          "High",
          "Medium",
          "Medium",
          "Low",
          "Medium",
          "Low",
          "Low",
          "Medium",
          "Medium",
          "Low",
          "High",
          "High",
          "Low",
          "Medium",
          "Low",
          "Medium",
          "Low",
          "High",
          "High",
          "Medium",
          "Medium",
          "High",
          "Medium",
          "Medium",
          "Medium",
          "High",
          "Medium",
          "Low",
          "Medium",
          "High",
          "Medium",
          "High",
          "Medium",
          "High",
          "Medium",
          "Medium",
          "Medium",
          "Low",
          "Medium",
          "Medium",
          "Medium",
          "Low",
          "Medium",
          "High",
          "Low",
          "Medium",
          "Medium",
          "High",
          "High",
          "Low",
          "Medium",
          "Medium",
          "Medium",
          "High",
          "Low",
          "Low",
          "Low",
          "Medium",
          "Medium",
          "High",
          "Low",
          "High",
          "High",
          "Medium",
          "Medium",
          "Low",
          "High",
          "Medium",
          "Low",
          "High",
          "High",
          "Low",
          "Low",
          "High",
          "Low",
          "Medium",
          "Low",
          "High",
          "Medium",
          "Medium",
          "Low",
          "Medium"
         ],
         "xaxis": "x",
         "yaxis": "y"
        },
        {
         "alignmentgroup": "True",
         "bingroup": "x",
         "hovertemplate": "Jenis Kelamin=Other<br>Tingkat Stres=%{x}<br>count=%{y}<extra></extra>",
         "legendgroup": "Other",
         "marker": {
          "color": "#00cc96",
          "pattern": {
           "shape": ""
          }
         },
         "name": "Other",
         "offsetgroup": "Other",
         "orientation": "v",
         "showlegend": true,
         "type": "histogram",
         "x": [
          "Medium",
          "High",
          "High",
          "Low",
          "Low",
          "Low",
          "Medium",
          "High",
          "Low",
          "Medium",
          "Medium",
          "Medium",
          "Medium",
          "Medium",
          "Medium",
          "High",
          "Low",
          "Medium",
          "High",
          "Medium",
          "Medium",
          "High",
          "Low",
          "Low",
          "Low",
          "Medium",
          "Low",
          "High",
          "High",
          "High",
          "High",
          "Medium",
          "Low",
          "High",
          "Low",
          "Low",
          "Medium",
          "Medium",
          "High",
          "High",
          "Medium",
          "Medium",
          "Low",
          "Medium",
          "Medium",
          "Medium",
          "High",
          "High",
          "Low",
          "Low"
         ],
         "xaxis": "x",
         "yaxis": "y"
        }
       ],
       "layout": {
        "barmode": "group",
        "legend": {
         "title": {
          "text": "Jenis Kelamin"
         },
         "tracegroupgap": 0
        },
        "template": {
         "data": {
          "bar": [
           {
            "error_x": {
             "color": "#2a3f5f"
            },
            "error_y": {
             "color": "#2a3f5f"
            },
            "marker": {
             "line": {
              "color": "#E5ECF6",
              "width": 0.5
             },
             "pattern": {
              "fillmode": "overlay",
              "size": 10,
              "solidity": 0.2
             }
            },
            "type": "bar"
           }
          ],
          "barpolar": [
           {
            "marker": {
             "line": {
              "color": "#E5ECF6",
              "width": 0.5
             },
             "pattern": {
              "fillmode": "overlay",
              "size": 10,
              "solidity": 0.2
             }
            },
            "type": "barpolar"
           }
          ],
          "carpet": [
           {
            "aaxis": {
             "endlinecolor": "#2a3f5f",
             "gridcolor": "white",
             "linecolor": "white",
             "minorgridcolor": "white",
             "startlinecolor": "#2a3f5f"
            },
            "baxis": {
             "endlinecolor": "#2a3f5f",
             "gridcolor": "white",
             "linecolor": "white",
             "minorgridcolor": "white",
             "startlinecolor": "#2a3f5f"
            },
            "type": "carpet"
           }
          ],
          "choropleth": [
           {
            "colorbar": {
             "outlinewidth": 0,
             "ticks": ""
            },
            "type": "choropleth"
           }
          ],
          "contour": [
           {
            "colorbar": {
             "outlinewidth": 0,
             "ticks": ""
            },
            "colorscale": [
             [
              0,
              "#0d0887"
             ],
             [
              0.1111111111111111,
              "#46039f"
             ],
             [
              0.2222222222222222,
              "#7201a8"
             ],
             [
              0.3333333333333333,
              "#9c179e"
             ],
             [
              0.4444444444444444,
              "#bd3786"
             ],
             [
              0.5555555555555556,
              "#d8576b"
             ],
             [
              0.6666666666666666,
              "#ed7953"
             ],
             [
              0.7777777777777778,
              "#fb9f3a"
             ],
             [
              0.8888888888888888,
              "#fdca26"
             ],
             [
              1,
              "#f0f921"
             ]
            ],
            "type": "contour"
           }
          ],
          "contourcarpet": [
           {
            "colorbar": {
             "outlinewidth": 0,
             "ticks": ""
            },
            "type": "contourcarpet"
           }
          ],
          "heatmap": [
           {
            "colorbar": {
             "outlinewidth": 0,
             "ticks": ""
            },
            "colorscale": [
             [
              0,
              "#0d0887"
             ],
             [
              0.1111111111111111,
              "#46039f"
             ],
             [
              0.2222222222222222,
              "#7201a8"
             ],
             [
              0.3333333333333333,
              "#9c179e"
             ],
             [
              0.4444444444444444,
              "#bd3786"
             ],
             [
              0.5555555555555556,
              "#d8576b"
             ],
             [
              0.6666666666666666,
              "#ed7953"
             ],
             [
              0.7777777777777778,
              "#fb9f3a"
             ],
             [
              0.8888888888888888,
              "#fdca26"
             ],
             [
              1,
              "#f0f921"
             ]
            ],
            "type": "heatmap"
           }
          ],
          "histogram": [
           {
            "marker": {
             "pattern": {
              "fillmode": "overlay",
              "size": 10,
              "solidity": 0.2
             }
            },
            "type": "histogram"
           }
          ],
          "histogram2d": [
           {
            "colorbar": {
             "outlinewidth": 0,
             "ticks": ""
            },
            "colorscale": [
             [
              0,
              "#0d0887"
             ],
             [
              0.1111111111111111,
              "#46039f"
             ],
             [
              0.2222222222222222,
              "#7201a8"
             ],
             [
              0.3333333333333333,
              "#9c179e"
             ],
             [
              0.4444444444444444,
              "#bd3786"
             ],
             [
              0.5555555555555556,
              "#d8576b"
             ],
             [
              0.6666666666666666,
              "#ed7953"
             ],
             [
              0.7777777777777778,
              "#fb9f3a"
             ],
             [
              0.8888888888888888,
              "#fdca26"
             ],
             [
              1,
              "#f0f921"
             ]
            ],
            "type": "histogram2d"
           }
          ],
          "histogram2dcontour": [
           {
            "colorbar": {
             "outlinewidth": 0,
             "ticks": ""
            },
            "colorscale": [
             [
              0,
              "#0d0887"
             ],
             [
              0.1111111111111111,
              "#46039f"
             ],
             [
              0.2222222222222222,
              "#7201a8"
             ],
             [
              0.3333333333333333,
              "#9c179e"
             ],
             [
              0.4444444444444444,
              "#bd3786"
             ],
             [
              0.5555555555555556,
              "#d8576b"
             ],
             [
              0.6666666666666666,
              "#ed7953"
             ],
             [
              0.7777777777777778,
              "#fb9f3a"
             ],
             [
              0.8888888888888888,
              "#fdca26"
             ],
             [
              1,
              "#f0f921"
             ]
            ],
            "type": "histogram2dcontour"
           }
          ],
          "mesh3d": [
           {
            "colorbar": {
             "outlinewidth": 0,
             "ticks": ""
            },
            "type": "mesh3d"
           }
          ],
          "parcoords": [
           {
            "line": {
             "colorbar": {
              "outlinewidth": 0,
              "ticks": ""
             }
            },
            "type": "parcoords"
           }
          ],
          "pie": [
           {
            "automargin": true,
            "type": "pie"
           }
          ],
          "scatter": [
           {
            "fillpattern": {
             "fillmode": "overlay",
             "size": 10,
             "solidity": 0.2
            },
            "type": "scatter"
           }
          ],
          "scatter3d": [
           {
            "line": {
             "colorbar": {
              "outlinewidth": 0,
              "ticks": ""
             }
            },
            "marker": {
             "colorbar": {
              "outlinewidth": 0,
              "ticks": ""
             }
            },
            "type": "scatter3d"
           }
          ],
          "scattercarpet": [
           {
            "marker": {
             "colorbar": {
              "outlinewidth": 0,
              "ticks": ""
             }
            },
            "type": "scattercarpet"
           }
          ],
          "scattergeo": [
           {
            "marker": {
             "colorbar": {
              "outlinewidth": 0,
              "ticks": ""
             }
            },
            "type": "scattergeo"
           }
          ],
          "scattergl": [
           {
            "marker": {
             "colorbar": {
              "outlinewidth": 0,
              "ticks": ""
             }
            },
            "type": "scattergl"
           }
          ],
          "scattermap": [
           {
            "marker": {
             "colorbar": {
              "outlinewidth": 0,
              "ticks": ""
             }
            },
            "type": "scattermap"
           }
          ],
          "scattermapbox": [
           {
            "marker": {
             "colorbar": {
              "outlinewidth": 0,
              "ticks": ""
             }
            },
            "type": "scattermapbox"
           }
          ],
          "scatterpolar": [
           {
            "marker": {
             "colorbar": {
              "outlinewidth": 0,
              "ticks": ""
             }
            },
            "type": "scatterpolar"
           }
          ],
          "scatterpolargl": [
           {
            "marker": {
             "colorbar": {
              "outlinewidth": 0,
              "ticks": ""
             }
            },
            "type": "scatterpolargl"
           }
          ],
          "scatterternary": [
           {
            "marker": {
             "colorbar": {
              "outlinewidth": 0,
              "ticks": ""
             }
            },
            "type": "scatterternary"
           }
          ],
          "surface": [
           {
            "colorbar": {
             "outlinewidth": 0,
             "ticks": ""
            },
            "colorscale": [
             [
              0,
              "#0d0887"
             ],
             [
              0.1111111111111111,
              "#46039f"
             ],
             [
              0.2222222222222222,
              "#7201a8"
             ],
             [
              0.3333333333333333,
              "#9c179e"
             ],
             [
              0.4444444444444444,
              "#bd3786"
             ],
             [
              0.5555555555555556,
              "#d8576b"
             ],
             [
              0.6666666666666666,
              "#ed7953"
             ],
             [
              0.7777777777777778,
              "#fb9f3a"
             ],
             [
              0.8888888888888888,
              "#fdca26"
             ],
             [
              1,
              "#f0f921"
             ]
            ],
            "type": "surface"
           }
          ],
          "table": [
           {
            "cells": {
             "fill": {
              "color": "#EBF0F8"
             },
             "line": {
              "color": "white"
             }
            },
            "header": {
             "fill": {
              "color": "#C8D4E3"
             },
             "line": {
              "color": "white"
             }
            },
            "type": "table"
           }
          ]
         },
         "layout": {
          "annotationdefaults": {
           "arrowcolor": "#2a3f5f",
           "arrowhead": 0,
           "arrowwidth": 1
          },
          "autotypenumbers": "strict",
          "coloraxis": {
           "colorbar": {
            "outlinewidth": 0,
            "ticks": ""
           }
          },
          "colorscale": {
           "diverging": [
            [
             0,
             "#8e0152"
            ],
            [
             0.1,
             "#c51b7d"
            ],
            [
             0.2,
             "#de77ae"
            ],
            [
             0.3,
             "#f1b6da"
            ],
            [
             0.4,
             "#fde0ef"
            ],
            [
             0.5,
             "#f7f7f7"
            ],
            [
             0.6,
             "#e6f5d0"
            ],
            [
             0.7,
             "#b8e186"
            ],
            [
             0.8,
             "#7fbc41"
            ],
            [
             0.9,
             "#4d9221"
            ],
            [
             1,
             "#276419"
            ]
           ],
           "sequential": [
            [
             0,
             "#0d0887"
            ],
            [
             0.1111111111111111,
             "#46039f"
            ],
            [
             0.2222222222222222,
             "#7201a8"
            ],
            [
             0.3333333333333333,
             "#9c179e"
            ],
            [
             0.4444444444444444,
             "#bd3786"
            ],
            [
             0.5555555555555556,
             "#d8576b"
            ],
            [
             0.6666666666666666,
             "#ed7953"
            ],
            [
             0.7777777777777778,
             "#fb9f3a"
            ],
            [
             0.8888888888888888,
             "#fdca26"
            ],
            [
             1,
             "#f0f921"
            ]
           ],
           "sequentialminus": [
            [
             0,
             "#0d0887"
            ],
            [
             0.1111111111111111,
             "#46039f"
            ],
            [
             0.2222222222222222,
             "#7201a8"
            ],
            [
             0.3333333333333333,
             "#9c179e"
            ],
            [
             0.4444444444444444,
             "#bd3786"
            ],
            [
             0.5555555555555556,
             "#d8576b"
            ],
            [
             0.6666666666666666,
             "#ed7953"
            ],
            [
             0.7777777777777778,
             "#fb9f3a"
            ],
            [
             0.8888888888888888,
             "#fdca26"
            ],
            [
             1,
             "#f0f921"
            ]
           ]
          },
          "colorway": [
           "#636efa",
           "#EF553B",
           "#00cc96",
           "#ab63fa",
           "#FFA15A",
           "#19d3f3",
           "#FF6692",
           "#B6E880",
           "#FF97FF",
           "#FECB52"
          ],
          "font": {
           "color": "#2a3f5f"
          },
          "geo": {
           "bgcolor": "white",
           "lakecolor": "white",
           "landcolor": "#E5ECF6",
           "showlakes": true,
           "showland": true,
           "subunitcolor": "white"
          },
          "hoverlabel": {
           "align": "left"
          },
          "hovermode": "closest",
          "mapbox": {
           "style": "light"
          },
          "paper_bgcolor": "white",
          "plot_bgcolor": "#E5ECF6",
          "polar": {
           "angularaxis": {
            "gridcolor": "white",
            "linecolor": "white",
            "ticks": ""
           },
           "bgcolor": "#E5ECF6",
           "radialaxis": {
            "gridcolor": "white",
            "linecolor": "white",
            "ticks": ""
           }
          },
          "scene": {
           "xaxis": {
            "backgroundcolor": "#E5ECF6",
            "gridcolor": "white",
            "gridwidth": 2,
            "linecolor": "white",
            "showbackground": true,
            "ticks": "",
            "zerolinecolor": "white"
           },
           "yaxis": {
            "backgroundcolor": "#E5ECF6",
            "gridcolor": "white",
            "gridwidth": 2,
            "linecolor": "white",
            "showbackground": true,
            "ticks": "",
            "zerolinecolor": "white"
           },
           "zaxis": {
            "backgroundcolor": "#E5ECF6",
            "gridcolor": "white",
            "gridwidth": 2,
            "linecolor": "white",
            "showbackground": true,
            "ticks": "",
            "zerolinecolor": "white"
           }
          },
          "shapedefaults": {
           "line": {
            "color": "#2a3f5f"
           }
          },
          "ternary": {
           "aaxis": {
            "gridcolor": "white",
            "linecolor": "white",
            "ticks": ""
           },
           "baxis": {
            "gridcolor": "white",
            "linecolor": "white",
            "ticks": ""
           },
           "bgcolor": "#E5ECF6",
           "caxis": {
            "gridcolor": "white",
            "linecolor": "white",
            "ticks": ""
           }
          },
          "title": {
           "x": 0.05
          },
          "xaxis": {
           "automargin": true,
           "gridcolor": "white",
           "linecolor": "white",
           "ticks": "",
           "title": {
            "standoff": 15
           },
           "zerolinecolor": "white",
           "zerolinewidth": 2
          },
          "yaxis": {
           "automargin": true,
           "gridcolor": "white",
           "linecolor": "white",
           "ticks": "",
           "title": {
            "standoff": 15
           },
           "zerolinecolor": "white",
           "zerolinewidth": 2
          }
         }
        },
        "title": {
         "text": "Distribusi Tingkat Stres Berdasarkan Jenis Kelamin"
        },
        "xaxis": {
         "anchor": "y",
         "categoryarray": [
          "Low",
          "Medium",
          "High"
         ],
         "categoryorder": "array",
         "domain": [
          0,
          1
         ],
         "title": {
          "text": "Tingkat Stres"
         }
        },
        "yaxis": {
         "anchor": "x",
         "domain": [
          0,
          1
         ],
         "title": {
          "text": "count"
         }
        }
       }
      }
     },
     "metadata": {},
     "output_type": "display_data"
    }
   ],
   "source": [
    "# Menggunakan Plotly Express (Box Plot untuk distribusi)\n",
    "fig_gender_sleep = px.box(\n",
    "    df,\n",
    "    x='Gender',\n",
    "    y='Sleep Duration (hrs)',\n",
    "    title='Durasi Tidur Berdasarkan Jenis Kelamin',\n",
    "    labels={'Gender': 'Jenis Kelamin', 'Sleep Duration (hrs)': 'Durasi Tidur (Jam)'},\n",
    "    color='Gender'\n",
    ")\n",
    "fig_gender_sleep.show()\n",
    "\n",
    "# Menggunakan Plotly Express\n",
    "fig_gender_stress = px.histogram(\n",
    "    df,\n",
    "    x='Stress Level',\n",
    "    color='Gender',\n",
    "    title='Distribusi Tingkat Stres Berdasarkan Jenis Kelamin',\n",
    "    labels={'Stress Level': 'Tingkat Stres', 'Gender': 'Jenis Kelamin'},\n",
    "    barmode='group', # Bar bersebelahan\n",
    "    category_orders={'Stress Level': stress_order}\n",
    ")\n",
    "fig_gender_stress.show()"
   ]
  },
  {
   "cell_type": "code",
   "execution_count": 67,
   "id": "dded2516",
   "metadata": {},
   "outputs": [
    {
     "name": "stderr",
     "output_type": "stream",
     "text": [
      "C:\\Users\\ejaad\\AppData\\Local\\Temp\\ipykernel_16812\\1607168842.py:3: FutureWarning:\n",
      "\n",
      "\n",
      "\n",
      "Passing `palette` without assigning `hue` is deprecated and will be removed in v0.14.0. Assign the `x` variable to `hue` and set `legend=False` for the same effect.\n",
      "\n",
      "\n"
     ]
    },
    {
     "data": {
      "image/png": "[encoded data removed]",
      "text/plain": [
       "<Figure size 800x500 with 1 Axes>"
      ]
     },
     "metadata": {},
     "output_type": "display_data"
    },
    {
     "data": {
      "image/png": "[encoded data removed]",
      "text/plain": [
       "<Figure size 1000x600 with 1 Axes>"
      ]
     },
     "metadata": {},
     "output_type": "display_data"
    }
   ],
   "source": [
    "\n",
    "# Menggunakan Seaborn (Violin Plot untuk distribusi dan kepadatan)\n",
    "plt.figure(figsize=(8, 5))\n",
    "sns.violinplot(data=df, x='Gender', y='Sleep Duration (hrs)', palette='pastel')\n",
    "plt.title('Distribusi Durasi Tidur Berdasarkan Jenis Kelamin')\n",
    "plt.xlabel('Jenis Kelamin')\n",
    "plt.ylabel('Durasi Tidur (Jam)')\n",
    "plt.show()\n",
    "\n",
    "# Menggunakan Seaborn\n",
    "plt.figure(figsize=(10, 6))\n",
    "sns.countplot(data=df, x='Stress Level', hue='Gender', order=stress_order, palette='muted')\n",
    "plt.title('Distribusi Tingkat Stres Berdasarkan Jenis Kelamin')\n",
    "plt.xlabel('Tingkat Stres')\n",
    "plt.ylabel('Jumlah Siswa')\n",
    "plt.show()"
   ]
  }
 ],
 "metadata": {
  "kernelspec": {
   "display_name": "Python 3",
   "language": "python",
   "name": "python3"
  },
  "language_info": {
   "codemirror_mode": {
    "name": "ipython",
    "version": 3
   },
   "file_extension": ".py",
   "mimetype": "text/x-python",
   "name": "python",
   "nbconvert_exporter": "python",
   "pygments_lexer": "ipython3",
   "version": "3.11.11"
  }
 },
 "nbformat": 4,
 "nbformat_minor": 5
}
